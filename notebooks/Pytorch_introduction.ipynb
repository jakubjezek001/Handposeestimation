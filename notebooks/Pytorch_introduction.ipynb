{
 "cells": [
  {
   "cell_type": "markdown",
   "metadata": {},
   "source": [
    "## Libraries"
   ]
  },
  {
   "cell_type": "code",
   "execution_count": null,
   "metadata": {
    "ExecuteTime": {
     "end_time": "2020-09-10T22:03:15.260120Z",
     "start_time": "2020-09-10T22:03:15.252677Z"
    }
   },
   "outputs": [],
   "source": [
    "import os\n",
    "\n",
    "import matplotlib.pyplot as plt\n",
    "import numpy as np\n",
    "import pytorch_lightning as pl\n",
    "from pytorch_lightning import loggers as pl_loggers\n",
    "from pytorch_lightning.core.lightning import LightningModule\n",
    "from PIL import Image\n",
    "from skimage import io, transform\n",
    "import seaborn as sns\n",
    "import torch\n",
    "import torchvision\n",
    "from torchvision import transforms\n",
    "from torch.utils.data import Dataset, DataLoader\n",
    "from torch.nn import functional as F"
   ]
  },
  {
   "cell_type": "markdown",
   "metadata": {},
   "source": [
    "## Data Loader class"
   ]
  },
  {
   "cell_type": "code",
   "execution_count": null,
   "metadata": {
    "ExecuteTime": {
     "end_time": "2020-09-10T21:32:23.151732Z",
     "start_time": "2020-09-10T21:32:23.134967Z"
    }
   },
   "outputs": [],
   "source": [
    "class F_DB(Dataset):\n",
    "    def __init__(self, root_dir: str, labels_path: str, gray: bool, transform):\n",
    "        self.root_dir = root_dir\n",
    "        self.labels = self.get_labels(labels_path)\n",
    "        self.img_names = self.get_image_names()\n",
    "        self.transform = transform\n",
    "        self.gray = gray\n",
    "\n",
    "    def get_image_names(self):\n",
    "        img_names = next(os.walk(self.root_dir))[2]\n",
    "        img_names.sort()\n",
    "        return img_names\n",
    "\n",
    "    def get_labels(self, lables_path):\n",
    "        with open(lables_path, \"r\") as f:\n",
    "            return json.load(f)\n",
    "        return None\n",
    "\n",
    "    def __len__(self):\n",
    "        return len(self.labels)\n",
    "\n",
    "    def __getitem__(self, idx):\n",
    "        if torch.is_tensor(idx):\n",
    "            idx = idx.tolist()\n",
    "\n",
    "        img_name = os.path.join(self.root_dir, self.img_names[idx])\n",
    "        img = io.imread(img_name, as_gray=self.gray)\n",
    "        joints = torch.from_numpy(np.array(self.labels[idx])).float()\n",
    "\n",
    "        sample = {\"image\": img, \"joints\": joints}\n",
    "        if self.transform:\n",
    "            sample['image'] = self.transform(sample['image'])\n",
    "\n",
    "        return sample"
   ]
  },
  {
   "cell_type": "code",
   "execution_count": null,
   "metadata": {
    "ExecuteTime": {
     "end_time": "2020-09-10T21:32:25.969991Z",
     "start_time": "2020-09-10T21:32:23.487500Z"
    }
   },
   "outputs": [],
   "source": [
    "f_db = F_DB(root_dir='../data/raw/FreiHAND_pub_v2/training/rgb',\n",
    "           labels_path='../data/raw/FreiHAND_pub_v2/training_xyz.json', transform =transforms.Compose([\n",
    "#     transforms.Resize(256),\n",
    "#     transforms.CenterCrop(224),\n",
    "    transforms.ToTensor(),\n",
    "    transforms.Normalize(mean=[0.485, 0.456, 0.406], std=[0.229, 0.224, 0.225]),              \n",
    "]), gray=False)"
   ]
  },
  {
   "cell_type": "code",
   "execution_count": null,
   "metadata": {
    "ExecuteTime": {
     "end_time": "2020-09-10T22:02:51.755416Z",
     "start_time": "2020-09-10T22:02:51.745671Z"
    }
   },
   "outputs": [],
   "source": [
    "class BasicHandPose(LightningModule):\n",
    "    def __init__(self, freeze_resnet=True):\n",
    "        super().__init__()\n",
    "\n",
    "        self.resnet18 = torchvision.models.resnet18(pretrained=True)\n",
    "        if freeze_resnet:\n",
    "            for param in model.parameters():\n",
    "                param.requires_grad = False\n",
    "        self.resnet18.fc = torch.nn.Linear(self.resnet18.fc.in_features, 128)\n",
    "\n",
    "        self.layer_1 = torch.nn.Linear(128, 128)\n",
    "        self.output_layer = torch.nn.Linear(128, 21 * 3)\n",
    "\n",
    "    def forward(self, x):\n",
    "        batch_size, channel, width, height = x.size()\n",
    "\n",
    "        x = self.resnet18(x)\n",
    "        x = self.layer_1(x)\n",
    "        x = F.relu(x)\n",
    "        x = self.output_layer(x)\n",
    "        x = x.view(batch_size, 21, 3)\n",
    "        return x\n",
    "\n",
    "    def training_step(self, batch, batch_idx):\n",
    "        x, y = batch[\"image\"], batch[\"joints\"]\n",
    "        #         print(x)\n",
    "        prediction = self(x)\n",
    "        loss = F.mse_loss(prediction, y)\n",
    "        result = pl.TrainResult(loss)\n",
    "        result.log(\"train_loss\", loss)\n",
    "        return result\n",
    "\n",
    "    def configure_optimizers(self):\n",
    "        return torch.optim.Adam(self.parameters(), lr=1e-3)"
   ]
  },
  {
   "cell_type": "code",
   "execution_count": null,
   "metadata": {
    "ExecuteTime": {
     "end_time": "2020-09-10T22:00:48.507825Z",
     "start_time": "2020-09-10T22:00:48.501886Z"
    }
   },
   "outputs": [],
   "source": [
    "# model = torch.hub.load('pytorch/vision:v0.6.0', 'resnet18', pretrained=True)"
   ]
  },
  {
   "cell_type": "code",
   "execution_count": null,
   "metadata": {
    "ExecuteTime": {
     "end_time": "2020-09-10T22:00:49.189380Z",
     "start_time": "2020-09-10T22:00:49.181603Z"
    }
   },
   "outputs": [],
   "source": [
    "# model.fc = torch.nn.Linear(model.fc.in_features,128) "
   ]
  },
  {
   "cell_type": "code",
   "execution_count": null,
   "metadata": {
    "ExecuteTime": {
     "end_time": "2020-09-10T22:03:23.752507Z",
     "start_time": "2020-09-10T22:03:23.110057Z"
    }
   },
   "outputs": [],
   "source": [
    "model = BasicHandPose()\n",
    "out  = model(f_db[0]['image'].view(1,3, 224, 224).float())"
   ]
  },
  {
   "cell_type": "code",
   "execution_count": null,
   "metadata": {
    "ExecuteTime": {
     "end_time": "2020-09-10T21:57:00.371535Z",
     "start_time": "2020-09-10T21:57:00.368585Z"
    }
   },
   "outputs": [],
   "source": [
    "dta = DataLoader(f_db , batch_size = 16)"
   ]
  },
  {
   "cell_type": "code",
   "execution_count": null,
   "metadata": {
    "ExecuteTime": {
     "end_time": "2020-09-10T22:04:53.217893Z",
     "start_time": "2020-09-10T22:03:54.011002Z"
    }
   },
   "outputs": [],
   "source": [
    "from pytorch_lightning import Trainer\n",
    "trainer = Trainer(max_epochs=3)\n",
    "trainer.fit(model, dta)"
   ]
  },
  {
   "cell_type": "markdown",
   "metadata": {},
   "source": [
    "#### Unsupervised landmark detection"
   ]
  },
  {
   "cell_type": "code",
   "execution_count": null,
   "metadata": {},
   "outputs": [],
   "source": [
    "WEIGHTS = torch.tensor([i for  i in range(x_distribution.shape[-1])]).double()\n",
    "SIGMA = 5\n",
    "class Net(Module):   \n",
    "    def __init__(self):\n",
    "        super(Net, self).__init__()\n",
    "        \n",
    "        self.block1 = Sequential(\n",
    "            Conv2d(1, 32, kernel_size=7, stride=2, padding=1),\n",
    "            ReLU(inplace=True),\n",
    "            Conv2d(32, 32, kernel_size=7, stride=1, padding=1),\n",
    "            ReLU(inplace=True)\n",
    "        )\n",
    "        self.block2 = Sequential(\n",
    "            Conv2d(32, 64, kernel_size=3, stride=2, padding=1),\n",
    "            ReLU(inplace=True),\n",
    "            Conv2d(64, 128, kernel_size=3, stride=2, padding=1),\n",
    "            ReLU(inplace=True)\n",
    "        )\n",
    "        \n",
    "        self.block3 = Sequential(\n",
    "            Conv2d(128, 21, kernel_size=1, stride=1, padding=1)\n",
    "        )\n",
    "        \n",
    "    \n",
    "    def spatial_expectations(self, x):\n",
    "        sum_of_channels = torch.sum(x, dim=(2,3))\n",
    "        normalized_channels = x/sum_of_channels \n",
    "        x_distribution = torch.sum(x, dim=(2))\n",
    "        y_distribution = torch.sum(x, dim=(3))\n",
    "        mean_x = torch.matmul(x_distribution, WEIGHTS)\n",
    "        mean_y = torch.matmul(y_distribution, WEIGHTS)\n",
    "        return mean_x, mean_y\n",
    "    \n",
    "    def gaussian_heatmaps(self, mean_x, mean_y):\n",
    "        mean_x = np.array([112])\n",
    "        mean_y = np.array([112])\n",
    "        data   = np.array([1.0])\n",
    "        temp   = coo_matrix((data, (mean_x, mean_y)), shape=(244, 244)).toarray()\n",
    "        \n",
    "        \n",
    "        \n",
    "    # Defining the forward pass    \n",
    "    def forward(self, x):\n",
    "        x = self.block1(x)\n",
    "        x = self.block2(x)\n",
    "        x = self.block3(x)\n",
    "        mean_x, mean_y = self.spatial_expectations(x)\n",
    "        \n",
    "        \n",
    "        return x"
   ]
  },
  {
   "cell_type": "code",
   "execution_count": null,
   "metadata": {},
   "outputs": [],
   "source": [
    "x, y = np.random.multivariate_normal([1,1], [[1,0],[0,1]], 5000).T"
   ]
  },
  {
   "cell_type": "code",
   "execution_count": null,
   "metadata": {},
   "outputs": [],
   "source": [
    "x.shape"
   ]
  },
  {
   "cell_type": "code",
   "execution_count": null,
   "metadata": {},
   "outputs": [],
   "source": [
    "model = Net()\n",
    "print(model)"
   ]
  },
  {
   "cell_type": "code",
   "execution_count": null,
   "metadata": {},
   "outputs": [],
   "source": [
    "model(torch.from_numpy(f_db[2]['image'].reshape(1,1,224,224)).float()).shape"
   ]
  },
  {
   "cell_type": "code",
   "execution_count": null,
   "metadata": {},
   "outputs": [],
   "source": []
  }
 ],
 "metadata": {
  "kernelspec": {
   "display_name": "Python 3",
   "language": "python",
   "name": "python3"
  },
  "language_info": {
   "codemirror_mode": {
    "name": "ipython",
    "version": 3
   },
   "file_extension": ".py",
   "mimetype": "text/x-python",
   "name": "python",
   "nbconvert_exporter": "python",
   "pygments_lexer": "ipython3",
   "version": "3.6.9"
  },
  "toc": {
   "base_numbering": 1,
   "nav_menu": {},
   "number_sections": true,
   "sideBar": true,
   "skip_h1_title": false,
   "title_cell": "Table of Contents",
   "title_sidebar": "Contents",
   "toc_cell": false,
   "toc_position": {
    "height": "calc(100% - 180px)",
    "left": "10px",
    "top": "150px",
    "width": "165px"
   },
   "toc_section_display": true,
   "toc_window_display": true
  },
  "varInspector": {
   "cols": {
    "lenName": 16,
    "lenType": 16,
    "lenVar": 40
   },
   "kernels_config": {
    "python": {
     "delete_cmd_postfix": "",
     "delete_cmd_prefix": "del ",
     "library": "var_list.py",
     "varRefreshCmd": "print(var_dic_list())"
    },
    "r": {
     "delete_cmd_postfix": ") ",
     "delete_cmd_prefix": "rm(",
     "library": "var_list.r",
     "varRefreshCmd": "cat(var_dic_list()) "
    }
   },
   "types_to_exclude": [
    "module",
    "function",
    "builtin_function_or_method",
    "instance",
    "_Feature"
   ],
   "window_display": false
  }
 },
 "nbformat": 4,
 "nbformat_minor": 4
}
