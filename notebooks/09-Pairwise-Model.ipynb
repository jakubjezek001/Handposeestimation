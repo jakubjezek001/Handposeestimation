{
 "cells": [
  {
   "cell_type": "markdown",
   "metadata": {
    "ExecuteTime": {
     "end_time": "2020-10-29T10:35:23.593472Z",
     "start_time": "2020-10-29T10:35:23.591779Z"
    }
   },
   "source": [
    "# Import Libraries"
   ]
  },
  {
   "cell_type": "code",
   "execution_count": null,
   "metadata": {
    "ExecuteTime": {
     "end_time": "2020-10-29T11:37:30.940741Z",
     "start_time": "2020-10-29T11:37:28.592254Z"
    }
   },
   "outputs": [],
   "source": [
    "from src.models.pairwise_model import PairwiseModel\n",
    "import os\n",
    "import torch\n",
    "from torchvision import transforms\n",
    "from torch.utils.data import DataLoader\n",
    "from src.data_loader.data_set import Data_Set\n",
    "from src.data_loader.utils import get_train_val_split\n",
    "from src.constants import MASTER_THESIS_DIR, FREIHAND_DATA, PAIRWISE_CONFIG, DATA_PATH\n",
    "from src.utils import read_json\n",
    "import matplotlib.pyplot as plt\n",
    "from ipywidgets import interact\n",
    "import ipywidgets as widgets\n",
    "from IPython.display import display\n",
    "import copy\n",
    "from easydict import EasyDict as edict\n",
    "from src.utils import read_json, get_console_logger\n",
    "from src.visualization.visualize import plot_hand\n",
    "from pytorch_lightning import Trainer, seed_everything\n",
    "\n",
    "from src.models.callbacks.upload_comet_logs import UploadCometLogs\n",
    "from pytorch_lightning.loggers import CometLogger\n",
    "from pytorch_lightning.callbacks import LearningRateMonitor"
   ]
  },
  {
   "cell_type": "code",
   "execution_count": null,
   "metadata": {
    "ExecuteTime": {
     "end_time": "2020-10-29T11:37:33.216848Z",
     "start_time": "2020-10-29T11:37:32.125025Z"
    }
   },
   "outputs": [],
   "source": [
    "train_param = edict(read_json(f\"{MASTER_THESIS_DIR}/src/experiments/config/training_config.json\"))\n",
    "train_data = Data_Set(\n",
    "    config=train_param,\n",
    "    transform=transforms.ToTensor(),\n",
    "    train_set=True,\n",
    "    experiment_type='pairwise'\n",
    ")\n",
    "val_data = copy.copy(train_data)\n",
    "val_data.is_training(False)\n",
    "\n",
    "train_data_loader, val_data_loader = get_train_val_split(train_data,\n",
    "    batch_size=train_param.batch_size,\n",
    "    num_workers=train_param.num_workers,\n",
    ")\n"
   ]
  },
  {
   "cell_type": "code",
   "execution_count": null,
   "metadata": {
    "ExecuteTime": {
     "end_time": "2020-10-29T11:44:39.851209Z",
     "start_time": "2020-10-29T11:44:39.684692Z"
    }
   },
   "outputs": [],
   "source": [
    "model_param = edict(read_json(PAIRWISE_CONFIG))\n",
    "model_param.num_samples = len(train_data)\n",
    "model = PairwiseModel(model_param)\n",
    "model_param.warmup_epochs=1"
   ]
  },
  {
   "cell_type": "code",
   "execution_count": null,
   "metadata": {
    "ExecuteTime": {
     "end_time": "2020-10-29T11:44:46.277145Z",
     "start_time": "2020-10-29T11:44:46.269762Z"
    }
   },
   "outputs": [],
   "source": [
    "comet_logger = CometLogger(\n",
    "    api_key=os.environ.get(\"COMET_API_KEY\"),\n",
    "    project_name=\"master-thesis\",\n",
    "    workspace=\"dahiyaaneesh\",\n",
    "    save_dir=os.path.join(DATA_PATH, \"models\"),\n",
    ")\n",
    "upload_comet_logs = UploadCometLogs(\n",
    "    \"step\", get_console_logger(\"callback\"), \"pairwise\"\n",
    ")\n",
    "lr_monitor = LearningRateMonitor(logging_interval=\"step\")\n",
    "trainer = Trainer(precision=16,\n",
    "                  logger = comet_logger,\n",
    "    callbacks=[upload_comet_logs, lr_monitor],\n",
    "    gpus=\"1\",\n",
    "    max_epochs=train_param.epochs,\n",
    ")"
   ]
  },
  {
   "cell_type": "code",
   "execution_count": null,
   "metadata": {
    "ExecuteTime": {
     "end_time": "2020-10-29T12:19:41.697380Z",
     "start_time": "2020-10-29T11:44:47.933955Z"
    }
   },
   "outputs": [],
   "source": [
    "trainer.fit(model,train_data_loader, val_data_loader)"
   ]
  },
  {
   "cell_type": "code",
   "execution_count": null,
   "metadata": {},
   "outputs": [],
   "source": []
  }
 ],
 "metadata": {
  "kernelspec": {
   "display_name": "Python 3",
   "language": "python",
   "name": "python3"
  },
  "language_info": {
   "codemirror_mode": {
    "name": "ipython",
    "version": 3
   },
   "file_extension": ".py",
   "mimetype": "text/x-python",
   "name": "python",
   "nbconvert_exporter": "python",
   "pygments_lexer": "ipython3",
   "version": "3.6.9"
  },
  "toc": {
   "base_numbering": 1,
   "nav_menu": {},
   "number_sections": true,
   "sideBar": true,
   "skip_h1_title": false,
   "title_cell": "Table of Contents",
   "title_sidebar": "Contents",
   "toc_cell": false,
   "toc_position": {},
   "toc_section_display": true,
   "toc_window_display": false
  },
  "varInspector": {
   "cols": {
    "lenName": 16,
    "lenType": 16,
    "lenVar": 40
   },
   "kernels_config": {
    "python": {
     "delete_cmd_postfix": "",
     "delete_cmd_prefix": "del ",
     "library": "var_list.py",
     "varRefreshCmd": "print(var_dic_list())"
    },
    "r": {
     "delete_cmd_postfix": ") ",
     "delete_cmd_prefix": "rm(",
     "library": "var_list.r",
     "varRefreshCmd": "cat(var_dic_list()) "
    }
   },
   "types_to_exclude": [
    "module",
    "function",
    "builtin_function_or_method",
    "instance",
    "_Feature"
   ],
   "window_display": false
  }
 },
 "nbformat": 4,
 "nbformat_minor": 4
}
