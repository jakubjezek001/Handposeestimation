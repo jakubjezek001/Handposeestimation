{
 "cells": [
  {
   "cell_type": "code",
   "execution_count": 5,
   "metadata": {
    "ExecuteTime": {
     "end_time": "2021-01-04T11:17:13.434578Z",
     "start_time": "2021-01-04T11:17:13.428777Z"
    }
   },
   "outputs": [],
   "source": [
    "import torch\n",
    "import os\n",
    "from typing import List\n",
    "\n",
    "import cv2\n",
    "import torch\n",
    "from src.data_loader.joints import Joints\n",
    "from src.utils import read_json\n",
    "from torch.utils.data import Dataset\n",
    "import matplotlib.pyplot as plt\n",
    "import pandas as pd\n",
    "from src.visualization.visualize import plot_hand\n",
    "from src.data_loader.joints import Joints\n",
    "from src.data_loader.utils import convert_to_2_5D\n",
    "import ipywidgets as widgets\n",
    "from IPython.display import display\n",
    "from ipywidgets import interactive,GridspecLayout, interact\n",
    "from tqdm.notebook import tqdm"
   ]
  },
  {
   "cell_type": "code",
   "execution_count": 6,
   "metadata": {
    "ExecuteTime": {
     "end_time": "2021-01-04T11:17:15.560581Z",
     "start_time": "2021-01-04T11:17:15.555290Z"
    }
   },
   "outputs": [],
   "source": [
    "from src.data_loader.interhand_loader import IH_DB\n",
    "from src.data_loader.data_set import Data_Set\n",
    "from src.constants import MASTER_THESIS_DIR, FREIHAND_DATA\n",
    "from easydict import EasyDict as edict\n",
    "from torchvision import transforms"
   ]
  },
  {
   "cell_type": "code",
   "execution_count": 7,
   "metadata": {
    "ExecuteTime": {
     "end_time": "2021-01-04T11:17:30.472338Z",
     "start_time": "2021-01-04T11:17:17.606437Z"
    }
   },
   "outputs": [],
   "source": [
    "train_param = edict(\n",
    "    read_json(f\"{MASTER_THESIS_DIR}/src/experiments/config/training_config.json\")\n",
    ")\n",
    "train_data = Data_Set(\n",
    "    config=train_param,\n",
    "    transform=transforms.ToTensor(),\n",
    "    train_set=True,\n",
    "    experiment_type=\"supervised\",\n",
    "   source =  'interhand'\n",
    ")\n",
    "# data = IH_DB(\"/home/aneesh/Documents/master_thesis/data/raw/InterHand\",\"train\")\n",
    "# train_data =data"
   ]
  },
  {
   "cell_type": "markdown",
   "metadata": {},
   "source": [
    "## Check number of joints out of the frame."
   ]
  },
  {
   "cell_type": "code",
   "execution_count": 10,
   "metadata": {
    "ExecuteTime": {
     "end_time": "2021-01-04T11:19:58.946593Z",
     "start_time": "2021-01-04T11:19:58.941631Z"
    },
    "scrolled": true
   },
   "outputs": [],
   "source": [
    "indices = []\n",
    "for i in tqdm(range(len(train_data))):\n",
    "    sample = data[i]\n",
    "    j  = sample['joints3D']\n",
    "    k = sample['K']\n",
    "    if (((j@k.T)/(j@k.T)[:,-1:])[:,:-1]>700).any():\n",
    "        indices.append(i)\n",
    "print(len(indices))\n",
    "# len(indices)/len(data)"
   ]
  },
  {
   "cell_type": "markdown",
   "metadata": {},
   "source": [
    "## Visualize data.(from data_set class)"
   ]
  },
  {
   "cell_type": "code",
   "execution_count": 9,
   "metadata": {
    "ExecuteTime": {
     "end_time": "2021-01-04T11:17:49.473319Z",
     "start_time": "2021-01-04T11:17:49.047808Z"
    }
   },
   "outputs": [
    {
     "data": {
      "application/vnd.jupyter.widget-view+json": {
       "model_id": "e26c8a72017b47afae9bd021569691bb",
       "version_major": 2,
       "version_minor": 0
      },
      "text/plain": [
       "interactive(children=(IntSlider(value=264, description='idx', max=369270), Output()), _dom_classes=('widget-in…"
      ]
     },
     "metadata": {},
     "output_type": "display_data"
    }
   ],
   "source": [
    "@interact(\n",
    "    idx=widgets.IntSlider(min=0, max=369270, step=1, value=264))\n",
    "def visualize(idx):\n",
    "    sample = train_data[idx]\n",
    "    fig = plt.figure(figsize=(20,20))\n",
    "    ax = fig.add_subplot(131)\n",
    "    plt.imshow(transforms.ToPILImage()(sample[\"image\"]))\n",
    "    ax.set_title(\"Image\")\n",
    "    plot_hand(ax,sample['joints'])\n",
    "    ax2 = fig.add_subplot(132,projection=\"3d\")\n",
    "    plot_hand(ax2, sample['joints3D'],plot_3d=True, )\n",
    "    ax2.set_title(\"Ground Truth\")\n",
    "    ax3 = fig.add_subplot(133,projection=\"3d\")\n",
    "    plot_hand(ax3, sample['joints3D_recreated'],plot_3d=True, )\n",
    "    plot_hand(ax3, sample['joints3D'],plot_3d=True,alpha=0.5, linestyle=\":\" )\n",
    "    ax3.set_title(\"Recreated\")\n",
    "#     print(sample)\n",
    "    plt.show()"
   ]
  },
  {
   "cell_type": "code",
   "execution_count": 11,
   "metadata": {
    "ExecuteTime": {
     "end_time": "2021-01-04T11:21:43.415138Z",
     "start_time": "2021-01-04T11:21:43.410876Z"
    },
    "code_folding": [
     0
    ]
   },
   "outputs": [],
   "source": [
    "# @interact(\n",
    "#     idx=widgets.IntSlider(min=0, max=369270, step=1, value=264))\n",
    "# def visualize(idx):\n",
    "#     sample = train_data[idx]\n",
    "# #     sample['joints3D'][:,-1]+=1e-6\n",
    "#     joints25,_ = convert_to_2_5D(sample['K'], sample['joints3D'])\n",
    "#     if torch.isnan(joints25).any():\n",
    "#         print(joints25, sample['K'], sample['joints3D'])\n",
    "# #     img =  torch.flip(torch.from_numpy(sample[\"image\"]), (0,))\n",
    "#     fig = plt.figure(figsize=(20,20))\n",
    "#     ax = fig.add_subplot(131)\n",
    "# #     plt.imshow(transforms.ToPILImage()(img))\n",
    "# #     print(sample['joints'])\n",
    "#     plt.imshow(sample['image'])\n",
    "#     ax.set_title(\"Image\")\n",
    "#     j  = sample['joints3D']\n",
    "#     k = sample['K']\n",
    "#     j = (j@k.T)/(j@k.T)[:,-1:]\n",
    "# #     plot_hand(ax, j)\n",
    "#     plot_hand(ax,joints25)\n",
    "# #     plot_hand(ax,sample['joints'])\n",
    "#     ax2 = fig.add_subplot(132,projection=\"3d\")\n",
    "#     plot_hand(ax2, train_data[idx]['joints3Dworld'],plot_3d=True, )\n",
    "#     ax2.set_title(\"Joints world frame\")\n",
    "#     ax3 = fig.add_subplot(133,projection=\"3d\")\n",
    "#     plot_hand(ax3, train_data[idx]['joints3D'],plot_3d=True, )\n",
    "#     ax3.set_title(\"Joints camera frame\")\n",
    "    \n",
    "# #     plt.savefig(\"interhand_correct_annotations.png\",bbox_inches='tight')\n",
    "#     plt.show()\n",
    "# #     print(train_data[idx]['joints3Dworld'])\n",
    "# #     print(j - joints25)"
   ]
  }
 ],
 "metadata": {
  "kernelspec": {
   "display_name": "Python 3",
   "language": "python",
   "name": "python3"
  },
  "language_info": {
   "codemirror_mode": {
    "name": "ipython",
    "version": 3
   },
   "file_extension": ".py",
   "mimetype": "text/x-python",
   "name": "python",
   "nbconvert_exporter": "python",
   "pygments_lexer": "ipython3",
   "version": "3.8.5"
  },
  "toc": {
   "base_numbering": 1,
   "nav_menu": {},
   "number_sections": true,
   "sideBar": true,
   "skip_h1_title": false,
   "title_cell": "Table of Contents",
   "title_sidebar": "Contents",
   "toc_cell": false,
   "toc_position": {},
   "toc_section_display": true,
   "toc_window_display": false
  },
  "varInspector": {
   "cols": {
    "lenName": 16,
    "lenType": 16,
    "lenVar": 40
   },
   "kernels_config": {
    "python": {
     "delete_cmd_postfix": "",
     "delete_cmd_prefix": "del ",
     "library": "var_list.py",
     "varRefreshCmd": "print(var_dic_list())"
    },
    "r": {
     "delete_cmd_postfix": ") ",
     "delete_cmd_prefix": "rm(",
     "library": "var_list.r",
     "varRefreshCmd": "cat(var_dic_list()) "
    }
   },
   "types_to_exclude": [
    "module",
    "function",
    "builtin_function_or_method",
    "instance",
    "_Feature"
   ],
   "window_display": false
  }
 },
 "nbformat": 4,
 "nbformat_minor": 4
}
