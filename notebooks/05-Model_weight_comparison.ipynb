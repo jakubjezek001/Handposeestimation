{
 "cells": [
  {
   "cell_type": "code",
   "execution_count": 1,
   "metadata": {
    "ExecuteTime": {
     "end_time": "2020-12-02T13:51:31.653978Z",
     "start_time": "2020-12-02T13:51:31.288459Z"
    }
   },
   "outputs": [],
   "source": [
    "import torch"
   ]
  },
  {
   "cell_type": "code",
   "execution_count": 13,
   "metadata": {
    "ExecuteTime": {
     "end_time": "2020-10-29T16:12:27.124096Z",
     "start_time": "2020-10-29T16:12:27.043707Z"
    }
   },
   "outputs": [],
   "source": [
    "simclr_weights= torch.load(\"/local/home/adahiya/Documents/master_thesis/data/models/master-thesis/9f302cea72a2459eb14dfad33b1a9783/checkpoints/epoch=51.ckpt\")[\"state_dict\"]\n",
    "encoder_keys = [ key for key in  list(simclr_weights) if 'projection_head' not in key]"
   ]
  },
  {
   "cell_type": "code",
   "execution_count": null,
   "metadata": {
    "ExecuteTime": {
     "end_time": "2020-10-21T14:33:19.597549Z",
     "start_time": "2020-10-21T14:33:19.565738Z"
    }
   },
   "outputs": [],
   "source": [
    "ssl_model_weights = torch.load(\"/local/home/adahiya/Documents/master_thesis/data/models/master-thesis/abf5b702ea4c4ad78703b6f81221acd4/checkpoints/epoch=149.ckpt\")['state_dict']"
   ]
  },
  {
   "cell_type": "code",
   "execution_count": null,
   "metadata": {
    "ExecuteTime": {
     "end_time": "2020-10-21T14:35:35.999774Z",
     "start_time": "2020-10-21T14:35:35.976724Z"
    }
   },
   "outputs": [],
   "source": [
    "for key in encoder_keys:\n",
    "    if not torch.equal(simclr_weights[key], ssl_model_weights[key]):\n",
    "        print(key)"
   ]
  },
  {
   "cell_type": "code",
   "execution_count": null,
   "metadata": {
    "ExecuteTime": {
     "end_time": "2020-10-21T14:34:03.184681Z",
     "start_time": "2020-10-21T14:34:03.156769Z"
    }
   },
   "outputs": [],
   "source": [
    "simclr_weights[encoder_keys[0]]"
   ]
  },
  {
   "cell_type": "code",
   "execution_count": 14,
   "metadata": {
    "ExecuteTime": {
     "end_time": "2020-10-29T16:12:30.652244Z",
     "start_time": "2020-10-29T16:12:30.648798Z"
    }
   },
   "outputs": [
    {
     "data": {
      "text/plain": [
       "['encoder.conv1.weight',\n",
       " 'encoder.bn1.weight',\n",
       " 'encoder.bn1.bias',\n",
       " 'encoder.bn1.running_mean',\n",
       " 'encoder.bn1.running_var',\n",
       " 'encoder.bn1.num_batches_tracked',\n",
       " 'encoder.layer1.0.conv1.weight',\n",
       " 'encoder.layer1.0.bn1.weight',\n",
       " 'encoder.layer1.0.bn1.bias',\n",
       " 'encoder.layer1.0.bn1.running_mean',\n",
       " 'encoder.layer1.0.bn1.running_var',\n",
       " 'encoder.layer1.0.bn1.num_batches_tracked',\n",
       " 'encoder.layer1.0.conv2.weight',\n",
       " 'encoder.layer1.0.bn2.weight',\n",
       " 'encoder.layer1.0.bn2.bias',\n",
       " 'encoder.layer1.0.bn2.running_mean',\n",
       " 'encoder.layer1.0.bn2.running_var',\n",
       " 'encoder.layer1.0.bn2.num_batches_tracked',\n",
       " 'encoder.layer1.1.conv1.weight',\n",
       " 'encoder.layer1.1.bn1.weight',\n",
       " 'encoder.layer1.1.bn1.bias',\n",
       " 'encoder.layer1.1.bn1.running_mean',\n",
       " 'encoder.layer1.1.bn1.running_var',\n",
       " 'encoder.layer1.1.bn1.num_batches_tracked',\n",
       " 'encoder.layer1.1.conv2.weight',\n",
       " 'encoder.layer1.1.bn2.weight',\n",
       " 'encoder.layer1.1.bn2.bias',\n",
       " 'encoder.layer1.1.bn2.running_mean',\n",
       " 'encoder.layer1.1.bn2.running_var',\n",
       " 'encoder.layer1.1.bn2.num_batches_tracked',\n",
       " 'encoder.layer2.0.conv1.weight',\n",
       " 'encoder.layer2.0.bn1.weight',\n",
       " 'encoder.layer2.0.bn1.bias',\n",
       " 'encoder.layer2.0.bn1.running_mean',\n",
       " 'encoder.layer2.0.bn1.running_var',\n",
       " 'encoder.layer2.0.bn1.num_batches_tracked',\n",
       " 'encoder.layer2.0.conv2.weight',\n",
       " 'encoder.layer2.0.bn2.weight',\n",
       " 'encoder.layer2.0.bn2.bias',\n",
       " 'encoder.layer2.0.bn2.running_mean',\n",
       " 'encoder.layer2.0.bn2.running_var',\n",
       " 'encoder.layer2.0.bn2.num_batches_tracked',\n",
       " 'encoder.layer2.0.downsample.0.weight',\n",
       " 'encoder.layer2.0.downsample.1.weight',\n",
       " 'encoder.layer2.0.downsample.1.bias',\n",
       " 'encoder.layer2.0.downsample.1.running_mean',\n",
       " 'encoder.layer2.0.downsample.1.running_var',\n",
       " 'encoder.layer2.0.downsample.1.num_batches_tracked',\n",
       " 'encoder.layer2.1.conv1.weight',\n",
       " 'encoder.layer2.1.bn1.weight',\n",
       " 'encoder.layer2.1.bn1.bias',\n",
       " 'encoder.layer2.1.bn1.running_mean',\n",
       " 'encoder.layer2.1.bn1.running_var',\n",
       " 'encoder.layer2.1.bn1.num_batches_tracked',\n",
       " 'encoder.layer2.1.conv2.weight',\n",
       " 'encoder.layer2.1.bn2.weight',\n",
       " 'encoder.layer2.1.bn2.bias',\n",
       " 'encoder.layer2.1.bn2.running_mean',\n",
       " 'encoder.layer2.1.bn2.running_var',\n",
       " 'encoder.layer2.1.bn2.num_batches_tracked',\n",
       " 'encoder.layer3.0.conv1.weight',\n",
       " 'encoder.layer3.0.bn1.weight',\n",
       " 'encoder.layer3.0.bn1.bias',\n",
       " 'encoder.layer3.0.bn1.running_mean',\n",
       " 'encoder.layer3.0.bn1.running_var',\n",
       " 'encoder.layer3.0.bn1.num_batches_tracked',\n",
       " 'encoder.layer3.0.conv2.weight',\n",
       " 'encoder.layer3.0.bn2.weight',\n",
       " 'encoder.layer3.0.bn2.bias',\n",
       " 'encoder.layer3.0.bn2.running_mean',\n",
       " 'encoder.layer3.0.bn2.running_var',\n",
       " 'encoder.layer3.0.bn2.num_batches_tracked',\n",
       " 'encoder.layer3.0.downsample.0.weight',\n",
       " 'encoder.layer3.0.downsample.1.weight',\n",
       " 'encoder.layer3.0.downsample.1.bias',\n",
       " 'encoder.layer3.0.downsample.1.running_mean',\n",
       " 'encoder.layer3.0.downsample.1.running_var',\n",
       " 'encoder.layer3.0.downsample.1.num_batches_tracked',\n",
       " 'encoder.layer3.1.conv1.weight',\n",
       " 'encoder.layer3.1.bn1.weight',\n",
       " 'encoder.layer3.1.bn1.bias',\n",
       " 'encoder.layer3.1.bn1.running_mean',\n",
       " 'encoder.layer3.1.bn1.running_var',\n",
       " 'encoder.layer3.1.bn1.num_batches_tracked',\n",
       " 'encoder.layer3.1.conv2.weight',\n",
       " 'encoder.layer3.1.bn2.weight',\n",
       " 'encoder.layer3.1.bn2.bias',\n",
       " 'encoder.layer3.1.bn2.running_mean',\n",
       " 'encoder.layer3.1.bn2.running_var',\n",
       " 'encoder.layer3.1.bn2.num_batches_tracked',\n",
       " 'encoder.layer4.0.conv1.weight',\n",
       " 'encoder.layer4.0.bn1.weight',\n",
       " 'encoder.layer4.0.bn1.bias',\n",
       " 'encoder.layer4.0.bn1.running_mean',\n",
       " 'encoder.layer4.0.bn1.running_var',\n",
       " 'encoder.layer4.0.bn1.num_batches_tracked',\n",
       " 'encoder.layer4.0.conv2.weight',\n",
       " 'encoder.layer4.0.bn2.weight',\n",
       " 'encoder.layer4.0.bn2.bias',\n",
       " 'encoder.layer4.0.bn2.running_mean',\n",
       " 'encoder.layer4.0.bn2.running_var',\n",
       " 'encoder.layer4.0.bn2.num_batches_tracked',\n",
       " 'encoder.layer4.0.downsample.0.weight',\n",
       " 'encoder.layer4.0.downsample.1.weight',\n",
       " 'encoder.layer4.0.downsample.1.bias',\n",
       " 'encoder.layer4.0.downsample.1.running_mean',\n",
       " 'encoder.layer4.0.downsample.1.running_var',\n",
       " 'encoder.layer4.0.downsample.1.num_batches_tracked',\n",
       " 'encoder.layer4.1.conv1.weight',\n",
       " 'encoder.layer4.1.bn1.weight',\n",
       " 'encoder.layer4.1.bn1.bias',\n",
       " 'encoder.layer4.1.bn1.running_mean',\n",
       " 'encoder.layer4.1.bn1.running_var',\n",
       " 'encoder.layer4.1.bn1.num_batches_tracked',\n",
       " 'encoder.layer4.1.conv2.weight',\n",
       " 'encoder.layer4.1.bn2.weight',\n",
       " 'encoder.layer4.1.bn2.bias',\n",
       " 'encoder.layer4.1.bn2.running_mean',\n",
       " 'encoder.layer4.1.bn2.running_var',\n",
       " 'encoder.layer4.1.bn2.num_batches_tracked',\n",
       " 'rotation_head.0.weight',\n",
       " 'rotation_head.0.bias',\n",
       " 'rotation_head.1.weight',\n",
       " 'rotation_head.1.bias',\n",
       " 'rotation_head.1.running_mean',\n",
       " 'rotation_head.1.running_var',\n",
       " 'rotation_head.1.num_batches_tracked',\n",
       " 'rotation_head.3.weight']"
      ]
     },
     "execution_count": 14,
     "metadata": {},
     "output_type": "execute_result"
    }
   ],
   "source": [
    "list(simclr_weights)"
   ]
  },
  {
   "cell_type": "code",
   "execution_count": 5,
   "metadata": {
    "ExecuteTime": {
     "end_time": "2020-10-29T15:56:01.013206Z",
     "start_time": "2020-10-29T15:56:01.007101Z"
    }
   },
   "outputs": [],
   "source": [
    "A = {'a':2,'5':3}"
   ]
  },
  {
   "cell_type": "code",
   "execution_count": 12,
   "metadata": {
    "ExecuteTime": {
     "end_time": "2020-10-29T15:57:29.851135Z",
     "start_time": "2020-10-29T15:57:29.848834Z"
    }
   },
   "outputs": [
    {
     "name": "stdout",
     "output_type": "stream",
     "text": [
      "a\n",
      "5\n"
     ]
    }
   ],
   "source": [
    "for k,v in A.items():\n",
    "    print(k)"
   ]
  },
  {
   "cell_type": "code",
   "execution_count": null,
   "metadata": {},
   "outputs": [],
   "source": []
  }
 ],
 "metadata": {
  "kernelspec": {
   "display_name": "Python 3",
   "language": "python",
   "name": "python3"
  },
  "language_info": {
   "codemirror_mode": {
    "name": "ipython",
    "version": 3
   },
   "file_extension": ".py",
   "mimetype": "text/x-python",
   "name": "python",
   "nbconvert_exporter": "python",
   "pygments_lexer": "ipython3",
   "version": "3.8.5"
  },
  "toc": {
   "base_numbering": 1,
   "nav_menu": {},
   "number_sections": true,
   "sideBar": true,
   "skip_h1_title": false,
   "title_cell": "Table of Contents",
   "title_sidebar": "Contents",
   "toc_cell": false,
   "toc_position": {},
   "toc_section_display": true,
   "toc_window_display": false
  },
  "varInspector": {
   "cols": {
    "lenName": 16,
    "lenType": 16,
    "lenVar": 40
   },
   "kernels_config": {
    "python": {
     "delete_cmd_postfix": "",
     "delete_cmd_prefix": "del ",
     "library": "var_list.py",
     "varRefreshCmd": "print(var_dic_list())"
    },
    "r": {
     "delete_cmd_postfix": ") ",
     "delete_cmd_prefix": "rm(",
     "library": "var_list.r",
     "varRefreshCmd": "cat(var_dic_list()) "
    }
   },
   "types_to_exclude": [
    "module",
    "function",
    "builtin_function_or_method",
    "instance",
    "_Feature"
   ],
   "window_display": false
  }
 },
 "nbformat": 4,
 "nbformat_minor": 4
}
