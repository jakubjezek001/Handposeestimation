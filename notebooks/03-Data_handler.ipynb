{
 "cells": [
  {
   "cell_type": "markdown",
   "metadata": {},
   "source": [
    "# Import Libraries"
   ]
  },
  {
   "cell_type": "code",
   "execution_count": 1,
   "metadata": {
    "ExecuteTime": {
     "end_time": "2020-10-23T15:44:10.695286Z",
     "start_time": "2020-10-23T15:44:09.970067Z"
    }
   },
   "outputs": [],
   "source": [
    "import os\n",
    "import torch\n",
    "from torchvision import transforms\n",
    "from torch.utils.data import DataLoader\n",
    "from src.data_loader.data_set import Data_Set\n",
    "from src.data_loader.utils import get_train_val_split\n",
    "from src.constants import MASTER_THESIS_DIR, FREIHAND_DATA\n",
    "from src.utils import read_json\n",
    "import matplotlib.pyplot as plt\n",
    "from ipywidgets import interact\n",
    "import ipywidgets as widgets\n",
    "from IPython.display import display\n",
    "import copy\n",
    "from easydict import EasyDict as edict\n",
    "from src.utils import read_json\n",
    "from src.visualization.visualize import plot_hand"
   ]
  },
  {
   "cell_type": "markdown",
   "metadata": {
    "ExecuteTime": {
     "end_time": "2020-09-28T19:52:11.401969Z",
     "start_time": "2020-09-28T19:52:11.396522Z"
    }
   },
   "source": [
    "# Read Data"
   ]
  },
  {
   "cell_type": "code",
   "execution_count": 2,
   "metadata": {
    "ExecuteTime": {
     "end_time": "2020-10-23T15:44:11.715971Z",
     "start_time": "2020-10-23T15:44:10.749187Z"
    },
    "code_folding": [
     9
    ]
   },
   "outputs": [],
   "source": [
    "train_param = edict(read_json(f\"{MASTER_THESIS_DIR}/src/experiments/training_config.json\"))\n",
    "train_data = Data_Set(\n",
    "    config=train_param,\n",
    "    transform=transforms.ToTensor(),\n",
    "    train_set=True,\n",
    ")\n",
    "val_data = copy.copy(train_data)\n",
    "val_data.is_training(False)\n",
    "\n",
    "train_data_loader, val_data_loader = get_train_val_split(train_data,\n",
    "    batch_size=train_param.batch_size,\n",
    "    num_workers=train_param.num_workers,\n",
    ")\n"
   ]
  },
  {
   "cell_type": "code",
   "execution_count": 3,
   "metadata": {
    "ExecuteTime": {
     "end_time": "2020-10-23T15:44:12.058617Z",
     "start_time": "2020-10-23T15:44:12.050163Z"
    }
   },
   "outputs": [],
   "source": [
    "train_param = edict(read_json(f\"{MASTER_THESIS_DIR}/src/experiments/training_config.json\"))\n",
    "train_param.augmentation_order = []#['rotate','crop', 'gaussian_blur','resize']\n",
    "# train_param.augmentation_params.hue_factor_range=[0.1,1]\n",
    "# train_param.augmentation_params.sat_factor_range=[0.1,1]\n",
    "# train_param.augmentation_params.value_factor_beta_range= [0,0]\n",
    "# train_param.augmentation_params.value_factor_alpha_range= [0.1 ,.1]"
   ]
  },
  {
   "cell_type": "markdown",
   "metadata": {
    "ExecuteTime": {
     "end_time": "2020-09-28T18:46:20.429935Z",
     "start_time": "2020-09-28T18:46:20.423120Z"
    }
   },
   "source": [
    "# Data visualization"
   ]
  },
  {
   "cell_type": "markdown",
   "metadata": {
    "cell_style": "split"
   },
   "source": [
    "## Visualize sample"
   ]
  },
  {
   "cell_type": "markdown",
   "metadata": {
    "cell_style": "split"
   },
   "source": [
    "## Visualize sample in batch"
   ]
  },
  {
   "cell_type": "code",
   "execution_count": 5,
   "metadata": {
    "ExecuteTime": {
     "end_time": "2020-10-23T15:44:15.086678Z",
     "start_time": "2020-10-23T15:44:14.800246Z"
    },
    "cell_style": "split",
    "code_folding": [
     0,
     24
    ]
   },
   "outputs": [
    {
     "data": {
      "application/vnd.jupyter.widget-view+json": {
       "model_id": "c821dcd6fcc84cc78e4ae8985c937a19",
       "version_major": 2,
       "version_minor": 0
      },
      "text/plain": [
       "interactive(children=(IntSlider(value=3, description='idx', min=1, step=5), Dropdown(description='Experiment t…"
      ]
     },
     "metadata": {},
     "output_type": "display_data"
    }
   ],
   "source": [
    "@interact(\n",
    "    idx=widgets.IntSlider(min=1, max=100, step=5, value=3),\n",
    "    experiment_type=widgets.Dropdown(\n",
    "        options=[\"supervised\", \"simclr\"],\n",
    "        value=\"simclr\",\n",
    "        description=\"Experiment type:\",\n",
    "        disabled=False,\n",
    "    ),\n",
    "    random_crop=widgets.Checkbox(value=True, description=\"random_crop\"),\n",
    "    crop=widgets.Checkbox(value=True, description=\"crop\"),\n",
    "    color_jitter=widgets.Checkbox(value=True, description=\"color_jitter\"),\n",
    "    cut_out=widgets.Checkbox(value=True, description=\"cut_out\"),\n",
    "    resize=widgets.Checkbox(value=True, description=\"resize\"),\n",
    "    color_drop=widgets.Checkbox(value=True, description=\"color_drop\"),\n",
    "    rotate=widgets.Checkbox(value=True, description=\"rotate\"),\n",
    "    flip=widgets.Checkbox(value=True, description=\"flip\"),\n",
    "    gaussian_blur=widgets.Checkbox(value=True, description=\"gaussian_blur\"),\n",
    "    crop_margin_range=widgets.IntSlider(min=1, max=200, step=5, value=150),\n",
    "    cut_out_fraction=widgets.IntSlider(min=1, max=100, step=5, value=10),\n",
    "    hue_factor_range=widgets.IntSlider(min=1, max=100, step=5, value=10),\n",
    "    sat_factor_range=widgets.IntSlider(min=1, max=100, step=5, value=10),\n",
    "    value_factor_beta_range=widgets.IntSlider(min=1, max=100, step=5, value=10),\n",
    "    value_factor_alpha_range=widgets.IntSlider(min=1, max=100, step=5, value=10),\n",
    ")\n",
    "def visualize(\n",
    "    idx,\n",
    "    experiment_type,\n",
    "    random_crop,\n",
    "    crop,\n",
    "    color_jitter,\n",
    "    cut_out,\n",
    "    resize,\n",
    "    color_drop,\n",
    "    rotate,\n",
    "    flip,\n",
    "    gaussian_blur,\n",
    "    crop_margin_range,\n",
    "    cut_out_fraction,\n",
    "    hue_factor_range,\n",
    "sat_factor_range,\n",
    "value_factor_beta_range,\n",
    "value_factor_alpha_range,\n",
    "    \n",
    "):\n",
    "#     train_param.augmentation_flags.random_crop = random_crop\n",
    "#     train_param.augmentation_flags.crop = crop\n",
    "#     train_param.augmentation_flags.color_jitter = color_jitter\n",
    "#     train_param.augmentation_flags.cut_out = cut_out\n",
    "#     train_param.augmentation_flags.resize = resize\n",
    "#     train_param.augmentation_flags.color_drop = color_drop\n",
    "#     train_param.augmentation_flags.gaussian_blur = gaussian_blur\n",
    "#     train_param.augmentation_flags0.rotate = rotate\n",
    "#     train_param.augmentation_flags.rotate = rotate\n",
    "#     train_param.augmentation_flags.flip = flip\n",
    "#     train_param.augmentation_params.crop_margin_range = [\n",
    "#         crop_margin_range / 100.0,\n",
    "#         crop_margin_range / 100.0,\n",
    "#     ]\n",
    "#     train_param.augmentation_params.cut_out_fraction = [\n",
    "#         cut_out_fraction / 100.0,\n",
    "#         cut_out_fraction / 100.0,\n",
    "#     ]\n",
    "#     train_param.augmentation_params.hue_factor_range=[hue_factor_range/100.0,hue_factor_range/100.0]\n",
    "#     train_param.augmentation_params.sat_factor_range=[sat_factor_range/100.0,sat_factor_range/100.0]\n",
    "#     train_param.augmentation_params.value_factor_beta_range= [value_factor_beta_range/100.0,value_factor_beta_range/100.0]\n",
    "#     train_param.augmentation_params.value_factor_alpha_range= [value_factor_alpha_range/100.0 ,value_factor_alpha_range/100.0]\n",
    "    train_data.update_augmenter(\n",
    "        train_param.augmentation_params, train_param.augmentation_flags, train_param.augmentation_order\n",
    "    )\n",
    "    if experiment_type == \"supervised\":\n",
    "        train_data.experiment_type = \"supervised\"\n",
    "        sample = train_data[idx]\n",
    "        joints = sample[\"joints\"]\n",
    "        img = sample[\"image\"]\n",
    "        fig = plt.figure(figsize=(5, 5))\n",
    "        ax = fig.add_subplot(111)\n",
    "        plt.imshow(transforms.ToPILImage()(img))\n",
    "        plot_hand(ax, joints)\n",
    "    elif experiment_type == \"simclr\":\n",
    "        train_data.experiment_type = \"simclr\"\n",
    "        sample = train_data[idx]\n",
    "        fig = plt.figure(figsize=(10, 10))\n",
    "        ax = fig.add_subplot(121)\n",
    "        plt.imshow(transforms.ToPILImage()(sample[\"transformed_image1\"]))\n",
    "        ax.set_title(\"Image 1\")\n",
    "        ax = fig.add_subplot(122)\n",
    "        plt.imshow(transforms.ToPILImage()(sample[\"transformed_image2\"]))\n",
    "        ax.set_title(\"Image 2\")"
   ]
  },
  {
   "cell_type": "code",
   "execution_count": 6,
   "metadata": {
    "ExecuteTime": {
     "end_time": "2020-10-23T11:32:34.797638Z",
     "start_time": "2020-10-23T11:32:32.602068Z"
    },
    "cell_style": "split",
    "code_folding": [
     0,
     2,
     9,
     12
    ]
   },
   "outputs": [
    {
     "data": {
      "application/vnd.jupyter.widget-view+json": {
       "model_id": "86785cfd65c840ceb393d0a40813a423",
       "version_major": 2,
       "version_minor": 0
      },
      "text/plain": [
       "interactive(children=(IntSlider(value=10, description='idx', max=31), Dropdown(description='Experiment type:',…"
      ]
     },
     "metadata": {},
     "output_type": "display_data"
    }
   ],
   "source": [
    "@interact(\n",
    "    idx=widgets.IntSlider(min=0, max=31, step=1, value=10),\n",
    "    experiment_type=widgets.Dropdown(\n",
    "        options=[\"supervised\", \"simclr\"],\n",
    "        value=\"supervised\",\n",
    "        description=\"Experiment type:\",\n",
    "        disabled=False,\n",
    "    )\n",
    ")\n",
    "def vis(idx, experiment_type):\n",
    "    train_data.experiment_type = experiment_type\n",
    "    for i, elem in enumerate(train_data_loader):\n",
    "        if experiment_type == \"supervised\":\n",
    "            sample = elem\n",
    "            joints = sample[\"joints\"][idx]\n",
    "            img = sample[\"image\"][idx]\n",
    "            fig = plt.figure(figsize=(5, 5))\n",
    "            ax = fig.add_subplot(111)\n",
    "            plt.imshow(transforms.ToPILImage()(img))\n",
    "            plot_hand(ax, joints)\n",
    "            plt.show()\n",
    "        elif experiment_type == \"simclr\":\n",
    "            sample = elem\n",
    "            fig = plt.figure(figsize=(10, 10))\n",
    "            ax = fig.add_subplot(121)\n",
    "            plt.imshow(transforms.ToPILImage()(sample[\"transformed_image1\"][idx]))\n",
    "            ax.set_title(\"Image 1\")\n",
    "            ax = fig.add_subplot(122)\n",
    "            plt.imshow(transforms.ToPILImage()(sample[\"transformed_image2\"][idx]))\n",
    "            ax.set_title(\"Image 2\")\n",
    "        break"
   ]
  },
  {
   "cell_type": "code",
   "execution_count": 9,
   "metadata": {
    "ExecuteTime": {
     "end_time": "2020-10-23T15:41:52.733939Z",
     "start_time": "2020-10-23T15:41:52.728595Z"
    }
   },
   "outputs": [
    {
     "data": {
      "text/plain": [
       "False"
      ]
     },
     "execution_count": 9,
     "metadata": {},
     "output_type": "execute_result"
    }
   ],
   "source": [
    "train_data.augmenter.color_jitter"
   ]
  },
  {
   "cell_type": "code",
   "execution_count": null,
   "metadata": {
    "code_folding": [
     0,
     20,
     34
    ]
   },
   "outputs": [],
   "source": [
    "@interact(\n",
    "    idx=widgets.IntSlider(min=1, max=100, step=5, value=3),\n",
    "    experiment_type=widgets.Dropdown(\n",
    "        options=[\"supervised\", \"simclr\"],\n",
    "        value=\"simclr\",\n",
    "        description=\"Experiment type:\",\n",
    "        disabled=False,\n",
    "    ),\n",
    "    random_crop=widgets.Checkbox(value=True, description=\"random_crop\"),\n",
    "    crop=widgets.Checkbox(value=True, description=\"crop\"),\n",
    "    color_jitter=widgets.Checkbox(value=True, description=\"color_jitter\"),\n",
    "    cut_out=widgets.Checkbox(value=True, description=\"cut_out\"),\n",
    "    resize=widgets.Checkbox(value=True, description=\"resize\"),\n",
    "    color_drop=widgets.Checkbox(value=True, description=\"color_drop\"),\n",
    "    rotate=widgets.Checkbox(value=True, description=\"rotate\"),\n",
    "    flip=widgets.Checkbox(value=True, description=\"flip\"),\n",
    "    gaussian_blur=widgets.Checkbox(value=True, description=\"gaussian_blur\"),\n",
    "    crop_margin_range=widgets.IntSlider(min=1, max=200, step=5, value=150),\n",
    "    cut_out_fraction=widgets.IntSlider(min=1, max=100, step=5, value=10),\n",
    ")\n",
    "def visualize(\n",
    "    idx,\n",
    "    experiment_type,\n",
    "    random_crop,\n",
    "    crop,\n",
    "    color_jitter,\n",
    "    cut_out,\n",
    "    resize,\n",
    "    color_drop,\n",
    "    rotate,\n",
    "    flip,\n",
    "    gaussian_blur,\n",
    "    crop_margin_range,\n",
    "    cut_out_fraction,\n",
    "):\n",
    "    train_param.augmentation_flags.random_crop = random_crop\n",
    "    train_param.augmentation_flags.crop = crop\n",
    "    train_param.augmentation_flags.color_jitter = color_jitter\n",
    "    train_param.augmentation_flags.cut_out = cut_out\n",
    "    train_param.augmentation_flags.resize = resize\n",
    "    train_param.augmentation_flags.color_drop = color_drop\n",
    "    train_param.augmentation_flags.gaussian_blur = gaussian_blur\n",
    "    train_param.augmentation_flags0.rotate = rotate\n",
    "    train_param.augmentation_flags.rotate = rotate\n",
    "    train_param.augmentation_flags.flip = flip\n",
    "#     train_param.augmentation_params.crop_margin_range = [\n",
    "#         crop_margin_range / 100.0,\n",
    "#         crop_margin_range / 100.0,\n",
    "#     ]\n",
    "#     train_param.augmentation_params.cut_out_fraction = [\n",
    "#         cut_out_fraction / 100.0,\n",
    "#         cut_out_fraction / 100.0,\n",
    "#     ]\n",
    "    train_data.update_augmenter(\n",
    "        train_param.augmentation_params, train_param.augmentation_flags, train_param.augmentation_order\n",
    "    )\n",
    "    if experiment_type == \"supervised\":\n",
    "        train_data.experiment_type = \"supervised\"\n",
    "        sample = train_data[idx]\n",
    "        joints = sample[\"joints\"]\n",
    "        img = sample[\"image\"]\n",
    "        fig = plt.figure(figsize=(5, 5))\n",
    "        ax = fig.add_subplot(111)\n",
    "        plt.imshow(transforms.ToPILImage()(img))\n",
    "        plot_hand(ax, joints)\n",
    "    elif experiment_type == \"simclr\":\n",
    "        train_data.experiment_type = \"simclr\"\n",
    "        sample = train_data[idx]\n",
    "        fig = plt.figure(figsize=(10, 10))\n",
    "        ax = fig.add_subplot(121)\n",
    "        plt.imshow(transforms.ToPILImage()(sample[\"transformed_image1\"]))\n",
    "        ax.set_title(\"Image 1\")\n",
    "        ax = fig.add_subplot(122)\n",
    "        plt.imshow(transforms.ToPILImage()(sample[\"transformed_image2\"]))\n",
    "        ax.set_title(\"Image 2\")"
   ]
  }
 ],
 "metadata": {
  "kernelspec": {
   "display_name": "Python 3",
   "language": "python",
   "name": "python3"
  },
  "language_info": {
   "codemirror_mode": {
    "name": "ipython",
    "version": 3
   },
   "file_extension": ".py",
   "mimetype": "text/x-python",
   "name": "python",
   "nbconvert_exporter": "python",
   "pygments_lexer": "ipython3",
   "version": "3.6.9"
  },
  "toc": {
   "base_numbering": 1,
   "nav_menu": {},
   "number_sections": true,
   "sideBar": true,
   "skip_h1_title": false,
   "title_cell": "Table of Contents",
   "title_sidebar": "Contents",
   "toc_cell": false,
   "toc_position": {},
   "toc_section_display": true,
   "toc_window_display": false
  },
  "varInspector": {
   "cols": {
    "lenName": 16,
    "lenType": 16,
    "lenVar": 40
   },
   "kernels_config": {
    "python": {
     "delete_cmd_postfix": "",
     "delete_cmd_prefix": "del ",
     "library": "var_list.py",
     "varRefreshCmd": "print(var_dic_list())"
    },
    "r": {
     "delete_cmd_postfix": ") ",
     "delete_cmd_prefix": "rm(",
     "library": "var_list.r",
     "varRefreshCmd": "cat(var_dic_list()) "
    }
   },
   "position": {
    "height": "396px",
    "left": "1027px",
    "right": "20px",
    "top": "109px",
    "width": "708px"
   },
   "types_to_exclude": [
    "module",
    "function",
    "builtin_function_or_method",
    "instance",
    "_Feature"
   ],
   "window_display": false
  }
 },
 "nbformat": 4,
 "nbformat_minor": 4
}
