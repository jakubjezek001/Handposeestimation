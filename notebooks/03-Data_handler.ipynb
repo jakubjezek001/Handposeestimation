{
 "cells": [
  {
   "cell_type": "markdown",
   "metadata": {},
   "source": [
    "# Import Libraries"
   ]
  },
  {
   "cell_type": "code",
   "execution_count": null,
   "metadata": {
    "ExecuteTime": {
     "end_time": "2020-10-16T18:42:00.868627Z",
     "start_time": "2020-10-16T18:42:00.208133Z"
    }
   },
   "outputs": [],
   "source": [
    "import os\n",
    "import torch\n",
    "from torchvision import transforms\n",
    "from torch.utils.data import DataLoader\n",
    "from src.data_loader.data_set import Data_Set\n",
    "from src.constants import MASTER_THESIS_DIR, FREIHAND_DATA\n",
    "from src.utils import read_json\n",
    "import matplotlib.pyplot as plt\n",
    "from ipywidgets import interact\n",
    "import ipywidgets as widgets\n",
    "from IPython.display import display\n",
    "import copy\n",
    "from easydict import EasyDict as edict\n",
    "from src.utils import read_json\n",
    "from src.visualization.visualize import plot_hand"
   ]
  },
  {
   "cell_type": "markdown",
   "metadata": {
    "ExecuteTime": {
     "end_time": "2020-09-28T19:52:11.401969Z",
     "start_time": "2020-09-28T19:52:11.396522Z"
    }
   },
   "source": [
    "# Read Data"
   ]
  },
  {
   "cell_type": "code",
   "execution_count": null,
   "metadata": {
    "ExecuteTime": {
     "end_time": "2020-10-16T18:44:10.670739Z",
     "start_time": "2020-10-16T18:44:10.665130Z"
    }
   },
   "outputs": [],
   "source": [
    "train_param = edict(read_json(f\"{MASTER_THESIS_DIR}/src/experiments/training_config.json\"))\n",
    "print(train_param)"
   ]
  },
  {
   "cell_type": "code",
   "execution_count": null,
   "metadata": {
    "ExecuteTime": {
     "end_time": "2020-10-16T18:47:46.520375Z",
     "start_time": "2020-10-16T18:47:46.517477Z"
    }
   },
   "outputs": [],
   "source": [
    "train_param.augmentation_flags.random_crop =True\n",
    "train_param.augmentation_flags.crop =True\n",
    "train_param.augmentation_flags.color_jitter =True\n",
    "train_param.augmentation_flags.cut_out =True\n",
    "train_param.augmentation_flags.resize =True\n",
    "train_param.augmentation_flags.color_drop = True\n",
    "train_param.augmentation_flags.gaussian_blur =True\n",
    "train_param.augmentation_params.crop_margin_range =[0.8 ,1.5]\n",
    "train_param.augmentation_params.cut_out_fraction = [0.05,0.2]"
   ]
  },
  {
   "cell_type": "code",
   "execution_count": null,
   "metadata": {
    "ExecuteTime": {
     "end_time": "2020-10-16T18:47:48.706923Z",
     "start_time": "2020-10-16T18:47:47.491988Z"
    }
   },
   "outputs": [],
   "source": [
    "train_data = Data_Set(\n",
    "    config=train_param,\n",
    "    transform=None,\n",
    "#     transform=transforms.Compose(\n",
    "#         [transforms.ToTensor()]\n",
    "#     ),\n",
    "    train_set=True,\n",
    ")\n",
    "val_data = copy.copy(train_data)\n",
    "val_data.is_training(False)\n",
    "\n",
    "train_data_loader = DataLoader(\n",
    "    train_data,\n",
    "    batch_size=train_param.batch_size,\n",
    "    num_workers=train_param.num_workers,\n",
    ")\n",
    "val_data_loader = DataLoader(\n",
    "    val_data, batch_size=train_param.batch_size, num_workers=train_param.num_workers\n",
    ")"
   ]
  },
  {
   "cell_type": "code",
   "execution_count": null,
   "metadata": {
    "ExecuteTime": {
     "end_time": "2020-10-16T18:42:45.214705Z",
     "start_time": "2020-10-16T18:42:45.210330Z"
    }
   },
   "outputs": [],
   "source": [
    "train_data[0][\"image\"].shape"
   ]
  },
  {
   "cell_type": "markdown",
   "metadata": {
    "ExecuteTime": {
     "end_time": "2020-09-28T18:46:20.429935Z",
     "start_time": "2020-09-28T18:46:20.423120Z"
    }
   },
   "source": [
    "# Data visualization"
   ]
  },
  {
   "cell_type": "markdown",
   "metadata": {
    "cell_style": "split"
   },
   "source": [
    "## Visualize sample"
   ]
  },
  {
   "cell_type": "markdown",
   "metadata": {
    "cell_style": "split"
   },
   "source": [
    "## Visualize sample in batch"
   ]
  },
  {
   "cell_type": "code",
   "execution_count": null,
   "metadata": {
    "ExecuteTime": {
     "end_time": "2020-10-16T18:47:49.116768Z",
     "start_time": "2020-10-16T18:47:48.967502Z"
    },
    "cell_style": "split",
    "code_folding": [
     0
    ]
   },
   "outputs": [],
   "source": [
    "@interact(\n",
    "    idx=widgets.IntSlider(min=1, max=100, step=5, value=3),\n",
    "    experiment_type=widgets.Dropdown(\n",
    "        options=[\"supervised\", \"simclr\"],\n",
    "        value=\"supervised\",\n",
    "        description=\"Experiment type:\",\n",
    "        disabled=False,\n",
    "    ),\n",
    ")\n",
    "def visualize(idx, experiment_type):\n",
    "    if experiment_type == \"supervised\":\n",
    "        train_data.experiment_type = \"supervised\"\n",
    "        sample = train_data[idx]\n",
    "        joints = sample[\"joints\"]\n",
    "        img = sample[\"image\"]\n",
    "        fig = plt.figure(figsize=(5, 5))\n",
    "        ax = fig.add_subplot(111)\n",
    "        plt.imshow(transforms.ToPILImage()(img))\n",
    "        plot_hand(ax, joints)\n",
    "    elif experiment_type == \"simclr\":\n",
    "        train_data.experiment_type = \"simclr\"\n",
    "        sample = train_data[idx]\n",
    "        fig = plt.figure(figsize=(10, 10))\n",
    "        ax = fig.add_subplot(121)\n",
    "        plt.imshow(transforms.ToPILImage()(sample[\"transformed_image2\"]))\n",
    "        ax.set_title(\"Image 1\")\n",
    "        ax = fig.add_subplot(122)\n",
    "        plt.imshow(transforms.ToPILImage()(sample[\"transformed_image1\"]))\n",
    "        ax.set_title(\"Image 2\")"
   ]
  },
  {
   "cell_type": "code",
   "execution_count": null,
   "metadata": {
    "ExecuteTime": {
     "end_time": "2020-10-15T15:18:09.915025Z",
     "start_time": "2020-10-15T15:18:09.703585Z"
    },
    "cell_style": "split",
    "code_folding": [
     0,
     2,
     9,
     11
    ]
   },
   "outputs": [],
   "source": [
    "@interact(\n",
    "    idx=widgets.IntSlider(min=0, max=31, step=1, value=10),\n",
    "    experiment_type=widgets.Dropdown(\n",
    "        options=[\"supervised\", \"simclr\"],\n",
    "        value=\"supervised\",\n",
    "        description=\"Experiment type:\",\n",
    "        disabled=False,\n",
    "    )\n",
    ")\n",
    "def vis(idx, experiment_type):\n",
    "    train_data.experiment_type = experiment_type\n",
    "    for i, elem in enumerate(train_data_loader):\n",
    "        if experiment_type == \"supervised\":\n",
    "            sample = elem\n",
    "            joints = sample[\"joints\"][idx]\n",
    "            img = sample[\"image\"][idx]\n",
    "            fig = plt.figure(figsize=(5, 5))\n",
    "            ax = fig.add_subplot(111)\n",
    "            plt.imshow(transforms.ToPILImage()(img.numpy()))\n",
    "            plot_hand(ax, joints)\n",
    "            plt.show()\n",
    "        elif experiment_type == \"simclr\":\n",
    "            sample = elem\n",
    "            fig = plt.figure(figsize=(10, 10))\n",
    "            ax = fig.add_subplot(121)\n",
    "            plt.imshow(transforms.ToPILImage()(sample[\"transformed_image2\"][idx].numpy()))\n",
    "            ax.set_title(\"Image 1\")\n",
    "            ax = fig.add_subplot(122)\n",
    "            plt.imshow(transforms.ToPILImage()(sample[\"transformed_image1\"][idx].numpy()))\n",
    "            ax.set_title(\"Image 2\")\n",
    "        break"
   ]
  }
 ],
 "metadata": {
  "kernelspec": {
   "display_name": "Python 3",
   "language": "python",
   "name": "python3"
  },
  "language_info": {
   "codemirror_mode": {
    "name": "ipython",
    "version": 3
   },
   "file_extension": ".py",
   "mimetype": "text/x-python",
   "name": "python",
   "nbconvert_exporter": "python",
   "pygments_lexer": "ipython3",
   "version": "3.6.9"
  },
  "toc": {
   "base_numbering": 1,
   "nav_menu": {},
   "number_sections": true,
   "sideBar": true,
   "skip_h1_title": false,
   "title_cell": "Table of Contents",
   "title_sidebar": "Contents",
   "toc_cell": false,
   "toc_position": {},
   "toc_section_display": true,
   "toc_window_display": false
  },
  "varInspector": {
   "cols": {
    "lenName": 16,
    "lenType": 16,
    "lenVar": 40
   },
   "kernels_config": {
    "python": {
     "delete_cmd_postfix": "",
     "delete_cmd_prefix": "del ",
     "library": "var_list.py",
     "varRefreshCmd": "print(var_dic_list())"
    },
    "r": {
     "delete_cmd_postfix": ") ",
     "delete_cmd_prefix": "rm(",
     "library": "var_list.r",
     "varRefreshCmd": "cat(var_dic_list()) "
    }
   },
   "position": {
    "height": "396px",
    "left": "1027px",
    "right": "20px",
    "top": "109px",
    "width": "708px"
   },
   "types_to_exclude": [
    "module",
    "function",
    "builtin_function_or_method",
    "instance",
    "_Feature"
   ],
   "window_display": false
  }
 },
 "nbformat": 4,
 "nbformat_minor": 4
}
