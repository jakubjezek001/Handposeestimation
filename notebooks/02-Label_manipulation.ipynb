{
 "cells": [
  {
   "cell_type": "markdown",
   "metadata": {},
   "source": [
    "# Import libraries"
   ]
  },
  {
   "cell_type": "code",
   "execution_count": null,
   "metadata": {
    "ExecuteTime": {
     "end_time": "2020-09-30T06:42:05.954812Z",
     "start_time": "2020-09-30T06:42:03.777653Z"
    }
   },
   "outputs": [],
   "source": [
    "import os\n",
    "import torch\n",
    "from torchvision import transforms\n",
    "from src.data_loader.freihand_loader import F_DB\n",
    "from src.models.baseline_model import BaselineModel\n",
    "from torch.utils.data import DataLoader\n",
    "from src.data_loader.utils import convert_2_5D_to_3D, get_root_depth, convert_to_2_5D\n",
    "from pytorch_lightning import Trainer\n",
    "from pytorch_lightning.loggers import CometLogger\n",
    "from src.visualization.visualize import plot_hand\n",
    "from src.constants import MASTER_THESIS_DIR, FREIHAND_DATA\n",
    "from src.utils import read_json\n",
    "import matplotlib.pyplot as plt\n",
    "from ipywidgets import interact\n",
    "import ipywidgets as widgets\n",
    "from IPython.display import display\n",
    "from tqdm.notebook import tqdm"
   ]
  },
  {
   "cell_type": "code",
   "execution_count": null,
   "metadata": {
    "ExecuteTime": {
     "end_time": "2020-09-30T06:42:05.988307Z",
     "start_time": "2020-09-30T06:42:05.977950Z"
    }
   },
   "outputs": [],
   "source": [
    "from src.data_loader.joints import Joints"
   ]
  },
  {
   "cell_type": "code",
   "execution_count": null,
   "metadata": {
    "ExecuteTime": {
     "end_time": "2020-09-30T06:42:06.035171Z",
     "start_time": "2020-09-30T06:42:06.025685Z"
    }
   },
   "outputs": [],
   "source": [
    "joints =Joints()"
   ]
  },
  {
   "cell_type": "markdown",
   "metadata": {},
   "source": [
    "# Dataset"
   ]
  },
  {
   "cell_type": "code",
   "execution_count": null,
   "metadata": {
    "ExecuteTime": {
     "end_time": "2020-09-30T06:42:11.671116Z",
     "start_time": "2020-09-30T06:42:08.268036Z"
    }
   },
   "outputs": [],
   "source": [
    "f_db = F_DB(\n",
    "    root_dir=os.path.join(FREIHAND_DATA, \"training\", \"rgb\"),\n",
    "    labels_path=os.path.join(FREIHAND_DATA, \"training_xyz.json\"),\n",
    "    camera_param_path=os.path.join(FREIHAND_DATA, \"training_K.json\"),\n",
    "    transform=transforms.Compose(\n",
    "        [\n",
    "            transforms.ToTensor(),\n",
    "            #             transforms.Normalize(mean=[0.485, 0.456, 0.406], std=[0.229, 0.224, 0.225]),\n",
    "        ]\n",
    "    ),\n",
    ")"
   ]
  },
  {
   "cell_type": "code",
   "execution_count": null,
   "metadata": {
    "ExecuteTime": {
     "end_time": "2020-09-30T06:43:33.544563Z",
     "start_time": "2020-09-30T06:43:33.522710Z"
    }
   },
   "outputs": [],
   "source": [
    "convert_2_5D_to_3D(f_db[0]['joints'], f_db[0]['scale'], f_db[0]['K'])"
   ]
  },
  {
   "cell_type": "code",
   "execution_count": null,
   "metadata": {
    "ExecuteTime": {
     "end_time": "2020-09-30T06:45:38.402259Z",
     "start_time": "2020-09-30T06:45:38.393981Z"
    }
   },
   "outputs": [],
   "source": [
    "print(f_db[0]['joints_3D'])"
   ]
  },
  {
   "cell_type": "markdown",
   "metadata": {},
   "source": [
    "# Label Visualization"
   ]
  },
  {
   "cell_type": "code",
   "execution_count": null,
   "metadata": {
    "ExecuteTime": {
     "end_time": "2020-09-29T16:12:30.301284Z",
     "start_time": "2020-09-29T16:12:29.289234Z"
    }
   },
   "outputs": [],
   "source": [
    "@interact(id=widgets.IntSlider(min=0, max=len(f_db), step=1, value=179))\n",
    "def visualize_sample(id):\n",
    "    A = joints.freihand_to_ait(joints.ait_to_freihand(f_db[id][\"joints\"]))\n",
    "    s = f_db[id][\"scale\"]\n",
    "    K = f_db[id][\"K\"]\n",
    "    img = transforms.ToPILImage('RGB')(f_db[id][\"image\"])\n",
    "    display(img)\n",
    "    Axy = f_db[id][\"joints_3D\"]\n",
    "    fig = plt.figure(figsize=(10,10))\n",
    "    gs = fig.add_gridspec(5, 8)\n",
    "    ax1 = fig.add_subplot(gs[1:3,:2])\n",
    "    ax1.set_title('2d pose')\n",
    "    plot_hand(ax1, np.array(A))\n",
    "    ax2 = fig.add_subplot(gs[:,2:5], projection='3d')\n",
    "    ax2.set_title('3D pose')\n",
    "    plot_hand(ax2, np.array(Axy),plot_3d=True)\n",
    "    ax3 = fig.add_subplot(gs[:,5:], projection='3d')\n",
    "    ax3.set_title('3D pose recreated')\n",
    "    # recreated 3D pose:\n",
    "    Axy_recreated= convert_2_5D_to_3D(A,s,K)\n",
    "    plot_hand(ax3, np.array(Axy_recreated),plot_3d=True) \n",
    "    print(Axy - Axy_recreated)\n",
    "    print(f\"total error {torch.mean(torch.sum((Axy-Axy_recreated)**2)**.5)}\")\n",
    "    \n",
    "    plt.show()"
   ]
  },
  {
   "cell_type": "code",
   "execution_count": null,
   "metadata": {
    "ExecuteTime": {
     "end_time": "2020-09-29T12:59:54.177538Z",
     "start_time": "2020-09-29T12:59:54.172036Z"
    }
   },
   "outputs": [],
   "source": [
    "def error_in_conversion(true_joints_3D, K):\n",
    "    error_percentage = torch.abs((convert_2_5D_to_3D(joints25D,scale,K) -true_joints_3D))/true_joints_3D\n",
    "    return torch.max(error_percentage)*100"
   ]
  },
  {
   "cell_type": "code",
   "execution_count": null,
   "metadata": {
    "ExecuteTime": {
     "end_time": "2020-09-29T13:31:55.452129Z",
     "start_time": "2020-09-29T13:26:35.377122Z"
    }
   },
   "outputs": [],
   "source": [
    "error = torch.tensor(0)\n",
    "high_error_index = []\n",
    "for id in tqdm(range(len(f_db)//4)):\n",
    "    joints25D = f_db[id][\"joints\"]\n",
    "    scale = f_db[id][\"scale\"]\n",
    "    K = f_db[id][\"K\"]\n",
    "    true_joints_3D = f_db[id][\"joints_3D\"]\n",
    "    error  =torch.max(torch.stack([error_in_conversion(true_joints_3D, K), error]))\n",
    "    if error>50:\n",
    "        high_error_index.append(id)"
   ]
  },
  {
   "cell_type": "code",
   "execution_count": null,
   "metadata": {},
   "outputs": [],
   "source": []
  }
 ],
 "metadata": {
  "kernelspec": {
   "display_name": "Python 3",
   "language": "python",
   "name": "python3"
  },
  "language_info": {
   "codemirror_mode": {
    "name": "ipython",
    "version": 3
   },
   "file_extension": ".py",
   "mimetype": "text/x-python",
   "name": "python",
   "nbconvert_exporter": "python",
   "pygments_lexer": "ipython3",
   "version": "3.6.9"
  },
  "toc": {
   "base_numbering": 1,
   "nav_menu": {},
   "number_sections": true,
   "sideBar": true,
   "skip_h1_title": false,
   "title_cell": "Table of Contents",
   "title_sidebar": "Contents",
   "toc_cell": false,
   "toc_position": {},
   "toc_section_display": true,
   "toc_window_display": false
  },
  "varInspector": {
   "cols": {
    "lenName": 16,
    "lenType": 16,
    "lenVar": 40
   },
   "kernels_config": {
    "python": {
     "delete_cmd_postfix": "",
     "delete_cmd_prefix": "del ",
     "library": "var_list.py",
     "varRefreshCmd": "print(var_dic_list())"
    },
    "r": {
     "delete_cmd_postfix": ") ",
     "delete_cmd_prefix": "rm(",
     "library": "var_list.r",
     "varRefreshCmd": "cat(var_dic_list()) "
    }
   },
   "types_to_exclude": [
    "module",
    "function",
    "builtin_function_or_method",
    "instance",
    "_Feature"
   ],
   "window_display": false
  }
 },
 "nbformat": 4,
 "nbformat_minor": 4
}
