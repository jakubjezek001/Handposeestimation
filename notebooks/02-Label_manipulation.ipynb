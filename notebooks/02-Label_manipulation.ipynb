{
 "cells": [
  {
   "cell_type": "markdown",
   "metadata": {},
   "source": [
    "# Import libraries"
   ]
  },
  {
   "cell_type": "code",
   "execution_count": 1,
   "metadata": {
    "ExecuteTime": {
     "end_time": "2020-09-25T09:27:11.856758Z",
     "start_time": "2020-09-25T09:27:10.150634Z"
    }
   },
   "outputs": [],
   "source": [
    "import os\n",
    "import torch\n",
    "from torchvision import transforms\n",
    "from src.data_loader.freihand_loader import F_DB\n",
    "from src.models.baseline_model import BaselineModel\n",
    "from torch.utils.data import DataLoader\n",
    "from src.data_loader.utils import convert_2_5D_to_3D, get_root_depth, convert_to_2_5D\n",
    "from pytorch_lightning import Trainer\n",
    "from pytorch_lightning.loggers import CometLogger\n",
    "from src.visualization.visualize import plot_hand\n",
    "from src.constants import MASTER_THESIS_DIR, FREIHAND_DATA\n",
    "from src.utils import read_json\n",
    "import matplotlib.pyplot as plt\n",
    "from ipywidgets import interact\n",
    "import ipywidgets as widgets\n",
    "from IPython.display import display"
   ]
  },
  {
   "cell_type": "markdown",
   "metadata": {},
   "source": [
    "# Dataset"
   ]
  },
  {
   "cell_type": "code",
   "execution_count": 2,
   "metadata": {
    "ExecuteTime": {
     "end_time": "2020-09-25T09:27:14.562751Z",
     "start_time": "2020-09-25T09:27:11.939421Z"
    }
   },
   "outputs": [],
   "source": [
    "f_db = F_DB(\n",
    "    root_dir=os.path.join(FREIHAND_DATA, \"training\", \"rgb\"),\n",
    "    labels_path=os.path.join(FREIHAND_DATA, \"training_xyz.json\"),\n",
    "    camera_param_path=os.path.join(FREIHAND_DATA, \"training_K.json\"),\n",
    "    transform=transforms.Compose(\n",
    "        [\n",
    "            transforms.ToTensor(),\n",
    "            #             transforms.Normalize(mean=[0.485, 0.456, 0.406], std=[0.229, 0.224, 0.225]),\n",
    "        ]\n",
    "    ),\n",
    ")"
   ]
  },
  {
   "cell_type": "markdown",
   "metadata": {},
   "source": [
    "# Label Visualization"
   ]
  },
  {
   "cell_type": "code",
   "execution_count": 3,
   "metadata": {
    "ExecuteTime": {
     "end_time": "2020-09-25T09:27:16.375802Z",
     "start_time": "2020-09-25T09:27:14.667284Z"
    }
   },
   "outputs": [
    {
     "data": {
      "application/vnd.jupyter.widget-view+json": {
       "model_id": "58272a435b0c42bebc122576c08e8a94",
       "version_major": 2,
       "version_minor": 0
      },
      "text/plain": [
       "interactive(children=(IntSlider(value=0, description='id', max=32560), Output()), _dom_classes=('widget-intera…"
      ]
     },
     "metadata": {},
     "output_type": "display_data"
    }
   ],
   "source": [
    "@interact(id=widgets.IntSlider(min=0, max=len(f_db), step=1, value=0))\n",
    "def visualize_sample(id):\n",
    "    A = f_db[id][\"joints\"]\n",
    "    s = f_db[id][\"scale\"]\n",
    "    K = f_db[id][\"K\"]\n",
    "    img = transforms.ToPILImage('RGB')(f_db[id][\"image\"])\n",
    "    display(img)\n",
    "    Axy = f_db[id][\"joints_3D\"]\n",
    "    fig = plt.figure(figsize=(10,10))\n",
    "    gs = fig.add_gridspec(5, 5)\n",
    "    ax1 = fig.add_subplot(gs[1:3,:2])\n",
    "    ax1.set_title('2d pose')\n",
    "    plot_hand(ax1, np.array(A))\n",
    "    ax2 = fig.add_subplot(gs[:,2:], projection='3d')\n",
    "    ax2.set_title('3D pose')\n",
    "    plot_hand(ax2, np.array(Axy),plot_3d=True)\n",
    "    plt.show()"
   ]
  },
  {
   "cell_type": "code",
   "execution_count": 18,
   "metadata": {
    "ExecuteTime": {
     "end_time": "2020-09-25T09:36:30.302113Z",
     "start_time": "2020-09-25T09:36:30.287799Z"
    }
   },
   "outputs": [],
   "source": [
    "id = 13053\n",
    "joints25D = f_db[id][\"joints\"]\n",
    "scale = f_db[id][\"scale\"]\n",
    "K = f_db[id][\"K\"]\n",
    "true_joints_3D = f_db[id][\"joints_3D\"]"
   ]
  },
  {
   "cell_type": "code",
   "execution_count": 29,
   "metadata": {
    "ExecuteTime": {
     "end_time": "2020-09-25T09:44:49.668957Z",
     "start_time": "2020-09-25T09:44:49.659775Z"
    }
   },
   "outputs": [],
   "source": [
    "from typing import NewType, Tuple\n",
    "PARENT_JOINT = 0\n",
    "CHILD_JOINT = 2\n",
    "JOINTS_25D = NewType(\n",
    "    \"Joints_25D\", torch.tensor\n",
    ")  # shape (points, 3) , third dimension set to unity.\n",
    "SCALE = NewType(\"scale\", torch.tensor)  # shape (1)\n",
    "JOINTS_3D = NewType(\"Joints_3D\", torch.tensor)  # shape  (pints, 3)\n",
    "def get_root_depth(joints_25D: JOINTS_25D) -> torch.Tensor:\n",
    "    x_n, y_n, Z_n = joints_25D[PARENT_JOINT, :]\n",
    "    x_m, y_m, Z_m = joints_25D[CHILD_JOINT, :]\n",
    "    print(\"x_n={}, y_n={}, Z_n={}\".format(x_n, y_n, Z_n))\n",
    "    print(\"x_m={}, y_m={}, Z_m={}\".format(x_m, y_m, Z_m))\n",
    "    C = 1\n",
    "    a = (x_n - x_m) ** 2 + (y_n - y_m) ** 2\n",
    "    b = Z_n * (x_n ** 2 + y_n ** 2 - x_n * x_m - y_n * y_m) + Z_m * (\n",
    "        x_m ** 2 + y_m ** 2 - x_n * x_m - y_n * y_m\n",
    "    )\n",
    "    c = (\n",
    "        (x_n * Z_n - x_m * Z_m) ** 2\n",
    "        + (y_n * Z_n - y_m * Z_m) ** 2\n",
    "        + (Z_n - Z_m) ** 2\n",
    "        - C\n",
    "    )\n",
    "    print(\"a={},b={},c={}\".format(a,b,c))\n",
    "    Z_root = 0.5 * (-b + (b ** 2 - 4 * a * c) ** 0.5) / a\n",
    "    # print(a,b,c)\n",
    "    # print(Z_root)\n",
    "    return Z_root"
   ]
  },
  {
   "cell_type": "code",
   "execution_count": 30,
   "metadata": {
    "ExecuteTime": {
     "end_time": "2020-09-25T09:44:50.207180Z",
     "start_time": "2020-09-25T09:44:50.197964Z"
    }
   },
   "outputs": [
    {
     "name": "stdout",
     "output_type": "stream",
     "text": [
      "x_n=105.68982696533203, y_n=145.85731506347656, Z_n=0.0\n",
      "x_m=133.1248779296875, y_m=115.64970397949219, Z_m=-0.3389134705066681\n",
      "a=1665.1817626953125,b=-53.814430236816406,c=3570.9990234375\n"
     ]
    },
    {
     "data": {
      "text/plain": [
       "tensor(nan)"
      ]
     },
     "execution_count": 30,
     "metadata": {},
     "output_type": "execute_result"
    }
   ],
   "source": [
    "get_root_depth(joints25D)"
   ]
  },
  {
   "cell_type": "code",
   "execution_count": 27,
   "metadata": {
    "ExecuteTime": {
     "end_time": "2020-09-25T09:43:36.941306Z",
     "start_time": "2020-09-25T09:43:36.935622Z"
    }
   },
   "outputs": [],
   "source": [
    "def convert_to_2_5D(\n",
    "    camera_param: torch.tensor, joints_3D: torch.tensor\n",
    ") -> Tuple[JOINTS_25D, SCALE]:\n",
    "    # Using the distance between and second coordinate as scale. (i.e. length of index fingure.)\n",
    "    scale = (((joints_3D[CHILD_JOINT] - joints_3D[PARENT_JOINT]) ** 2).sum()) ** 0.5\n",
    "    print(scale)\n",
    "    # Using the equation (1/Z)*K@(J_3D) = J_2D\n",
    "    # Below Joints3D is the tensor of 21 x 3, where as J_3D is 3 x 1.\n",
    "    # joints3D.T -> 3 x 21\n",
    "    # camera param and K -> 3x3\n",
    "    #  camera_param@(joints3D.T).T -> 21 x 3\n",
    "    # joints3D[:,-1:] -> 21 x 1\n",
    "    # joints25D -> 21 x3 with the third dimesion as 1.\n",
    "    joints_25D = ((camera_param @ (joints_3D.T)).T) / joints_3D[:, -1:]\n",
    "    # adding the .5 th dimension relative to the root, here it is the 0th coordinate.\n",
    "    # scale normalization of the relative z component. As the xy coordinate are not affected by scale.\n",
    "    new_z = joints_25D[:,-1]\n",
    "    print(new_z)\n",
    "    joints_25D[:, -1] = (joints_3D[:, -1] - joints_3D[0, -1]) / scale\n",
    "    return joints_25D, scale"
   ]
  },
  {
   "cell_type": "code",
   "execution_count": 28,
   "metadata": {
    "ExecuteTime": {
     "end_time": "2020-09-25T09:43:37.890837Z",
     "start_time": "2020-09-25T09:43:37.865426Z"
    }
   },
   "outputs": [
    {
     "name": "stdout",
     "output_type": "stream",
     "text": [
      "tensor(0.0598)\n",
      "tensor([1., 1., 1., 1., 1., 1., 1., 1., 1., 1., 1., 1., 1., 1., 1., 1., 1., 1.,\n",
      "        1., 1., 1.])\n"
     ]
    },
    {
     "data": {
      "text/plain": [
       "(tensor([[105.6898, 145.8573,   0.0000],\n",
       "         [123.9480, 130.8463,  -0.1886],\n",
       "         [133.1249, 115.6497,  -0.3389],\n",
       "         [134.2723, 102.5088,  -0.5983],\n",
       "         [144.1983,  84.7234,  -0.9177],\n",
       "         [120.6423,  90.8710,  -0.3325],\n",
       "         [127.6807,  76.2137,  -0.5652],\n",
       "         [134.8043,  75.1681,  -0.8107],\n",
       "         [144.2101,  80.5108,  -1.1171],\n",
       "         [106.9892,  86.3753,  -0.5023],\n",
       "         [112.0367,  73.6854,  -0.7649],\n",
       "         [119.7553,  77.4094,  -0.9551],\n",
       "         [131.0435,  88.9040,  -1.1144],\n",
       "         [ 92.2837,  93.9233,  -0.6160],\n",
       "         [ 96.6239,  80.0022,  -0.8019],\n",
       "         [104.4161,  82.4741,  -1.0023],\n",
       "         [115.3614,  94.2690,  -1.1157],\n",
       "         [ 83.0288, 103.1064,  -0.7117],\n",
       "         [ 82.5331,  93.2741,  -0.8486],\n",
       "         [ 88.0130,  91.8171,  -0.9808],\n",
       "         [ 99.4384,  95.6932,  -1.0914]]),\n",
       " tensor(0.0598))"
      ]
     },
     "execution_count": 28,
     "metadata": {},
     "output_type": "execute_result"
    }
   ],
   "source": [
    "convert_to_2_5D(K, true_joints_3D)"
   ]
  },
  {
   "cell_type": "code",
   "execution_count": 17,
   "metadata": {
    "ExecuteTime": {
     "end_time": "2020-09-25T09:35:38.884665Z",
     "start_time": "2020-09-25T09:35:38.867893Z"
    }
   },
   "outputs": [
    {
     "data": {
      "text/plain": [
       "tensor([[105.6898, 145.8573,   0.0000],\n",
       "        [123.9480, 130.8463,  -0.1886],\n",
       "        [133.1249, 115.6497,  -0.3389],\n",
       "        [134.2723, 102.5088,  -0.5983],\n",
       "        [144.1983,  84.7234,  -0.9177],\n",
       "        [120.6423,  90.8710,  -0.3325],\n",
       "        [127.6807,  76.2137,  -0.5652],\n",
       "        [134.8043,  75.1681,  -0.8107],\n",
       "        [144.2101,  80.5108,  -1.1171],\n",
       "        [106.9892,  86.3753,  -0.5023],\n",
       "        [112.0367,  73.6854,  -0.7649],\n",
       "        [119.7553,  77.4094,  -0.9551],\n",
       "        [131.0435,  88.9040,  -1.1144],\n",
       "        [ 92.2837,  93.9233,  -0.6160],\n",
       "        [ 96.6239,  80.0022,  -0.8019],\n",
       "        [104.4161,  82.4741,  -1.0023],\n",
       "        [115.3614,  94.2690,  -1.1157],\n",
       "        [ 83.0288, 103.1064,  -0.7117],\n",
       "        [ 82.5331,  93.2741,  -0.8486],\n",
       "        [ 88.0130,  91.8171,  -0.9808],\n",
       "        [ 99.4384,  95.6932,  -1.0914]])"
      ]
     },
     "execution_count": 17,
     "metadata": {},
     "output_type": "execute_result"
    }
   ],
   "source": [
    "convert_2_5D_to_3D(joints25D,scale,K)"
   ]
  },
  {
   "cell_type": "code",
   "execution_count": 24,
   "metadata": {
    "ExecuteTime": {
     "end_time": "2020-09-25T09:39:19.656924Z",
     "start_time": "2020-09-25T09:39:19.652100Z"
    }
   },
   "outputs": [
    {
     "data": {
      "text/plain": [
       "tensor(0.7288)"
      ]
     },
     "execution_count": 24,
     "metadata": {},
     "output_type": "execute_result"
    }
   ],
   "source": [
    "true_joints_3D[0,-1]"
   ]
  },
  {
   "cell_type": "code",
   "execution_count": 26,
   "metadata": {
    "ExecuteTime": {
     "end_time": "2020-09-25T09:39:49.479247Z",
     "start_time": "2020-09-25T09:39:49.473318Z"
    }
   },
   "outputs": [
    {
     "data": {
      "text/plain": [
       "tensor([ 0.0000, -0.1887, -0.3391, -0.5986, -0.9182, -0.3327, -0.5655, -0.8111,\n",
       "        -1.1177, -0.5026, -0.7654, -0.9556, -1.1150, -0.6164, -0.8023, -1.0028,\n",
       "        -1.1163, -0.7121, -0.8491, -0.9813, -1.0920])"
      ]
     },
     "execution_count": 26,
     "metadata": {},
     "output_type": "execute_result"
    }
   ],
   "source": []
  },
  {
   "cell_type": "code",
   "execution_count": null,
   "metadata": {},
   "outputs": [],
   "source": []
  }
 ],
 "metadata": {
  "kernelspec": {
   "display_name": "Python 3",
   "language": "python",
   "name": "python3"
  },
  "language_info": {
   "codemirror_mode": {
    "name": "ipython",
    "version": 3
   },
   "file_extension": ".py",
   "mimetype": "text/x-python",
   "name": "python",
   "nbconvert_exporter": "python",
   "pygments_lexer": "ipython3",
   "version": "3.6.9"
  },
  "toc": {
   "base_numbering": 1,
   "nav_menu": {},
   "number_sections": true,
   "sideBar": true,
   "skip_h1_title": false,
   "title_cell": "Table of Contents",
   "title_sidebar": "Contents",
   "toc_cell": false,
   "toc_position": {},
   "toc_section_display": true,
   "toc_window_display": false
  },
  "varInspector": {
   "cols": {
    "lenName": 16,
    "lenType": 16,
    "lenVar": 40
   },
   "kernels_config": {
    "python": {
     "delete_cmd_postfix": "",
     "delete_cmd_prefix": "del ",
     "library": "var_list.py",
     "varRefreshCmd": "print(var_dic_list())"
    },
    "r": {
     "delete_cmd_postfix": ") ",
     "delete_cmd_prefix": "rm(",
     "library": "var_list.r",
     "varRefreshCmd": "cat(var_dic_list()) "
    }
   },
   "types_to_exclude": [
    "module",
    "function",
    "builtin_function_or_method",
    "instance",
    "_Feature"
   ],
   "window_display": false
  }
 },
 "nbformat": 4,
 "nbformat_minor": 4
}
