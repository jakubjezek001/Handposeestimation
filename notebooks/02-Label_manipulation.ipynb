{
 "cells": [
  {
   "cell_type": "markdown",
   "metadata": {},
   "source": [
    "# Import libraries"
   ]
  },
  {
   "cell_type": "code",
   "execution_count": 1,
   "metadata": {
    "ExecuteTime": {
     "end_time": "2020-10-03T20:32:48.336970Z",
     "start_time": "2020-10-03T20:32:46.935339Z"
    }
   },
   "outputs": [],
   "source": [
    "import os\n",
    "import torch\n",
    "from src.data_loader.freihand_loader import F_DB\n",
    "from src.data_loader.sample_augmenter import SampleAugmenter\n",
    "from torch.utils.data import DataLoader\n",
    "from src.data_loader.utils import convert_2_5D_to_3D, get_root_depth, convert_to_2_5D\n",
    "from src.visualization.visualize import plot_hand\n",
    "from src.constants import MASTER_THESIS_DIR, FREIHAND_DATA, TRAINING_CONFIG_PATH\n",
    "from src.utils import read_json\n",
    "import matplotlib.pyplot as plt\n",
    "from ipywidgets import interact\n",
    "import ipywidgets as widgets\n",
    "from IPython.display import display\n",
    "from tqdm.notebook import tqdm\n",
    "from easydict import EasyDict as edict\n",
    "from PIL import Image\n",
    "import cv2"
   ]
  },
  {
   "cell_type": "code",
   "execution_count": 2,
   "metadata": {
    "ExecuteTime": {
     "end_time": "2020-10-03T20:32:48.373691Z",
     "start_time": "2020-10-03T20:32:48.366721Z"
    }
   },
   "outputs": [],
   "source": [
    "from src.data_loader.joints import Joints\n",
    "joints = Joints()\n",
    "config = edict(read_json(TRAINING_CONFIG_PATH))\n",
    "config.crop=False\n",
    "config.rotate =False\n",
    "config.resize=False"
   ]
  },
  {
   "cell_type": "code",
   "execution_count": 3,
   "metadata": {
    "ExecuteTime": {
     "end_time": "2020-10-03T20:32:48.428167Z",
     "start_time": "2020-10-03T20:32:48.424543Z"
    }
   },
   "outputs": [],
   "source": [
    "augment = SampleAugmenter(**config)"
   ]
  },
  {
   "cell_type": "markdown",
   "metadata": {},
   "source": [
    "# Dataset"
   ]
  },
  {
   "cell_type": "code",
   "execution_count": 4,
   "metadata": {
    "ExecuteTime": {
     "end_time": "2020-10-03T20:32:52.242084Z",
     "start_time": "2020-10-03T20:32:49.448332Z"
    }
   },
   "outputs": [],
   "source": [
    "f_db = F_DB(\n",
    "    root_dir=os.path.join(FREIHAND_DATA, \"training\", \"rgb\"),\n",
    "    labels_path=os.path.join(FREIHAND_DATA, \"training_xyz.json\"),\n",
    "    camera_param_path=os.path.join(FREIHAND_DATA, \"training_K.json\"),\n",
    "    transform=None,\n",
    "    config=config\n",
    ")"
   ]
  },
  {
   "cell_type": "markdown",
   "metadata": {},
   "source": [
    "# Comparing original and recreated 3D"
   ]
  },
  {
   "cell_type": "code",
   "execution_count": null,
   "metadata": {
    "ExecuteTime": {
     "end_time": "2020-10-02T12:48:38.490676Z",
     "start_time": "2020-10-02T12:48:38.488272Z"
    }
   },
   "outputs": [],
   "source": [
    "# convert_2_5D_to_3D(f_db[0]['joints'], f_db[0]['scale'], f_db[0]['K'])\n",
    "# print(f_db[0]['joints_3D'])"
   ]
  },
  {
   "cell_type": "markdown",
   "metadata": {
    "ExecuteTime": {
     "end_time": "2020-09-30T09:57:25.797783Z",
     "start_time": "2020-09-30T09:57:25.790996Z"
    }
   },
   "source": [
    "## Range of Error/absolute difference calculation"
   ]
  },
  {
   "cell_type": "code",
   "execution_count": null,
   "metadata": {
    "ExecuteTime": {
     "end_time": "2020-10-02T12:48:59.914078Z",
     "start_time": "2020-10-02T12:48:40.045302Z"
    }
   },
   "outputs": [],
   "source": [
    "error = torch.tensor(0)\n",
    "error_min = torch.tensor(100)\n",
    "high_error_index = []\n",
    "for id in tqdm(range(len(f_db)//4)):\n",
    "    joints25D = f_db[id][\"joints\"]\n",
    "    scale = f_db[id][\"scale\"]\n",
    "    K = f_db[id][\"K\"]\n",
    "    true_joints_3D = f_db[id][\"joints_3D\"]\n",
    "    error2  =torch.max(torch.abs((convert_2_5D_to_3D(joints25D, scale, K)-true_joints_3D)))\n",
    "    error2min = torch.min(torch.abs((convert_2_5D_to_3D(joints25D, scale, K)-true_joints_3D)))\n",
    "    if error2>error:\n",
    "        error = error2\n",
    "        print(f\"error_max {error}\")\n",
    "    if error_min>error2min:\n",
    "        error_min=error2min\n",
    "        print(f\"error_min {error_min}\")\n",
    "\n",
    "print(error_min, error)"
   ]
  },
  {
   "cell_type": "markdown",
   "metadata": {
    "ExecuteTime": {
     "end_time": "2020-09-30T16:52:30.288346Z",
     "start_time": "2020-09-30T16:52:30.285569Z"
    }
   },
   "source": [
    "# Augmentation exploration"
   ]
  },
  {
   "cell_type": "markdown",
   "metadata": {
    "ExecuteTime": {
     "end_time": "2020-10-01T08:54:50.603106Z",
     "start_time": "2020-10-01T08:54:50.595959Z"
    }
   },
   "source": [
    "## Visualize the cropping and rotation"
   ]
  },
  {
   "cell_type": "markdown",
   "metadata": {
    "ExecuteTime": {
     "end_time": "2020-10-01T08:55:18.971259Z",
     "start_time": "2020-10-01T08:55:18.964644Z"
    }
   },
   "source": [
    "### Inside the datareader"
   ]
  },
  {
   "cell_type": "code",
   "execution_count": 7,
   "metadata": {
    "ExecuteTime": {
     "end_time": "2020-10-03T20:08:41.984996Z",
     "start_time": "2020-10-03T20:08:41.881049Z"
    }
   },
   "outputs": [
    {
     "ename": "NameError",
     "evalue": "name 'interact' is not defined",
     "output_type": "error",
     "traceback": [
      "\u001b[0;31m---------------------------------------------------------------------------\u001b[0m",
      "\u001b[0;31mNameError\u001b[0m                                 Traceback (most recent call last)",
      "\u001b[0;32m<ipython-input-7-38d4880c9987>\u001b[0m in \u001b[0;36m<module>\u001b[0;34m\u001b[0m\n\u001b[0;32m----> 1\u001b[0;31m @interact(\n\u001b[0m\u001b[1;32m      2\u001b[0m     \u001b[0mid\u001b[0m\u001b[0;34m=\u001b[0m\u001b[0mwidgets\u001b[0m\u001b[0;34m.\u001b[0m\u001b[0mIntSlider\u001b[0m\u001b[0;34m(\u001b[0m\u001b[0mmin\u001b[0m\u001b[0;34m=\u001b[0m\u001b[0;36m0\u001b[0m\u001b[0;34m,\u001b[0m \u001b[0mmax\u001b[0m\u001b[0;34m=\u001b[0m\u001b[0;36m1000\u001b[0m\u001b[0;34m,\u001b[0m \u001b[0mstep\u001b[0m\u001b[0;34m=\u001b[0m\u001b[0;36m1\u001b[0m\u001b[0;34m,\u001b[0m \u001b[0mvalue\u001b[0m\u001b[0;34m=\u001b[0m\u001b[0;36m783\u001b[0m\u001b[0;34m)\u001b[0m\u001b[0;34m,\u001b[0m\u001b[0;34m\u001b[0m\u001b[0;34m\u001b[0m\u001b[0m\n\u001b[1;32m      3\u001b[0m )\n\u001b[1;32m      4\u001b[0m \u001b[0;32mdef\u001b[0m \u001b[0mvisualize_sample\u001b[0m\u001b[0;34m(\u001b[0m\u001b[0mid\u001b[0m\u001b[0;34m)\u001b[0m\u001b[0;34m:\u001b[0m\u001b[0;34m\u001b[0m\u001b[0;34m\u001b[0m\u001b[0m\n\u001b[1;32m      5\u001b[0m     \u001b[0msample\u001b[0m \u001b[0;34m=\u001b[0m \u001b[0mf_db\u001b[0m\u001b[0;34m[\u001b[0m\u001b[0mid\u001b[0m\u001b[0;34m]\u001b[0m\u001b[0;34m\u001b[0m\u001b[0;34m\u001b[0m\u001b[0m\n",
      "\u001b[0;31mNameError\u001b[0m: name 'interact' is not defined"
     ]
    }
   ],
   "source": [
    "@interact(\n",
    "    id=widgets.IntSlider(min=0, max=1000, step=1, value=783),\n",
    ")\n",
    "def visualize_sample(id):\n",
    "    sample = f_db[id]\n",
    "    A = sample[\"joints\"]\n",
    "    s = sample[\"scale\"]\n",
    "    K = sample[\"K\"]\n",
    "    img = transforms.ToPILImage()(sample[\"image\"])\n",
    "    fig = plt.figure(figsize=(10, 10))\n",
    "    ax = fig.add_subplot(111)\n",
    "    plt.imshow(img)\n",
    "    plot_hand(ax, A)\n",
    "    plt.show()"
   ]
  },
  {
   "cell_type": "code",
   "execution_count": null,
   "metadata": {},
   "outputs": [],
   "source": []
  }
 ],
 "metadata": {
  "kernelspec": {
   "display_name": "Python 3",
   "language": "python",
   "name": "python3"
  },
  "language_info": {
   "codemirror_mode": {
    "name": "ipython",
    "version": 3
   },
   "file_extension": ".py",
   "mimetype": "text/x-python",
   "name": "python",
   "nbconvert_exporter": "python",
   "pygments_lexer": "ipython3",
   "version": "3.6.9"
  },
  "toc": {
   "base_numbering": 1,
   "nav_menu": {},
   "number_sections": true,
   "sideBar": true,
   "skip_h1_title": false,
   "title_cell": "Table of Contents",
   "title_sidebar": "Contents",
   "toc_cell": false,
   "toc_position": {},
   "toc_section_display": true,
   "toc_window_display": false
  },
  "varInspector": {
   "cols": {
    "lenName": 16,
    "lenType": 16,
    "lenVar": 40
   },
   "kernels_config": {
    "python": {
     "delete_cmd_postfix": "",
     "delete_cmd_prefix": "del ",
     "library": "var_list.py",
     "varRefreshCmd": "print(var_dic_list())"
    },
    "r": {
     "delete_cmd_postfix": ") ",
     "delete_cmd_prefix": "rm(",
     "library": "var_list.r",
     "varRefreshCmd": "cat(var_dic_list()) "
    }
   },
   "types_to_exclude": [
    "module",
    "function",
    "builtin_function_or_method",
    "instance",
    "_Feature"
   ],
   "window_display": false
  }
 },
 "nbformat": 4,
 "nbformat_minor": 4
}
