{
 "cells": [
  {
   "cell_type": "markdown",
   "metadata": {},
   "source": [
    "# Import Libraries"
   ]
  },
  {
   "cell_type": "code",
   "execution_count": 42,
   "metadata": {
    "ExecuteTime": {
     "end_time": "2020-10-09T17:37:03.059161Z",
     "start_time": "2020-10-09T17:37:03.046142Z"
    }
   },
   "outputs": [],
   "source": [
    "import os\n",
    "import torch\n",
    "from torchvision import transforms\n",
    "from torch.utils.data import DataLoader\n",
    "from src.data_loader.data_set import Data_Set\n",
    "from src.data_loader.freihand_loader import F_DB\n",
    "from src.constants import MASTER_THESIS_DIR, FREIHAND_DATA\n",
    "from src.utils import read_json\n",
    "import matplotlib.pyplot as plt\n",
    "from ipywidgets import interact\n",
    "import ipywidgets as widgets\n",
    "from IPython.display import display\n",
    "import copy\n",
    "from easydict import EasyDict as edict\n",
    "from src.utils import read_json\n",
    "from src.visualization.visualize import plot_hand\n",
    "from PIL import Image\n",
    "import cv2"
   ]
  },
  {
   "cell_type": "markdown",
   "metadata": {
    "ExecuteTime": {
     "end_time": "2020-10-09T17:26:00.961338Z",
     "start_time": "2020-10-09T17:26:00.945282Z"
    }
   },
   "source": [
    "# Read data"
   ]
  },
  {
   "cell_type": "code",
   "execution_count": 14,
   "metadata": {
    "ExecuteTime": {
     "end_time": "2020-10-09T17:26:04.572735Z",
     "start_time": "2020-10-09T17:26:01.604228Z"
    }
   },
   "outputs": [],
   "source": [
    "config = edict(read_json(f\"{MASTER_THESIS_DIR}/src/experiments/training_config.json\"))\n",
    "f_db = F_DB(\n",
    "    root_dir=os.path.join(FREIHAND_DATA, \"training\", \"rgb\"),\n",
    "    labels_path=os.path.join(FREIHAND_DATA, \"training_xyz.json\"),\n",
    "    camera_param_path=os.path.join(FREIHAND_DATA, \"training_K.json\"),\n",
    "    transform=None,\n",
    "    config=config\n",
    ")"
   ]
  },
  {
   "cell_type": "markdown",
   "metadata": {
    "ExecuteTime": {
     "end_time": "2020-10-11T07:24:26.562617Z",
     "start_time": "2020-10-11T07:24:26.559625Z"
    }
   },
   "source": [
    "# Define image augmenters"
   ]
  },
  {
   "cell_type": "code",
   "execution_count": 126,
   "metadata": {
    "ExecuteTime": {
     "end_time": "2020-10-09T18:23:18.339335Z",
     "start_time": "2020-10-09T18:23:18.307186Z"
    }
   },
   "outputs": [],
   "source": [
    "original_image_cv = f_db[5][\"image\"]\n",
    "random_cutout  = original_image_cv.copy()\n",
    "random_cutout[54:94,54:94] =0\n",
    "\n",
    "original_image = Image.fromarray(original_image_cv[:,:,::-1])\n",
    "rotated_image = Image.fromarray(cv2.cvtColor(f_db[5][\"image\"],cv2.COLOR_BGR2RGB))\n",
    "colorjitter_image = colorjitter(original_image)\n",
    "crop_and_resize_image = resizer(randomcropper(original_image))\n",
    "crop_resized_flipped_image = flipper(crop_and_resize_image)\n",
    "gaussina_blur_image = Image.fromarray(cv2.cvtColor( cv2.GaussianBlur(original_image_cv,(5,5),0),cv2.COLOR_BGR2RGB))\n",
    "random_cutout_image = Image.fromarray(cv2.cvtColor( random_cutout,cv2.COLOR_BGR2RGB))\n",
    "color_drop = original_image.convert('LA')"
   ]
  },
  {
   "cell_type": "markdown",
   "metadata": {
    "ExecuteTime": {
     "end_time": "2020-10-11T07:24:49.027493Z",
     "start_time": "2020-10-11T07:24:49.024828Z"
    }
   },
   "source": [
    "## Save augmneted images"
   ]
  },
  {
   "cell_type": "code",
   "execution_count": 141,
   "metadata": {
    "ExecuteTime": {
     "end_time": "2020-10-09T18:48:18.057452Z",
     "start_time": "2020-10-09T18:48:18.041754Z"
    }
   },
   "outputs": [],
   "source": [
    "color_drop.save(\"color_drop.png\")\n",
    "original_image.save(\"original_image.png\")\n",
    "rotated_image.save(\"rotated_image.png\")\n",
    "colorjitter_image.save(\"colorjitter_image.png\")\n",
    "crop_and_resize_image.save(\"crop_and_resize_image.png\")\n",
    "crop_resized_flipped_image.save(\"crop_resized_flipped_image.png\")\n",
    "gaussina_blur_image.save(\"gaussina_blur_image.png\")\n",
    "random_cutout_image.save(\"random_cutout_image.png\")\n",
    "color_drop.save(\"color_drop.png\")"
   ]
  }
 ],
 "metadata": {
  "kernelspec": {
   "display_name": "Python 3",
   "language": "python",
   "name": "python3"
  },
  "language_info": {
   "codemirror_mode": {
    "name": "ipython",
    "version": 3
   },
   "file_extension": ".py",
   "mimetype": "text/x-python",
   "name": "python",
   "nbconvert_exporter": "python",
   "pygments_lexer": "ipython3",
   "version": "3.6.9"
  },
  "toc": {
   "base_numbering": 1,
   "nav_menu": {},
   "number_sections": true,
   "sideBar": true,
   "skip_h1_title": false,
   "title_cell": "Table of Contents",
   "title_sidebar": "Contents",
   "toc_cell": false,
   "toc_position": {},
   "toc_section_display": true,
   "toc_window_display": false
  },
  "varInspector": {
   "cols": {
    "lenName": 16,
    "lenType": 16,
    "lenVar": 40
   },
   "kernels_config": {
    "python": {
     "delete_cmd_postfix": "",
     "delete_cmd_prefix": "del ",
     "library": "var_list.py",
     "varRefreshCmd": "print(var_dic_list())"
    },
    "r": {
     "delete_cmd_postfix": ") ",
     "delete_cmd_prefix": "rm(",
     "library": "var_list.r",
     "varRefreshCmd": "cat(var_dic_list()) "
    }
   },
   "types_to_exclude": [
    "module",
    "function",
    "builtin_function_or_method",
    "instance",
    "_Feature"
   ],
   "window_display": false
  }
 },
 "nbformat": 4,
 "nbformat_minor": 4
}
