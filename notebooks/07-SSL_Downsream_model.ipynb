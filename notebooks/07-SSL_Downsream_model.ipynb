{
 "cells": [
  {
   "cell_type": "markdown",
   "metadata": {
    "ExecuteTime": {
     "end_time": "2020-10-16T09:15:52.586701Z",
     "start_time": "2020-10-16T09:15:52.583995Z"
    }
   },
   "source": [
    "# Import Libraries"
   ]
  },
  {
   "cell_type": "code",
   "execution_count": 12,
   "metadata": {
    "ExecuteTime": {
     "end_time": "2020-10-29T16:17:34.545418Z",
     "start_time": "2020-10-29T16:17:34.538302Z"
    }
   },
   "outputs": [],
   "source": [
    "import os\n",
    "import copy\n",
    "from tqdm.notebook import tqdm\n",
    "import pprint\n",
    "from ipywidgets import interact\n",
    "import ipywidgets as widgets\n",
    "from IPython.display import display\n",
    "import torch\n",
    "from torch import nn\n",
    "import os\n",
    "import math\n",
    "from src.models.utils import cal_l1_loss\n",
    "from pytorch_lightning.loggers import CometLogger\n",
    "from pytorch_lightning.core.lightning import LightningModule\n",
    "from easydict import EasyDict as edict\n",
    "from pytorch_lightning import Trainer, seed_everything\n",
    "from pytorch_lightning.callbacks import LearningRateMonitor\n",
    "from src.constants import DATA_PATH, MASTER_THESIS_DIR, TRAINING_CONFIG_PATH, SIMCLR_CONFIG, SSL_CONFIG, PAIRWISE_CONFIG, MODEL_CONFIG_PATH\n",
    "from src.data_loader.data_set import Data_Set\n",
    "from src.data_loader.utils import get_train_val_split\n",
    "from src.experiments.utils import get_experiement_args, process_experiment_args\n",
    "from src.models.callbacks.upload_comet_logs import UploadCometLogs\n",
    "from src.models.simclr_model import SimCLR\n",
    "from src.utils import get_console_logger, read_json\n",
    "from torchvision import transforms\n",
    "from pl_bolts.optimizers.lars_scheduling import LARSWrapper\n",
    "from pl_bolts.optimizers.lr_scheduler import LinearWarmupCosineAnnealingLR\n",
    "from src.models.supervised_head_model import SupervisedHead"
   ]
  },
  {
   "cell_type": "markdown",
   "metadata": {
    "ExecuteTime": {
     "end_time": "2020-10-16T09:17:51.344714Z",
     "start_time": "2020-10-16T09:17:51.342914Z"
    }
   },
   "source": [
    "# Read data"
   ]
  },
  {
   "cell_type": "code",
   "execution_count": 13,
   "metadata": {
    "ExecuteTime": {
     "end_time": "2020-10-29T16:17:35.488534Z",
     "start_time": "2020-10-29T16:17:35.486004Z"
    }
   },
   "outputs": [],
   "source": [
    "train_param = edict(read_json(TRAINING_CONFIG_PATH))\n",
    "model_param = edict(\n",
    "        read_json(SSL_CONFIG\n",
    "        )\n",
    ")\n",
    "train_param.augmentation_flags.resize=True\n",
    "train_param.augmentation_flags.rotate=False\n",
    "train_param.augmentation_flags.crop=True"
   ]
  },
  {
   "cell_type": "code",
   "execution_count": 14,
   "metadata": {
    "ExecuteTime": {
     "end_time": "2020-10-29T16:17:37.610754Z",
     "start_time": "2020-10-29T16:17:37.606961Z"
    }
   },
   "outputs": [
    {
     "data": {
      "text/plain": [
       "({'batch_size': 128,\n",
       "  'epochs': 150,\n",
       "  'train_ratio': 0.9,\n",
       "  'gpu': True,\n",
       "  'num_workers': 8,\n",
       "  'seed': 5,\n",
       "  'augmentation_flags': {'color_drop': True,\n",
       "   'color_jitter': True,\n",
       "   'crop': True,\n",
       "   'cut_out': True,\n",
       "   'flip': False,\n",
       "   'gaussian_blur': True,\n",
       "   'random_crop': False,\n",
       "   'resize': True,\n",
       "   'rotate': False},\n",
       "  'augmentation_order': [],\n",
       "  'augmentation_flags0': {'color_drop': True,\n",
       "   'color_jitter': True,\n",
       "   'crop': True,\n",
       "   'cut_out': True,\n",
       "   'flip': False,\n",
       "   'gaussian_blur': True,\n",
       "   'random_crop': False,\n",
       "   'resize': True,\n",
       "   'rotate': True},\n",
       "  'augmentation_params': {'crop_margin': 1.5,\n",
       "   'crop_margin_range': [0.6, 2.0],\n",
       "   'cut_out_fraction': [0.0, 0.16],\n",
       "   'hue_factor_range': [0.01, 1.0],\n",
       "   'max_angle': 359,\n",
       "   'min_angle': 0,\n",
       "   'resize_shape': [128, 128],\n",
       "   'sat_factor_range': [0.01, 1.0],\n",
       "   'value_factor_alpha_range': [0.5, 1],\n",
       "   'value_factor_beta_range': [5, 20],\n",
       "   'crop_box_jitter': [0.0, 0.1]}},\n",
       " {'batch_size': 128,\n",
       "  'lr': 0.0001,\n",
       "  'opt_weight_decay': 0.0001,\n",
       "  'warmup_epochs': 10,\n",
       "  'simclr_experiment_name': '14910753afb9499ab9229174d6377efb',\n",
       "  'alpha': 5,\n",
       "  'gpu': True,\n",
       "  'checkpoint': ''})"
      ]
     },
     "execution_count": 14,
     "metadata": {},
     "output_type": "execute_result"
    }
   ],
   "source": [
    "train_param.num_workers=8\n",
    "train_param.epochs = 150\n",
    "model_param.warmup_epochs = 10\n",
    "train_param, model_param"
   ]
  },
  {
   "cell_type": "code",
   "execution_count": 15,
   "metadata": {
    "ExecuteTime": {
     "end_time": "2020-10-29T16:17:39.777339Z",
     "start_time": "2020-10-29T16:17:38.798100Z"
    }
   },
   "outputs": [],
   "source": [
    "data = Data_Set(\n",
    "        config=train_param,\n",
    "        transform=transforms.Compose([transforms.ToTensor()]),\n",
    "        train_set=True,\n",
    "        experiment_type=\"supervised\",\n",
    "    )\n",
    "model_param.num_samples= len(data)\n",
    "model_param.alpha =5\n",
    "model_param.gpu = True"
   ]
  },
  {
   "cell_type": "code",
   "execution_count": 16,
   "metadata": {
    "ExecuteTime": {
     "end_time": "2020-10-29T16:17:39.800421Z",
     "start_time": "2020-10-29T16:17:39.798788Z"
    }
   },
   "outputs": [],
   "source": [
    "model_param.saved_model_name = \"9f302cea72a2459eb14dfad33b1a9783\"\n",
    "model_param.checkpoint=\"\""
   ]
  },
  {
   "cell_type": "code",
   "execution_count": 17,
   "metadata": {
    "ExecuteTime": {
     "end_time": "2020-10-29T16:17:40.441987Z",
     "start_time": "2020-10-29T16:17:40.434840Z"
    }
   },
   "outputs": [],
   "source": [
    "train_data_loader, val_data_loader = get_train_val_split(\n",
    "        data, batch_size=train_param.batch_size, num_workers=train_param.num_workers\n",
    "    )"
   ]
  },
  {
   "cell_type": "code",
   "execution_count": 7,
   "metadata": {
    "ExecuteTime": {
     "end_time": "2020-10-29T16:16:42.849036Z",
     "start_time": "2020-10-29T16:16:42.846460Z"
    }
   },
   "outputs": [
    {
     "data": {
      "text/plain": [
       "{'batch_size': 128,\n",
       " 'lr': 0.0001,\n",
       " 'opt_weight_decay': 0.0001,\n",
       " 'warmup_epochs': 10,\n",
       " 'simclr_experiment_name': '14910753afb9499ab9229174d6377efb',\n",
       " 'alpha': 5,\n",
       " 'gpu': True,\n",
       " 'checkpoint': '',\n",
       " 'num_samples': 117216,\n",
       " 'saved_model_name': '9f302cea72a2459eb14dfad33b1a9783'}"
      ]
     },
     "execution_count": 7,
     "metadata": {},
     "output_type": "execute_result"
    }
   ],
   "source": [
    "model_param"
   ]
  },
  {
   "cell_type": "code",
   "execution_count": 18,
   "metadata": {
    "ExecuteTime": {
     "end_time": "2020-10-29T16:17:43.147872Z",
     "start_time": "2020-10-29T16:17:42.949053Z"
    }
   },
   "outputs": [],
   "source": [
    "from src.models.pairwise_model import SupervisedHead\n",
    "model_ssl = SupervisedHead(model_param)"
   ]
  },
  {
   "cell_type": "code",
   "execution_count": 9,
   "metadata": {
    "ExecuteTime": {
     "end_time": "2020-10-29T16:16:51.153077Z",
     "start_time": "2020-10-29T16:16:51.150458Z"
    }
   },
   "outputs": [
    {
     "data": {
      "text/plain": [
       "10"
      ]
     },
     "execution_count": 9,
     "metadata": {},
     "output_type": "execute_result"
    }
   ],
   "source": [
    "model_ssl.config.warmup_epochs"
   ]
  },
  {
   "cell_type": "code",
   "execution_count": 21,
   "metadata": {
    "ExecuteTime": {
     "end_time": "2020-10-29T16:18:38.299319Z",
     "start_time": "2020-10-29T16:18:38.293619Z"
    }
   },
   "outputs": [
    {
     "name": "stderr",
     "output_type": "stream",
     "text": [
      "CometLogger will be initialized in online mode\n",
      "GPU available: True, used: True\n",
      "TPU available: False, using: 0 TPU cores\n",
      "LOCAL_RANK: 0 - CUDA_VISIBLE_DEVICES: [0]\n",
      "Using native 16bit precision.\n"
     ]
    }
   ],
   "source": [
    "comet_logger = CometLogger(\n",
    "    api_key=os.environ.get(\"COMET_API_KEY\"),\n",
    "    project_name=\"master-thesis\",\n",
    "    workspace=\"dahiyaaneesh\",\n",
    "    save_dir=os.path.join(DATA_PATH, \"models\"),\n",
    ")\n",
    "upload_comet_logs = UploadCometLogs(\n",
    "    \"step\", get_console_logger(\"callback\"), \"supervised_ssl\"\n",
    ")\n",
    "lr_monitor = LearningRateMonitor(logging_interval=\"step\")\n",
    "trainer = Trainer(precision=16,\n",
    "    gpus=1,\n",
    "    max_epochs=train_param.epochs,\n",
    "#     logger=comet_logger,\n",
    "    callbacks=[upload_comet_logs,lr_monitor],\n",
    ")"
   ]
  },
  {
   "cell_type": "code",
   "execution_count": 22,
   "metadata": {
    "ExecuteTime": {
     "end_time": "2020-10-29T16:21:04.035954Z",
     "start_time": "2020-10-29T16:18:40.246748Z"
    }
   },
   "outputs": [
    {
     "name": "stderr",
     "output_type": "stream",
     "text": [
      "callback -ERROR - Comet logger object missing! Logs won't be updated\n",
      "callback -ERROR - Comet logger object missing! Logs won't be updated\n",
      "callback -ERROR - Comet logger object missing! Logs won't be updated\n",
      "\n",
      "  | Name         | Type       | Params\n",
      "--------------------------------------------\n",
      "0 | encoder      | ResNet     | 11 M  \n",
      "1 | final_layers | Sequential | 74 K  \n"
     ]
    },
    {
     "data": {
      "application/vnd.jupyter.widget-view+json": {
       "model_id": "",
       "version_major": 2,
       "version_minor": 0
      },
      "text/plain": [
       "HBox(children=(HTML(value='Validation sanity check'), FloatProgress(value=1.0, bar_style='info', layout=Layout…"
      ]
     },
     "metadata": {},
     "output_type": "display_data"
    },
    {
     "data": {
      "application/vnd.jupyter.widget-view+json": {
       "model_id": "4c8b5217bb464541a4171d3da51be266",
       "version_major": 2,
       "version_minor": 0
      },
      "text/plain": [
       "HBox(children=(HTML(value='Training'), FloatProgress(value=1.0, bar_style='info', layout=Layout(flex='2'), max…"
      ]
     },
     "metadata": {},
     "output_type": "display_data"
    },
    {
     "data": {
      "application/vnd.jupyter.widget-view+json": {
       "model_id": "",
       "version_major": 2,
       "version_minor": 0
      },
      "text/plain": [
       "HBox(children=(HTML(value='Validating'), FloatProgress(value=1.0, bar_style='info', layout=Layout(flex='2'), m…"
      ]
     },
     "metadata": {},
     "output_type": "display_data"
    },
    {
     "name": "stdout",
     "output_type": "stream",
     "text": [
      "\n"
     ]
    },
    {
     "name": "stderr",
     "output_type": "stream",
     "text": [
      "/local/home/adahiya/Documents/master_thesis/master_thesis_env/lib/python3.6/site-packages/pytorch_lightning/utilities/distributed.py:45: UserWarning: Detected KeyboardInterrupt, attempting graceful shutdown...\n",
      "  warnings.warn(*args, **kwargs)\n"
     ]
    },
    {
     "data": {
      "text/plain": [
       "1"
      ]
     },
     "execution_count": 22,
     "metadata": {},
     "output_type": "execute_result"
    },
    {
     "name": "stderr",
     "output_type": "stream",
     "text": [
      "Traceback (most recent call last):\n",
      "  File \"/usr/lib/python3.6/multiprocessing/queues.py\", line 240, in _feed\n",
      "    send_bytes(obj)\n",
      "  File \"/usr/lib/python3.6/multiprocessing/connection.py\", line 200, in send_bytes\n",
      "    self._send_bytes(m[offset:offset + size])\n",
      "  File \"/usr/lib/python3.6/multiprocessing/connection.py\", line 404, in _send_bytes\n",
      "    self._send(header + buf)\n",
      "  File \"/usr/lib/python3.6/multiprocessing/connection.py\", line 368, in _send\n",
      "    n = write(self._handle, buf)\n",
      "BrokenPipeError: [Errno 32] Broken pipe\n",
      "Traceback (most recent call last):\n",
      "  File \"/usr/lib/python3.6/multiprocessing/queues.py\", line 240, in _feed\n",
      "    send_bytes(obj)\n",
      "  File \"/usr/lib/python3.6/multiprocessing/connection.py\", line 200, in send_bytes\n",
      "    self._send_bytes(m[offset:offset + size])\n",
      "  File \"/usr/lib/python3.6/multiprocessing/connection.py\", line 404, in _send_bytes\n",
      "    self._send(header + buf)\n",
      "  File \"/usr/lib/python3.6/multiprocessing/connection.py\", line 368, in _send\n",
      "    n = write(self._handle, buf)\n",
      "BrokenPipeError: [Errno 32] Broken pipe\n"
     ]
    }
   ],
   "source": [
    "trainer.fit(model_ssl,train_data_loader, val_data_loader)"
   ]
  },
  {
   "cell_type": "code",
   "execution_count": null,
   "metadata": {},
   "outputs": [],
   "source": []
  }
 ],
 "metadata": {
  "kernelspec": {
   "display_name": "Python 3",
   "language": "python",
   "name": "python3"
  },
  "language_info": {
   "codemirror_mode": {
    "name": "ipython",
    "version": 3
   },
   "file_extension": ".py",
   "mimetype": "text/x-python",
   "name": "python",
   "nbconvert_exporter": "python",
   "pygments_lexer": "ipython3",
   "version": "3.6.9"
  },
  "toc": {
   "base_numbering": 1,
   "nav_menu": {},
   "number_sections": true,
   "sideBar": true,
   "skip_h1_title": false,
   "title_cell": "Table of Contents",
   "title_sidebar": "Contents",
   "toc_cell": false,
   "toc_position": {},
   "toc_section_display": true,
   "toc_window_display": false
  },
  "varInspector": {
   "cols": {
    "lenName": 16,
    "lenType": 16,
    "lenVar": 40
   },
   "kernels_config": {
    "python": {
     "delete_cmd_postfix": "",
     "delete_cmd_prefix": "del ",
     "library": "var_list.py",
     "varRefreshCmd": "print(var_dic_list())"
    },
    "r": {
     "delete_cmd_postfix": ") ",
     "delete_cmd_prefix": "rm(",
     "library": "var_list.r",
     "varRefreshCmd": "cat(var_dic_list()) "
    }
   },
   "position": {
    "height": "503px",
    "left": "1483px",
    "right": "20px",
    "top": "120px",
    "width": "350px"
   },
   "types_to_exclude": [
    "module",
    "function",
    "builtin_function_or_method",
    "instance",
    "_Feature"
   ],
   "window_display": true
  }
 },
 "nbformat": 4,
 "nbformat_minor": 4
}
