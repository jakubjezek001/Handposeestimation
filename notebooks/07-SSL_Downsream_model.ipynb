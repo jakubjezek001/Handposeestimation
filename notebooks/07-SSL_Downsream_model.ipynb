{
 "cells": [
  {
   "cell_type": "markdown",
   "metadata": {
    "ExecuteTime": {
     "end_time": "2020-10-16T09:15:52.586701Z",
     "start_time": "2020-10-16T09:15:52.583995Z"
    }
   },
   "source": [
    "# Import Libraries"
   ]
  },
  {
   "cell_type": "code",
   "execution_count": 1,
   "metadata": {
    "ExecuteTime": {
     "end_time": "2020-10-16T15:21:42.274557Z",
     "start_time": "2020-10-16T15:21:41.548152Z"
    }
   },
   "outputs": [],
   "source": [
    "import os\n",
    "import copy\n",
    "from tqdm.notebook import tqdm\n",
    "import pprint\n",
    "from ipywidgets import interact\n",
    "import ipywidgets as widgets\n",
    "from IPython.display import display\n",
    "import torch\n",
    "from torch import nn\n",
    "import os\n",
    "import math\n",
    "from src.models.utils import cal_l1_loss\n",
    "from pytorch_lightning.loggers import CometLogger\n",
    "from pytorch_lightning.core.lightning import LightningModule\n",
    "from easydict import EasyDict as edict\n",
    "from pytorch_lightning import Trainer, seed_everything\n",
    "from pytorch_lightning.callbacks import LearningRateMonitor\n",
    "from src.constants import DATA_PATH, MASTER_THESIS_DIR, TRAINING_CONFIG_PATH\n",
    "from src.data_loader.data_set import Data_Set\n",
    "from src.data_loader.utils import get_train_val_split\n",
    "from src.experiments.utils import get_experiement_args, process_experiment_args\n",
    "from src.models.callbacks.upload_comet_logs import UploadCometLogs\n",
    "from src.models.simclr_model import SimCLR\n",
    "from src.utils import get_console_logger, read_json\n",
    "from torchvision import transforms\n",
    "from pl_bolts.optimizers.lars_scheduling import LARSWrapper\n",
    "from pl_bolts.optimizers.lr_scheduler import LinearWarmupCosineAnnealingLR"
   ]
  },
  {
   "cell_type": "markdown",
   "metadata": {
    "ExecuteTime": {
     "end_time": "2020-10-16T09:17:51.344714Z",
     "start_time": "2020-10-16T09:17:51.342914Z"
    }
   },
   "source": [
    "# Read data"
   ]
  },
  {
   "cell_type": "code",
   "execution_count": 2,
   "metadata": {
    "ExecuteTime": {
     "end_time": "2020-10-16T15:21:42.632924Z",
     "start_time": "2020-10-16T15:21:42.622711Z"
    }
   },
   "outputs": [],
   "source": [
    "train_param = edict(read_json(TRAINING_CONFIG_PATH))\n",
    "model_param = edict(\n",
    "        read_json(\n",
    "            os.path.join(MASTER_THESIS_DIR, \"src\", \"experiments\", \"simclr_config.json\")\n",
    "        )\n",
    ")\n",
    "train_param.augmentation_flags.resize=True\n",
    "train_param.augmentation_flags.rotate=True\n",
    "train_param.augmentation_flags.crop=True"
   ]
  },
  {
   "cell_type": "code",
   "execution_count": 4,
   "metadata": {
    "ExecuteTime": {
     "end_time": "2020-10-16T15:19:33.952143Z",
     "start_time": "2020-10-16T15:19:33.946259Z"
    }
   },
   "outputs": [],
   "source": [
    "train_param.num_workers=8"
   ]
  },
  {
   "cell_type": "code",
   "execution_count": 3,
   "metadata": {
    "ExecuteTime": {
     "end_time": "2020-10-16T15:21:45.063433Z",
     "start_time": "2020-10-16T15:21:44.091932Z"
    }
   },
   "outputs": [],
   "source": [
    "data = Data_Set(\n",
    "        config=train_param,\n",
    "        transform=transforms.Compose([transforms.ToTensor()]),\n",
    "        train_set=True,\n",
    "        experiment_type=\"supervised\",\n",
    "    )\n",
    "model_param.num_samples= len(data)\n",
    "model_param.alpha =5\n",
    "model_param.gpu = True"
   ]
  },
  {
   "cell_type": "code",
   "execution_count": 4,
   "metadata": {
    "ExecuteTime": {
     "end_time": "2020-10-16T15:21:45.734198Z",
     "start_time": "2020-10-16T15:21:45.731986Z"
    }
   },
   "outputs": [],
   "source": [
    "train_data_loader, val_data_loader = get_train_val_split(\n",
    "        data, batch_size=512, num_workers=train_param.num_workers\n",
    "    )"
   ]
  },
  {
   "cell_type": "code",
   "execution_count": 5,
   "metadata": {
    "ExecuteTime": {
     "end_time": "2020-10-16T15:21:48.041987Z",
     "start_time": "2020-10-16T15:21:48.029691Z"
    },
    "code_folding": [
     51,
     53,
     70,
     88
    ]
   },
   "outputs": [],
   "source": [
    "class SupervisedHead(LightningModule):\n",
    "    def __init__(self, simclr_config: edict, saved_simclr_model_path:str, config:edict):\n",
    "        super().__init__()\n",
    "        self.config = config\n",
    "        self.encoder= self.get_simclr_model(simclr_config, saved_simclr_model_path)\n",
    "        self.final_layers = nn.Sequential(\n",
    "            nn.Linear(512, 128), nn.BatchNorm1d(128), nn.ReLU(), nn.Linear(128, 21 * 3)\n",
    "        )\n",
    "#         self.layer1 = nn.Linear(512,128)\n",
    "#         self.batch_norm = nn.BatchNorm1d(128)\n",
    "#         self.output_layer = nn.Linear(128,21*3)\n",
    "        self.train_metrics_epoch = None\n",
    "        self.train_metrics = None\n",
    "        self.validation_metrics_epoch = None\n",
    "        self.plot_params = None\n",
    "\n",
    "    def get_simclr_model(self, simclr_config, saved_simclr_model_path):\n",
    "        simclr_model = SimCLR(simclr_config)\n",
    "        saved_model_state = torch.load(saved_simclr_model_path)[\"state_dict\"]\n",
    "        simclr_model.load_state_dict(saved_model_state)\n",
    "        for param in simclr_model.parameters():\n",
    "            param.requires_grad = False\n",
    "        return simclr_model.encoder\n",
    "\n",
    "    def forward(self, x):\n",
    "        x = self.encoder(x)\n",
    "        x = self.final_layers(x)\n",
    "#         x = self.layer1(x)\n",
    "#         x = self.batch_norm(x) \n",
    "#         x = self.output_layer(x)\n",
    "        x = x.view(-1, 21, 3)\n",
    "        return x\n",
    "\n",
    "    def training_step(self, batch: dict, batch_idx: int):\n",
    "        x, y = batch[\"image\"], batch[\"joints\"]\n",
    "        with torch.cuda.amp.autocast():\n",
    "            prediction = self(x)\n",
    "            loss_2d, loss_z = cal_l1_loss(prediction, y)\n",
    "            loss = loss_2d + self.config.alpha * loss_z\n",
    "        metrics = {\"loss\": loss, \"loss_z\": loss_z, \"loss_2d\": loss_2d}\n",
    "        self.train_metrics = metrics\n",
    "        self.plot_params = {\"prediction\": prediction, \"ground_truth\": y, \"input\": x}\n",
    "        return metrics\n",
    "    \n",
    "    def training_epoch_end(self, outputs):\n",
    "        loss = torch.stack([x[\"loss\"] for x in outputs]).mean()\n",
    "        loss_z = torch.stack([x[\"loss_z\"] for x in outputs]).mean()\n",
    "        loss_2d = torch.stack([x[\"loss_2d\"] for x in outputs]).mean()\n",
    "        self.train_metrics_epoch = {\"loss\": loss, \"loss_z\": loss_z, \"loss_2d\": loss_2d}\n",
    "\n",
    "    def exclude_from_wt_decay(\n",
    "        self, named_params, weight_decay, skip_list=[\"bias\", \"bn\"]\n",
    "    ):\n",
    "        params = []\n",
    "        excluded_params = []\n",
    "\n",
    "        for name, param in named_params:\n",
    "            if not param.requires_grad:\n",
    "                continue\n",
    "            elif any(layer_name in name for layer_name in skip_list):\n",
    "                excluded_params.append(param)\n",
    "            else:\n",
    "                params.append(param)\n",
    "\n",
    "        return [\n",
    "            {\"params\": params, \"weight_decay\": weight_decay},\n",
    "            {\"params\": excluded_params, \"weight_decay\": 0.0},\n",
    "        ]\n",
    "\n",
    "    def setup(self, stage):\n",
    "        global_batch_size = self.trainer.world_size * self.config.batch_size\n",
    "        self.train_iters_per_epoch = self.config.num_samples // global_batch_size\n",
    "\n",
    "    def configure_optimizers(self):\n",
    "        parameters = self.exclude_from_wt_decay(\n",
    "            self.named_parameters(), weight_decay=self.config.opt_weight_decay\n",
    "        )\n",
    "        optimizer = LARSWrapper(\n",
    "            torch.optim.Adam(\n",
    "                parameters, lr=self.config.lr * math.sqrt(self.config.batch_size)\n",
    "            )\n",
    "        )\n",
    "        self.config.warmup_epochs = (\n",
    "            self.config.warmup_epochs * self.train_iters_per_epoch\n",
    "        )\n",
    "        max_epochs = self.trainer.max_epochs * self.train_iters_per_epoch\n",
    "\n",
    "        linear_warmup_cosine_decay = LinearWarmupCosineAnnealingLR(\n",
    "            optimizer,\n",
    "            warmup_epochs=self.config.warmup_epochs,\n",
    "            max_epochs=max_epochs,\n",
    "            warmup_start_lr=0,\n",
    "            eta_min=0,\n",
    "        )\n",
    "\n",
    "        scheduler = {\n",
    "            \"scheduler\": linear_warmup_cosine_decay,\n",
    "            \"interval\": \"step\",\n",
    "            \"frequency\": 1,\n",
    "        }\n",
    "#         return torch.optim.Adam(\n",
    "#                 self.parameters(), lr=self.config.lr * math.sqrt(self.config.batch_size)\n",
    "#             )\n",
    "        return [optimizer], [scheduler]\n",
    "\n",
    "    def validation_step(self, batch: dict, batch_idx: int) -> dict:\n",
    "        x, y = batch[\"image\"], batch[\"joints\"]\n",
    "        prediction = self(x)\n",
    "        loss_2d, loss_z = cal_l1_loss(prediction, y)\n",
    "        loss = loss_2d + self.config.alpha * loss_z\n",
    "        metrics = {\"loss\": loss, \"loss_z\": loss_z, \"loss_2d\": loss_2d}\n",
    "        self.plot_params = {\"prediction\": prediction, \"ground_truth\": y, \"input\": x}\n",
    "\n",
    "        return metrics\n",
    "\n",
    "    def validation_epoch_end(self, outputs) -> dict:\n",
    "        loss = torch.stack([x[\"loss\"] for x in outputs]).mean()\n",
    "        loss_z = torch.stack([x[\"loss_z\"] for x in outputs]).mean()\n",
    "        loss_2d = torch.stack([x[\"loss_2d\"] for x in outputs]).mean()\n",
    "        metrics = {\"loss\": loss, \"loss_z\": loss_z, \"loss_2d\": loss_2d}\n",
    "        self.validation_metrics_epoch = metrics"
   ]
  },
  {
   "cell_type": "code",
   "execution_count": 6,
   "metadata": {
    "ExecuteTime": {
     "end_time": "2020-10-16T15:21:53.013799Z",
     "start_time": "2020-10-16T15:21:51.219853Z"
    }
   },
   "outputs": [],
   "source": [
    "model_ssl = SupervisedHead(model_param, \"/local/home/adahiya/Documents/master_thesis/data/models/master-thesis/a7c43b88d9c34332bf3c86eb81f5db7d/checkpoints/epoch=99.ckpt\", model_param)"
   ]
  },
  {
   "cell_type": "code",
   "execution_count": 10,
   "metadata": {
    "ExecuteTime": {
     "end_time": "2020-10-16T15:20:13.657006Z",
     "start_time": "2020-10-16T15:20:13.652898Z"
    }
   },
   "outputs": [
    {
     "name": "stderr",
     "output_type": "stream",
     "text": [
      "GPU available: True, used: True\n",
      "TPU available: False, using: 0 TPU cores\n",
      "LOCAL_RANK: 0 - CUDA_VISIBLE_DEVICES: [0]\n"
     ]
    }
   ],
   "source": [
    "# comet_logger = CometLogger(\n",
    "#     api_key=os.environ.get(\"COMET_API_KEY\"),\n",
    "#     project_name=\"master-thesis\",\n",
    "#     workspace=\"dahiyaaneesh\",\n",
    "#     save_dir=os.path.join(DATA_PATH, \"models\"),\n",
    "# )\n",
    "# upload_comet_logs = UploadCometLogs(\n",
    "#     \"step\", get_console_logger(\"callback\"), \"supervised_ssl\"\n",
    "# )\n",
    "lr_monitor = LearningRateMonitor(logging_interval=\"step\")\n",
    "trainer = Trainer(amp_level='O2',\n",
    "    gpus=1,\n",
    "    max_epochs=150)\n",
    "#     logger=comet_logger,\n",
    "#     callbacks=[upload_comet_logs,lr_monitor],\n",
    "# )"
   ]
  },
  {
   "cell_type": "code",
   "execution_count": 7,
   "metadata": {
    "ExecuteTime": {
     "end_time": "2020-10-16T15:22:08.151958Z",
     "start_time": "2020-10-16T15:22:08.148115Z"
    }
   },
   "outputs": [
    {
     "data": {
      "text/plain": [
       "SupervisedHead(\n",
       "  (encoder): ResNet(\n",
       "    (conv1): Conv2d(3, 64, kernel_size=(7, 7), stride=(2, 2), padding=(3, 3), bias=False)\n",
       "    (bn1): BatchNorm2d(64, eps=1e-05, momentum=0.1, affine=True, track_running_stats=True)\n",
       "    (relu): ReLU(inplace=True)\n",
       "    (maxpool): MaxPool2d(kernel_size=3, stride=2, padding=1, dilation=1, ceil_mode=False)\n",
       "    (layer1): Sequential(\n",
       "      (0): BasicBlock(\n",
       "        (conv1): Conv2d(64, 64, kernel_size=(3, 3), stride=(1, 1), padding=(1, 1), bias=False)\n",
       "        (bn1): BatchNorm2d(64, eps=1e-05, momentum=0.1, affine=True, track_running_stats=True)\n",
       "        (relu): ReLU(inplace=True)\n",
       "        (conv2): Conv2d(64, 64, kernel_size=(3, 3), stride=(1, 1), padding=(1, 1), bias=False)\n",
       "        (bn2): BatchNorm2d(64, eps=1e-05, momentum=0.1, affine=True, track_running_stats=True)\n",
       "      )\n",
       "      (1): BasicBlock(\n",
       "        (conv1): Conv2d(64, 64, kernel_size=(3, 3), stride=(1, 1), padding=(1, 1), bias=False)\n",
       "        (bn1): BatchNorm2d(64, eps=1e-05, momentum=0.1, affine=True, track_running_stats=True)\n",
       "        (relu): ReLU(inplace=True)\n",
       "        (conv2): Conv2d(64, 64, kernel_size=(3, 3), stride=(1, 1), padding=(1, 1), bias=False)\n",
       "        (bn2): BatchNorm2d(64, eps=1e-05, momentum=0.1, affine=True, track_running_stats=True)\n",
       "      )\n",
       "    )\n",
       "    (layer2): Sequential(\n",
       "      (0): BasicBlock(\n",
       "        (conv1): Conv2d(64, 128, kernel_size=(3, 3), stride=(2, 2), padding=(1, 1), bias=False)\n",
       "        (bn1): BatchNorm2d(128, eps=1e-05, momentum=0.1, affine=True, track_running_stats=True)\n",
       "        (relu): ReLU(inplace=True)\n",
       "        (conv2): Conv2d(128, 128, kernel_size=(3, 3), stride=(1, 1), padding=(1, 1), bias=False)\n",
       "        (bn2): BatchNorm2d(128, eps=1e-05, momentum=0.1, affine=True, track_running_stats=True)\n",
       "        (downsample): Sequential(\n",
       "          (0): Conv2d(64, 128, kernel_size=(1, 1), stride=(2, 2), bias=False)\n",
       "          (1): BatchNorm2d(128, eps=1e-05, momentum=0.1, affine=True, track_running_stats=True)\n",
       "        )\n",
       "      )\n",
       "      (1): BasicBlock(\n",
       "        (conv1): Conv2d(128, 128, kernel_size=(3, 3), stride=(1, 1), padding=(1, 1), bias=False)\n",
       "        (bn1): BatchNorm2d(128, eps=1e-05, momentum=0.1, affine=True, track_running_stats=True)\n",
       "        (relu): ReLU(inplace=True)\n",
       "        (conv2): Conv2d(128, 128, kernel_size=(3, 3), stride=(1, 1), padding=(1, 1), bias=False)\n",
       "        (bn2): BatchNorm2d(128, eps=1e-05, momentum=0.1, affine=True, track_running_stats=True)\n",
       "      )\n",
       "    )\n",
       "    (layer3): Sequential(\n",
       "      (0): BasicBlock(\n",
       "        (conv1): Conv2d(128, 256, kernel_size=(3, 3), stride=(2, 2), padding=(1, 1), bias=False)\n",
       "        (bn1): BatchNorm2d(256, eps=1e-05, momentum=0.1, affine=True, track_running_stats=True)\n",
       "        (relu): ReLU(inplace=True)\n",
       "        (conv2): Conv2d(256, 256, kernel_size=(3, 3), stride=(1, 1), padding=(1, 1), bias=False)\n",
       "        (bn2): BatchNorm2d(256, eps=1e-05, momentum=0.1, affine=True, track_running_stats=True)\n",
       "        (downsample): Sequential(\n",
       "          (0): Conv2d(128, 256, kernel_size=(1, 1), stride=(2, 2), bias=False)\n",
       "          (1): BatchNorm2d(256, eps=1e-05, momentum=0.1, affine=True, track_running_stats=True)\n",
       "        )\n",
       "      )\n",
       "      (1): BasicBlock(\n",
       "        (conv1): Conv2d(256, 256, kernel_size=(3, 3), stride=(1, 1), padding=(1, 1), bias=False)\n",
       "        (bn1): BatchNorm2d(256, eps=1e-05, momentum=0.1, affine=True, track_running_stats=True)\n",
       "        (relu): ReLU(inplace=True)\n",
       "        (conv2): Conv2d(256, 256, kernel_size=(3, 3), stride=(1, 1), padding=(1, 1), bias=False)\n",
       "        (bn2): BatchNorm2d(256, eps=1e-05, momentum=0.1, affine=True, track_running_stats=True)\n",
       "      )\n",
       "    )\n",
       "    (layer4): Sequential(\n",
       "      (0): BasicBlock(\n",
       "        (conv1): Conv2d(256, 512, kernel_size=(3, 3), stride=(2, 2), padding=(1, 1), bias=False)\n",
       "        (bn1): BatchNorm2d(512, eps=1e-05, momentum=0.1, affine=True, track_running_stats=True)\n",
       "        (relu): ReLU(inplace=True)\n",
       "        (conv2): Conv2d(512, 512, kernel_size=(3, 3), stride=(1, 1), padding=(1, 1), bias=False)\n",
       "        (bn2): BatchNorm2d(512, eps=1e-05, momentum=0.1, affine=True, track_running_stats=True)\n",
       "        (downsample): Sequential(\n",
       "          (0): Conv2d(256, 512, kernel_size=(1, 1), stride=(2, 2), bias=False)\n",
       "          (1): BatchNorm2d(512, eps=1e-05, momentum=0.1, affine=True, track_running_stats=True)\n",
       "        )\n",
       "      )\n",
       "      (1): BasicBlock(\n",
       "        (conv1): Conv2d(512, 512, kernel_size=(3, 3), stride=(1, 1), padding=(1, 1), bias=False)\n",
       "        (bn1): BatchNorm2d(512, eps=1e-05, momentum=0.1, affine=True, track_running_stats=True)\n",
       "        (relu): ReLU(inplace=True)\n",
       "        (conv2): Conv2d(512, 512, kernel_size=(3, 3), stride=(1, 1), padding=(1, 1), bias=False)\n",
       "        (bn2): BatchNorm2d(512, eps=1e-05, momentum=0.1, affine=True, track_running_stats=True)\n",
       "      )\n",
       "    )\n",
       "    (avgpool): AdaptiveAvgPool2d(output_size=(1, 1))\n",
       "    (fc): Sequential()\n",
       "  )\n",
       "  (final_layers): Sequential(\n",
       "    (0): Linear(in_features=512, out_features=128, bias=True)\n",
       "    (1): BatchNorm1d(128, eps=1e-05, momentum=0.1, affine=True, track_running_stats=True)\n",
       "    (2): ReLU()\n",
       "    (3): Linear(in_features=128, out_features=63, bias=True)\n",
       "  )\n",
       ")"
      ]
     },
     "execution_count": 7,
     "metadata": {},
     "output_type": "execute_result"
    }
   ],
   "source": [
    "model_ssl"
   ]
  },
  {
   "cell_type": "code",
   "execution_count": 10,
   "metadata": {
    "ExecuteTime": {
     "end_time": "2020-10-16T15:23:10.362584Z",
     "start_time": "2020-10-16T15:22:56.558501Z"
    }
   },
   "outputs": [
    {
     "name": "stderr",
     "output_type": "stream",
     "text": [
      "GPU available: True, used: True\n",
      "TPU available: False, using: 0 TPU cores\n",
      "LOCAL_RANK: 0 - CUDA_VISIBLE_DEVICES: [0]\n",
      "\n",
      "  | Name         | Type       | Params\n",
      "--------------------------------------------\n",
      "0 | encoder      | ResNet     | 11 M  \n",
      "1 | final_layers | Sequential | 74 K  \n"
     ]
    },
    {
     "data": {
      "application/vnd.jupyter.widget-view+json": {
       "model_id": "",
       "version_major": 2,
       "version_minor": 0
      },
      "text/plain": [
       "HBox(children=(HTML(value='Validation sanity check'), FloatProgress(value=1.0, bar_style='info', layout=Layout…"
      ]
     },
     "metadata": {},
     "output_type": "display_data"
    },
    {
     "data": {
      "application/vnd.jupyter.widget-view+json": {
       "model_id": "bf75cd0421be4bddb90153e8de81c216",
       "version_major": 2,
       "version_minor": 0
      },
      "text/plain": [
       "HBox(children=(HTML(value='Training'), FloatProgress(value=1.0, bar_style='info', layout=Layout(flex='2'), max…"
      ]
     },
     "metadata": {},
     "output_type": "display_data"
    },
    {
     "name": "stdout",
     "output_type": "stream",
     "text": [
      "\n"
     ]
    },
    {
     "name": "stderr",
     "output_type": "stream",
     "text": [
      "/local/home/adahiya/Documents/master_thesis/master_thesis_env/lib/python3.6/site-packages/pytorch_lightning/utilities/distributed.py:45: UserWarning: Detected KeyboardInterrupt, attempting graceful shutdown...\n",
      "  warnings.warn(*args, **kwargs)\n"
     ]
    },
    {
     "data": {
      "text/plain": [
       "1"
      ]
     },
     "execution_count": 10,
     "metadata": {},
     "output_type": "execute_result"
    }
   ],
   "source": [
    "trainer = Trainer(amp_level='O2',\n",
    "    gpus=1,\n",
    "    max_epochs=150)\n",
    "trainer.fit(model_ssl,train_data_loader, val_data_loader)"
   ]
  },
  {
   "cell_type": "code",
   "execution_count": 13,
   "metadata": {
    "ExecuteTime": {
     "end_time": "2020-10-16T15:21:19.897135Z",
     "start_time": "2020-10-16T15:21:19.895130Z"
    }
   },
   "outputs": [],
   "source": [
    "del model_ssl"
   ]
  },
  {
   "cell_type": "code",
   "execution_count": 8,
   "metadata": {
    "ExecuteTime": {
     "end_time": "2020-10-16T15:22:45.325436Z",
     "start_time": "2020-10-16T15:22:45.323511Z"
    }
   },
   "outputs": [],
   "source": [
    "torch.clear_autocast_cache()"
   ]
  },
  {
   "cell_type": "code",
   "execution_count": 9,
   "metadata": {
    "ExecuteTime": {
     "end_time": "2020-10-16T15:22:46.469519Z",
     "start_time": "2020-10-16T15:22:46.454656Z"
    }
   },
   "outputs": [],
   "source": [
    "torch.cuda.empty_cache()"
   ]
  },
  {
   "cell_type": "code",
   "execution_count": null,
   "metadata": {},
   "outputs": [],
   "source": []
  }
 ],
 "metadata": {
  "kernelspec": {
   "display_name": "Python 3",
   "language": "python",
   "name": "python3"
  },
  "language_info": {
   "codemirror_mode": {
    "name": "ipython",
    "version": 3
   },
   "file_extension": ".py",
   "mimetype": "text/x-python",
   "name": "python",
   "nbconvert_exporter": "python",
   "pygments_lexer": "ipython3",
   "version": "3.6.9"
  },
  "toc": {
   "base_numbering": 1,
   "nav_menu": {},
   "number_sections": true,
   "sideBar": true,
   "skip_h1_title": false,
   "title_cell": "Table of Contents",
   "title_sidebar": "Contents",
   "toc_cell": false,
   "toc_position": {},
   "toc_section_display": true,
   "toc_window_display": false
  },
  "varInspector": {
   "cols": {
    "lenName": 16,
    "lenType": 16,
    "lenVar": 40
   },
   "kernels_config": {
    "python": {
     "delete_cmd_postfix": "",
     "delete_cmd_prefix": "del ",
     "library": "var_list.py",
     "varRefreshCmd": "print(var_dic_list())"
    },
    "r": {
     "delete_cmd_postfix": ") ",
     "delete_cmd_prefix": "rm(",
     "library": "var_list.r",
     "varRefreshCmd": "cat(var_dic_list()) "
    }
   },
   "position": {
    "height": "503px",
    "left": "1483px",
    "right": "20px",
    "top": "120px",
    "width": "350px"
   },
   "types_to_exclude": [
    "module",
    "function",
    "builtin_function_or_method",
    "instance",
    "_Feature"
   ],
   "window_display": false
  }
 },
 "nbformat": 4,
 "nbformat_minor": 4
}
