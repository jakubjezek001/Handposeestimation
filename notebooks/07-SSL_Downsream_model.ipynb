{
 "cells": [
  {
   "cell_type": "markdown",
   "metadata": {
    "ExecuteTime": {
     "end_time": "2020-10-16T09:15:52.586701Z",
     "start_time": "2020-10-16T09:15:52.583995Z"
    }
   },
   "source": [
    "# Import Libraries"
   ]
  },
  {
   "cell_type": "code",
   "execution_count": null,
   "metadata": {
    "ExecuteTime": {
     "end_time": "2020-10-21T14:12:17.310019Z",
     "start_time": "2020-10-21T14:12:17.305452Z"
    }
   },
   "outputs": [],
   "source": [
    "import os\n",
    "import copy\n",
    "from tqdm.notebook import tqdm\n",
    "import pprint\n",
    "from ipywidgets import interact\n",
    "import ipywidgets as widgets\n",
    "from IPython.display import display\n",
    "import torch\n",
    "from torch import nn\n",
    "import os\n",
    "import math\n",
    "from src.models.utils import cal_l1_loss\n",
    "from pytorch_lightning.loggers import CometLogger\n",
    "from pytorch_lightning.core.lightning import LightningModule\n",
    "from easydict import EasyDict as edict\n",
    "from pytorch_lightning import Trainer, seed_everything\n",
    "from pytorch_lightning.callbacks import LearningRateMonitor\n",
    "from src.constants import DATA_PATH, MASTER_THESIS_DIR, TRAINING_CONFIG_PATH\n",
    "from src.data_loader.data_set import Data_Set\n",
    "from src.data_loader.utils import get_train_val_split\n",
    "from src.experiments.utils import get_experiement_args, process_experiment_args\n",
    "from src.models.callbacks.upload_comet_logs import UploadCometLogs\n",
    "from src.models.simclr_model import SimCLR\n",
    "from src.utils import get_console_logger, read_json\n",
    "from torchvision import transforms\n",
    "from pl_bolts.optimizers.lars_scheduling import LARSWrapper\n",
    "from pl_bolts.optimizers.lr_scheduler import LinearWarmupCosineAnnealingLR\n",
    "from src.models.supervised_head_model import SupervisedHead"
   ]
  },
  {
   "cell_type": "markdown",
   "metadata": {
    "ExecuteTime": {
     "end_time": "2020-10-16T09:17:51.344714Z",
     "start_time": "2020-10-16T09:17:51.342914Z"
    }
   },
   "source": [
    "# Read data"
   ]
  },
  {
   "cell_type": "code",
   "execution_count": null,
   "metadata": {
    "ExecuteTime": {
     "end_time": "2020-10-21T14:12:18.412213Z",
     "start_time": "2020-10-21T14:12:18.409120Z"
    }
   },
   "outputs": [],
   "source": [
    "train_param = edict(read_json(TRAINING_CONFIG_PATH))\n",
    "model_param = edict(\n",
    "        read_json(\n",
    "            os.path.join(MASTER_THESIS_DIR, \"src\", \"experiments\", \"simclr_config.json\")\n",
    "        )\n",
    ")\n",
    "train_param.augmentation_flags.resize=True\n",
    "train_param.augmentation_flags.rotate=False\n",
    "train_param.augmentation_flags.crop=True"
   ]
  },
  {
   "cell_type": "code",
   "execution_count": null,
   "metadata": {
    "ExecuteTime": {
     "end_time": "2020-10-21T14:12:19.684711Z",
     "start_time": "2020-10-21T14:12:19.681144Z"
    }
   },
   "outputs": [],
   "source": [
    "train_param.num_workers=8\n",
    "train_param.epochs = 150\n",
    "model_param.warmup_epochs = 10\n",
    "train_param, model_param"
   ]
  },
  {
   "cell_type": "code",
   "execution_count": null,
   "metadata": {
    "ExecuteTime": {
     "end_time": "2020-10-21T14:12:22.810239Z",
     "start_time": "2020-10-21T14:12:21.329189Z"
    }
   },
   "outputs": [],
   "source": [
    "data = Data_Set(\n",
    "        config=train_param,\n",
    "        transform=transforms.Compose([transforms.ToTensor()]),\n",
    "        train_set=True,\n",
    "        experiment_type=\"supervised\",\n",
    "    )\n",
    "model_param.num_samples= len(data)\n",
    "model_param.alpha =5\n",
    "model_param.gpu = True"
   ]
  },
  {
   "cell_type": "code",
   "execution_count": null,
   "metadata": {
    "ExecuteTime": {
     "end_time": "2020-10-21T14:12:22.820902Z",
     "start_time": "2020-10-21T14:12:22.818943Z"
    }
   },
   "outputs": [],
   "source": [
    "train_data_loader, val_data_loader = get_train_val_split(\n",
    "        data, batch_size=train_param.batch_size, num_workers=train_param.num_workers\n",
    "    )"
   ]
  },
  {
   "cell_type": "code",
   "execution_count": null,
   "metadata": {
    "ExecuteTime": {
     "end_time": "2020-10-21T14:12:23.725570Z",
     "start_time": "2020-10-21T14:12:23.470033Z"
    }
   },
   "outputs": [],
   "source": [
    "model_ssl = SupervisedHead(model_param, \"/local/home/adahiya/Documents/master_thesis/data/models/master-thesis/14910753afb9499ab9229174d6377efb/checkpoints/epoch=999.ckpt\", model_param)"
   ]
  },
  {
   "cell_type": "code",
   "execution_count": null,
   "metadata": {
    "ExecuteTime": {
     "end_time": "2020-10-21T14:12:24.603709Z",
     "start_time": "2020-10-21T14:12:24.601094Z"
    }
   },
   "outputs": [],
   "source": [
    "model_ssl.config.warmup_epochs"
   ]
  },
  {
   "cell_type": "code",
   "execution_count": null,
   "metadata": {
    "ExecuteTime": {
     "end_time": "2020-10-21T14:12:29.241349Z",
     "start_time": "2020-10-21T14:12:29.233769Z"
    }
   },
   "outputs": [],
   "source": [
    "comet_logger = CometLogger(\n",
    "    api_key=os.environ.get(\"COMET_API_KEY\"),\n",
    "    project_name=\"master-thesis\",\n",
    "    workspace=\"dahiyaaneesh\",\n",
    "    save_dir=os.path.join(DATA_PATH, \"models\"),\n",
    ")\n",
    "upload_comet_logs = UploadCometLogs(\n",
    "    \"step\", get_console_logger(\"callback\"), \"supervised_ssl\"\n",
    ")\n",
    "lr_monitor = LearningRateMonitor(logging_interval=\"step\")\n",
    "trainer = Trainer(precision=16,\n",
    "    gpus=1,\n",
    "    max_epochs=train_param.epochs,\n",
    "    logger=comet_logger,\n",
    "    callbacks=[upload_comet_logs,lr_monitor],\n",
    ")"
   ]
  },
  {
   "cell_type": "code",
   "execution_count": null,
   "metadata": {
    "ExecuteTime": {
     "end_time": "2020-10-21T15:35:52.695360Z",
     "start_time": "2020-10-21T14:12:42.210464Z"
    }
   },
   "outputs": [],
   "source": [
    "trainer.fit(model_ssl,train_data_loader, val_data_loader)"
   ]
  },
  {
   "cell_type": "code",
   "execution_count": null,
   "metadata": {},
   "outputs": [],
   "source": []
  }
 ],
 "metadata": {
  "kernelspec": {
   "display_name": "Python 3",
   "language": "python",
   "name": "python3"
  },
  "language_info": {
   "codemirror_mode": {
    "name": "ipython",
    "version": 3
   },
   "file_extension": ".py",
   "mimetype": "text/x-python",
   "name": "python",
   "nbconvert_exporter": "python",
   "pygments_lexer": "ipython3",
   "version": "3.6.9"
  },
  "toc": {
   "base_numbering": 1,
   "nav_menu": {},
   "number_sections": true,
   "sideBar": true,
   "skip_h1_title": false,
   "title_cell": "Table of Contents",
   "title_sidebar": "Contents",
   "toc_cell": false,
   "toc_position": {},
   "toc_section_display": true,
   "toc_window_display": false
  },
  "varInspector": {
   "cols": {
    "lenName": 16,
    "lenType": 16,
    "lenVar": 40
   },
   "kernels_config": {
    "python": {
     "delete_cmd_postfix": "",
     "delete_cmd_prefix": "del ",
     "library": "var_list.py",
     "varRefreshCmd": "print(var_dic_list())"
    },
    "r": {
     "delete_cmd_postfix": ") ",
     "delete_cmd_prefix": "rm(",
     "library": "var_list.r",
     "varRefreshCmd": "cat(var_dic_list()) "
    }
   },
   "position": {
    "height": "503px",
    "left": "1483px",
    "right": "20px",
    "top": "120px",
    "width": "350px"
   },
   "types_to_exclude": [
    "module",
    "function",
    "builtin_function_or_method",
    "instance",
    "_Feature"
   ],
   "window_display": false
  }
 },
 "nbformat": 4,
 "nbformat_minor": 4
}
