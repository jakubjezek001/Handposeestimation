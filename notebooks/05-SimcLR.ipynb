{
 "cells": [
  {
   "cell_type": "markdown",
   "metadata": {
    "code_folding": []
   },
   "source": [
    "# Import Libraries"
   ]
  },
  {
   "cell_type": "code",
   "execution_count": 1,
   "metadata": {
    "ExecuteTime": {
     "end_time": "2020-10-11T08:47:28.704710Z",
     "start_time": "2020-10-11T08:47:26.474942Z"
    }
   },
   "outputs": [],
   "source": [
    "import os\n",
    "import pytorch_lightning as pl\n",
    "from torch.utils.data import DataLoader\n",
    "from src.data_loader.freihand_loader2 import F_DB2\n",
    "from src.data_loader.sample_augmenter import SampleAugmenter\n",
    "from src.constants import MASTER_THESIS_DIR, FREIHAND_DATA\n",
    "from src.utils import read_json\n",
    "import matplotlib.pyplot as plt\n",
    "from ipywidgets import interact\n",
    "import ipywidgets as widgets\n",
    "from IPython.display import display\n",
    "import torchvision\n",
    "from easydict import EasyDict as edict\n",
    "from src.utils import read_json\n",
    "import torch\n",
    "from torch import nn\n",
    "from src.models.simclr_model import SimCLR"
   ]
  },
  {
   "cell_type": "markdown",
   "metadata": {},
   "source": [
    "# Reading data"
   ]
  },
  {
   "cell_type": "code",
   "execution_count": 2,
   "metadata": {
    "ExecuteTime": {
     "end_time": "2020-10-11T08:47:33.792511Z",
     "start_time": "2020-10-11T08:47:31.467504Z"
    }
   },
   "outputs": [],
   "source": [
    "augmenter1 = SampleAugmenter(crop=True,resize=True, rotate=True, seed =1)\n",
    "augmenter2 = SampleAugmenter(crop=True,resize=True, rotate=True,seed =7)\n",
    "# train_param = edict(read_json(f\"{MASTER_THESIS_DIR}/src/experiments/training_config.json\"))\n",
    "data = F_DB2(root_dir=os.path.join(FREIHAND_DATA, \"training\", \"rgb\"),\n",
    "    labels_path=os.path.join(FREIHAND_DATA, \"training_xyz.json\"),\n",
    "    camera_param_path=os.path.join(FREIHAND_DATA, \"training_K.json\"),\n",
    "    transform=torchvision.transforms.ToTensor(),\n",
    "    augmenter1=augmenter1,\n",
    "    augmenter2=augmenter2)"
   ]
  },
  {
   "cell_type": "markdown",
   "metadata": {
    "ExecuteTime": {
     "end_time": "2020-10-08T16:24:23.385058Z",
     "start_time": "2020-10-08T16:24:23.383380Z"
    }
   },
   "source": [
    "# Visualization"
   ]
  },
  {
   "cell_type": "code",
   "execution_count": 3,
   "metadata": {
    "ExecuteTime": {
     "end_time": "2020-10-08T16:30:46.491516Z",
     "start_time": "2020-10-08T16:30:46.241465Z"
    }
   },
   "outputs": [
    {
     "data": {
      "application/vnd.jupyter.widget-view+json": {
       "model_id": "620320b0935d46d5913d2fcf2b557889",
       "version_major": 2,
       "version_minor": 0
      },
      "text/plain": [
       "interactive(children=(IntSlider(value=3, description='id', min=1, step=5), Output()), _dom_classes=('widget-in…"
      ]
     },
     "metadata": {},
     "output_type": "display_data"
    }
   ],
   "source": [
    "@interact(id=widgets.IntSlider(min=1, max=100, step=5, value=3))\n",
    "def visualize(id):\n",
    "    sample = data[id]\n",
    "#     joints = sample[\"joints\"]\n",
    "    img1 = sample[\"transformed_image1\"]\n",
    "    img2 = sample[\"transformed_image2\"]\n",
    "#     fig = plt.figure(figsize=(10, 10))\n",
    "#     ax = fig.add_subplot(111)\n",
    "    plt.imshow(torchvision.transforms.ToPILImage()(img1))\n",
    "    plt.show()\n",
    "    plt.imshow(torchvision.transforms.ToPILImage()(img2))\n"
   ]
  },
  {
   "cell_type": "markdown",
   "metadata": {},
   "source": [
    "# SimCLR model definition\n",
    "\n",
    "and training"
   ]
  },
  {
   "cell_type": "code",
   "execution_count": 6,
   "metadata": {
    "ExecuteTime": {
     "end_time": "2020-10-11T08:51:06.052129Z",
     "start_time": "2020-10-11T08:51:05.171617Z"
    }
   },
   "outputs": [],
   "source": [
    "model_config = edict(read_json(os.path.join(MASTER_THESIS_DIR,\"src\",\"experiments\",\"simclr_config.json\")))\n",
    "model = SimCLR(config=model_config)\n",
    "data_loader = DataLoader(data,batch_size=128, num_workers=8)\n",
    "val_data_loader = DataLoader(data, batch_size=128, num_workers=4)"
   ]
  },
  {
   "cell_type": "code",
   "execution_count": 10,
   "metadata": {
    "ExecuteTime": {
     "end_time": "2020-10-11T08:53:58.040894Z",
     "start_time": "2020-10-11T08:53:57.949444Z"
    }
   },
   "outputs": [
    {
     "ename": "ModuleAttributeError",
     "evalue": "'SimCLR' object has no attribute 'train_iters_per_epoch'",
     "output_type": "error",
     "traceback": [
      "\u001b[0;31m---------------------------------------------------------------------------\u001b[0m",
      "\u001b[0;31mModuleAttributeError\u001b[0m                      Traceback (most recent call last)",
      "\u001b[0;32m<ipython-input-10-c7a2fbc4ff1c>\u001b[0m in \u001b[0;36m<module>\u001b[0;34m\u001b[0m\n\u001b[0;32m----> 1\u001b[0;31m \u001b[0mmodel\u001b[0m\u001b[0;34m.\u001b[0m\u001b[0mtrain_iters_per_epoch\u001b[0m\u001b[0;34m\u001b[0m\u001b[0;34m\u001b[0m\u001b[0m\n\u001b[0m",
      "\u001b[0;32m~/Documents/master_thesis/master_thesis_env/lib/python3.6/site-packages/torch/nn/modules/module.py\u001b[0m in \u001b[0;36m__getattr__\u001b[0;34m(self, name)\u001b[0m\n\u001b[1;32m    770\u001b[0m                 \u001b[0;32mreturn\u001b[0m \u001b[0mmodules\u001b[0m\u001b[0;34m[\u001b[0m\u001b[0mname\u001b[0m\u001b[0;34m]\u001b[0m\u001b[0;34m\u001b[0m\u001b[0;34m\u001b[0m\u001b[0m\n\u001b[1;32m    771\u001b[0m         raise ModuleAttributeError(\"'{}' object has no attribute '{}'\".format(\n\u001b[0;32m--> 772\u001b[0;31m             type(self).__name__, name))\n\u001b[0m\u001b[1;32m    773\u001b[0m \u001b[0;34m\u001b[0m\u001b[0m\n\u001b[1;32m    774\u001b[0m     \u001b[0;32mdef\u001b[0m \u001b[0m__setattr__\u001b[0m\u001b[0;34m(\u001b[0m\u001b[0mself\u001b[0m\u001b[0;34m,\u001b[0m \u001b[0mname\u001b[0m\u001b[0;34m:\u001b[0m \u001b[0mstr\u001b[0m\u001b[0;34m,\u001b[0m \u001b[0mvalue\u001b[0m\u001b[0;34m:\u001b[0m \u001b[0mUnion\u001b[0m\u001b[0;34m[\u001b[0m\u001b[0mTensor\u001b[0m\u001b[0;34m,\u001b[0m \u001b[0;34m'Module'\u001b[0m\u001b[0;34m]\u001b[0m\u001b[0;34m)\u001b[0m \u001b[0;34m->\u001b[0m \u001b[0;32mNone\u001b[0m\u001b[0;34m:\u001b[0m\u001b[0;34m\u001b[0m\u001b[0;34m\u001b[0m\u001b[0m\n",
      "\u001b[0;31mModuleAttributeError\u001b[0m: 'SimCLR' object has no attribute 'train_iters_per_epoch'"
     ]
    }
   ],
   "source": [
    "model.train_iters_per_epoch"
   ]
  },
  {
   "cell_type": "code",
   "execution_count": 7,
   "metadata": {
    "ExecuteTime": {
     "end_time": "2020-10-11T08:51:12.747717Z",
     "start_time": "2020-10-11T08:51:12.735691Z"
    }
   },
   "outputs": [
    {
     "name": "stderr",
     "output_type": "stream",
     "text": [
      "GPU available: False, used: False\n",
      "TPU available: False, using: 0 TPU cores\n"
     ]
    }
   ],
   "source": [
    "trainer = pl.Trainer(gpus=0)"
   ]
  },
  {
   "cell_type": "code",
   "execution_count": 9,
   "metadata": {
    "ExecuteTime": {
     "end_time": "2020-10-11T08:51:26.494204Z",
     "start_time": "2020-10-11T08:51:26.489043Z"
    }
   },
   "outputs": [
    {
     "data": {
      "text/plain": [
       "1"
      ]
     },
     "execution_count": 9,
     "metadata": {},
     "output_type": "execute_result"
    }
   ],
   "source": [
    "trainer.world_size"
   ]
  },
  {
   "cell_type": "code",
   "execution_count": null,
   "metadata": {
    "ExecuteTime": {
     "end_time": "2020-10-08T16:29:36.065085Z",
     "start_time": "2020-10-08T16:27:32.331793Z"
    }
   },
   "outputs": [],
   "source": [
    "trainer.fit(model, data_loader,val_data_loader)\n",
    "torch.cuda.empty_cache()"
   ]
  }
 ],
 "metadata": {
  "kernelspec": {
   "display_name": "Python 3",
   "language": "python",
   "name": "python3"
  },
  "language_info": {
   "codemirror_mode": {
    "name": "ipython",
    "version": 3
   },
   "file_extension": ".py",
   "mimetype": "text/x-python",
   "name": "python",
   "nbconvert_exporter": "python",
   "pygments_lexer": "ipython3",
   "version": "3.6.9"
  },
  "toc": {
   "base_numbering": 1,
   "nav_menu": {},
   "number_sections": true,
   "sideBar": true,
   "skip_h1_title": false,
   "title_cell": "Table of Contents",
   "title_sidebar": "Contents",
   "toc_cell": false,
   "toc_position": {},
   "toc_section_display": true,
   "toc_window_display": false
  },
  "varInspector": {
   "cols": {
    "lenName": 16,
    "lenType": 16,
    "lenVar": 40
   },
   "kernels_config": {
    "python": {
     "delete_cmd_postfix": "",
     "delete_cmd_prefix": "del ",
     "library": "var_list.py",
     "varRefreshCmd": "print(var_dic_list())"
    },
    "r": {
     "delete_cmd_postfix": ") ",
     "delete_cmd_prefix": "rm(",
     "library": "var_list.r",
     "varRefreshCmd": "cat(var_dic_list()) "
    }
   },
   "position": {
    "height": "589px",
    "left": "828px",
    "right": "20px",
    "top": "120px",
    "width": "352px"
   },
   "types_to_exclude": [
    "module",
    "function",
    "builtin_function_or_method",
    "instance",
    "_Feature"
   ],
   "window_display": false
  }
 },
 "nbformat": 4,
 "nbformat_minor": 4
}
