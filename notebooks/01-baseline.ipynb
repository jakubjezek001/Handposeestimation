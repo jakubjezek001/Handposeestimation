{
 "cells": [
  {
   "cell_type": "markdown",
   "metadata": {},
   "source": [
    "# Import Libraries"
   ]
  },
  {
   "cell_type": "code",
   "execution_count": null,
   "metadata": {
    "ExecuteTime": {
     "end_time": "2020-09-25T08:47:43.684916Z",
     "start_time": "2020-09-25T08:47:43.667789Z"
    }
   },
   "outputs": [],
   "source": [
    "import os\n",
    "import torch\n",
    "from torchvision import transforms\n",
    "from src.data_loader.freihand_loader import F_DB\n",
    "from src.models.baseline_model import BaselineModel\n",
    "from torch.utils.data import DataLoader\n",
    "from src.data_loader.utils import convert_2_5D_to_3D\n",
    "from pytorch_lightning import Trainer\n",
    "from pytorch_lightning.loggers import CometLogger\n",
    "from src.visualization.visualize import plot_hand\n",
    "from src.constants import MASTER_THESIS_DIR, FREIHAND_DATA\n",
    "from src.utils import read_json\n",
    "import matplotlib.pyplot as plt\n",
    "from ipywidgets import interact\n",
    "import ipywidgets as widgets\n",
    "from IPython.display import display"
   ]
  },
  {
   "cell_type": "markdown",
   "metadata": {
    "ExecuteTime": {
     "end_time": "2020-09-25T08:22:04.873339Z",
     "start_time": "2020-09-25T08:22:04.870789Z"
    }
   },
   "source": [
    "# Training configuration "
   ]
  },
  {
   "cell_type": "code",
   "execution_count": null,
   "metadata": {
    "ExecuteTime": {
     "end_time": "2020-09-25T08:30:12.125375Z",
     "start_time": "2020-09-25T08:30:12.115854Z"
    }
   },
   "outputs": [],
   "source": [
    "training_hyper_param = read_json(\n",
    "        os.path.join(MASTER_THESIS_DIR, \"src\", \"experiments\", \"training_config.json\")\n",
    "    )"
   ]
  },
  {
   "cell_type": "markdown",
   "metadata": {
    "heading_collapsed": true
   },
   "source": [
    "# Dataset "
   ]
  },
  {
   "cell_type": "code",
   "execution_count": null,
   "metadata": {
    "ExecuteTime": {
     "end_time": "2020-09-25T08:30:16.134822Z",
     "start_time": "2020-09-25T08:30:13.241791Z"
    },
    "hidden": true
   },
   "outputs": [],
   "source": [
    "f_db = F_DB(\n",
    "    root_dir=os.path.join(FREIHAND_DATA, \"training\", \"rgb\"),\n",
    "    labels_path=os.path.join(FREIHAND_DATA, \"training_xyz.json\"),\n",
    "    camera_param_path=os.path.join(FREIHAND_DATA, \"training_K.json\"),\n",
    "    transform=transforms.Compose(\n",
    "        [\n",
    "            transforms.ToTensor(),\n",
    "            #             transforms.Normalize(mean=[0.485, 0.456, 0.406], std=[0.229, 0.224, 0.225]),\n",
    "        ]\n",
    "    ),\n",
    ")\n",
    "train_percentage = int(training_hyper_param[\"train_ratio\"] * 100)\n",
    "train, val = torch.utils.data.random_split(\n",
    "    f_db,\n",
    "    [\n",
    "        len(f_db) * train_percentage // 100,\n",
    "        len(f_db) - len(f_db) * train_percentage // 100,\n",
    "    ],\n",
    ")\n",
    "train_data_loader = DataLoader(train, batch_size=training_hyper_param[\"batch_size\"])\n",
    "val_data_loader = DataLoader(val, batch_size=training_hyper_param[\"batch_size\"])"
   ]
  },
  {
   "cell_type": "markdown",
   "metadata": {
    "heading_collapsed": true
   },
   "source": [
    "# Logger"
   ]
  },
  {
   "cell_type": "code",
   "execution_count": null,
   "metadata": {
    "ExecuteTime": {
     "end_time": "2020-09-25T08:18:36.782829Z",
     "start_time": "2020-09-25T08:18:36.779878Z"
    },
    "hidden": true
   },
   "outputs": [],
   "source": [
    "comet_logger = CometLogger(\n",
    "    api_key=os.environ.get(\"COMET_API_KEY\"),\n",
    "    project_name=\"master-thesis\",\n",
    "    workspace=\"dahiyaaneesh\",\n",
    "    save_dir=os.path.join(MASTER_THESIS_DIR, \"models\"),\n",
    ")"
   ]
  },
  {
   "cell_type": "markdown",
   "metadata": {},
   "source": [
    "# Model Training"
   ]
  },
  {
   "cell_type": "code",
   "execution_count": null,
   "metadata": {
    "ExecuteTime": {
     "end_time": "2020-09-24T08:31:48.511574Z",
     "start_time": "2020-09-24T08:31:48.506937Z"
    }
   },
   "outputs": [],
   "source": [
    "model = BaselineModel(freeze_resnet=training_hyper_param[\"resnet_trainable\"])\n",
    "trainer = Trainer( max_epochs=training_hyper_param[\"epochs\"], logger=comet_logger)\n",
    "trainer.fit(model,train_data_loader,val_data_loader)"
   ]
  },
  {
   "cell_type": "markdown",
   "metadata": {},
   "source": [
    "# Visualizations"
   ]
  },
  {
   "cell_type": "code",
   "execution_count": null,
   "metadata": {
    "ExecuteTime": {
     "end_time": "2020-09-25T08:56:19.886584Z",
     "start_time": "2020-09-25T08:56:19.153546Z"
    }
   },
   "outputs": [],
   "source": [
    "@interact(id=widgets.IntSlider(min=0, max=len(f_db), step=1, value=0))\n",
    "def visualize_sample(id):\n",
    "    A = f_db[id][\"joints\"]\n",
    "    s = f_db[id][\"scale\"]\n",
    "    K = f_db[id][\"K\"]\n",
    "    img = transforms.ToPILImage('RGB')(f_db[id][\"image\"])\n",
    "    display(img)\n",
    "    Axy = f_db[id][\"joints_3D\"]\n",
    "    fig = plt.figure(figsize=(10,10))\n",
    "    gs = fig.add_gridspec(5, 5)\n",
    "    ax1 = fig.add_subplot(gs[1:3,:2])\n",
    "    ax1.set_title('2d pose')\n",
    "    plot_hand(ax1, np.array(A))\n",
    "    ax2 = fig.add_subplot(gs[:,2:], projection='3d')\n",
    "    ax2.set_title('3D pose')\n",
    "    plot_hand(ax2, np.array(Axy),plot_3d=True)\n",
    "    plt.show()"
   ]
  }
 ],
 "metadata": {
  "kernelspec": {
   "display_name": "Python 3",
   "language": "python",
   "name": "python3"
  },
  "language_info": {
   "codemirror_mode": {
    "name": "ipython",
    "version": 3
   },
   "file_extension": ".py",
   "mimetype": "text/x-python",
   "name": "python",
   "nbconvert_exporter": "python",
   "pygments_lexer": "ipython3",
   "version": "3.6.9"
  },
  "toc": {
   "base_numbering": 1,
   "nav_menu": {},
   "number_sections": true,
   "sideBar": true,
   "skip_h1_title": false,
   "title_cell": "Table of Contents",
   "title_sidebar": "Contents",
   "toc_cell": false,
   "toc_position": {},
   "toc_section_display": true,
   "toc_window_display": false
  },
  "varInspector": {
   "cols": {
    "lenName": 16,
    "lenType": 16,
    "lenVar": 40
   },
   "kernels_config": {
    "python": {
     "delete_cmd_postfix": "",
     "delete_cmd_prefix": "del ",
     "library": "var_list.py",
     "varRefreshCmd": "print(var_dic_list())"
    },
    "r": {
     "delete_cmd_postfix": ") ",
     "delete_cmd_prefix": "rm(",
     "library": "var_list.r",
     "varRefreshCmd": "cat(var_dic_list()) "
    }
   },
   "types_to_exclude": [
    "module",
    "function",
    "builtin_function_or_method",
    "instance",
    "_Feature"
   ],
   "window_display": false
  }
 },
 "nbformat": 4,
 "nbformat_minor": 4
}
