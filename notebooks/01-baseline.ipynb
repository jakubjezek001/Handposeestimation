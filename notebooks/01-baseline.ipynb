{
 "cells": [
  {
   "cell_type": "code",
   "execution_count": null,
   "metadata": {
    "ExecuteTime": {
     "end_time": "2020-09-22T09:07:20.812210Z",
     "start_time": "2020-09-22T09:07:20.801094Z"
    }
   },
   "outputs": [],
   "source": [
    "import sys\n",
    "\n",
    "sys.path.append(\"/home/aneesh/Documents/master_thesis\")\n",
    "import os\n",
    "from torchvision import transforms\n",
    "from src.data_loader.freihand_loader import F_DB\n",
    "from src.models.baseline_model import BaselineModel\n",
    "from torch.utils.data import DataLoader\n",
    "from src.data_loader.utils import convert_2_5D_to_3D\n",
    "from pytorch_lightning import Trainer\n",
    "from comet_ml import Experiment\n",
    "import pytorch_lightning as pl\n",
    "from pytorch_lightning.loggers import CometLogger"
   ]
  },
  {
   "cell_type": "code",
   "execution_count": null,
   "metadata": {
    "ExecuteTime": {
     "end_time": "2020-09-22T08:40:38.142404Z",
     "start_time": "2020-09-22T08:40:38.137349Z"
    }
   },
   "outputs": [],
   "source": [
    "comet_logger = CometLogger(\n",
    "    api_key=os.environ.get(\"COMET_API_KEY\"),\n",
    "    project_name=\"master-thesis\",\n",
    "    workspace=\"dahiyaaneesh\",\n",
    "    save_dir='/home/aneesh/Documents/master_thesis/models'\n",
    ")"
   ]
  },
  {
   "cell_type": "code",
   "execution_count": null,
   "metadata": {
    "ExecuteTime": {
     "end_time": "2020-09-22T08:39:06.478032Z",
     "start_time": "2020-09-22T08:39:04.083113Z"
    }
   },
   "outputs": [],
   "source": [
    "f_db = F_DB(\n",
    "    root_dir=\"../data/raw/FreiHAND_pub_v2/training/rgb\",\n",
    "    labels_path=\"../data/raw/FreiHAND_pub_v2/training_xyz.json\",\n",
    "    camera_param_path=\"/home/aneesh/Documents/master_thesis/data/raw/FreiHAND_pub_v2/training_K.json\",\n",
    "    transform=transforms.Compose(\n",
    "        [\n",
    "            transforms.ToTensor(),\n",
    "            transforms.Normalize(mean=[0.485, 0.456, 0.406], std=[0.229, 0.224, 0.225]),\n",
    "        ]\n",
    "    ),\n",
    "    gray=False,\n",
    ")"
   ]
  },
  {
   "cell_type": "code",
   "execution_count": null,
   "metadata": {
    "ExecuteTime": {
     "end_time": "2020-09-22T08:39:16.023698Z",
     "start_time": "2020-09-22T08:39:16.020575Z"
    }
   },
   "outputs": [],
   "source": [
    "# A = f_db[0][\"joints\"]\n",
    "# s = f_db[0][\"scale\"]\n",
    "# K = f_db[0][\"K\"]\n",
    "# for i_batch, sample_batched in enumerate(dta):\n",
    "#     print(i_batch, sample_batched['image'].size(),\n",
    "#           sample_batched['joints'].size())\n",
    "#     if i_batch == 3:\n",
    "#         temp = sample_batched['joints']\n",
    "#         break"
   ]
  },
  {
   "cell_type": "code",
   "execution_count": null,
   "metadata": {
    "ExecuteTime": {
     "end_time": "2020-09-22T09:07:16.535945Z",
     "start_time": "2020-09-22T08:40:43.649511Z"
    }
   },
   "outputs": [],
   "source": [
    "dta = DataLoader(f_db , batch_size = 16)\n",
    "model = BaselineModel()\n",
    "trainer = Trainer(max_epochs=3, logger=comet_logger)\n",
    "trainer.fit(model, dta)"
   ]
  }
 ],
 "metadata": {
  "kernelspec": {
   "display_name": "Python 3",
   "language": "python",
   "name": "python3"
  },
  "language_info": {
   "codemirror_mode": {
    "name": "ipython",
    "version": 3
   },
   "file_extension": ".py",
   "mimetype": "text/x-python",
   "name": "python",
   "nbconvert_exporter": "python",
   "pygments_lexer": "ipython3",
   "version": "3.6.9"
  },
  "toc": {
   "base_numbering": 1,
   "nav_menu": {},
   "number_sections": true,
   "sideBar": true,
   "skip_h1_title": false,
   "title_cell": "Table of Contents",
   "title_sidebar": "Contents",
   "toc_cell": false,
   "toc_position": {},
   "toc_section_display": true,
   "toc_window_display": false
  },
  "varInspector": {
   "cols": {
    "lenName": 16,
    "lenType": 16,
    "lenVar": 40
   },
   "kernels_config": {
    "python": {
     "delete_cmd_postfix": "",
     "delete_cmd_prefix": "del ",
     "library": "var_list.py",
     "varRefreshCmd": "print(var_dic_list())"
    },
    "r": {
     "delete_cmd_postfix": ") ",
     "delete_cmd_prefix": "rm(",
     "library": "var_list.r",
     "varRefreshCmd": "cat(var_dic_list()) "
    }
   },
   "types_to_exclude": [
    "module",
    "function",
    "builtin_function_or_method",
    "instance",
    "_Feature"
   ],
   "window_display": false
  }
 },
 "nbformat": 4,
 "nbformat_minor": 4
}
