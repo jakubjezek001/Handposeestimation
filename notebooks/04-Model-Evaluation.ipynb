{
 "cells": [
  {
   "cell_type": "markdown",
   "metadata": {
    "ExecuteTime": {
     "end_time": "2020-10-07T15:30:06.981311Z",
     "start_time": "2020-10-07T15:30:06.979814Z"
    }
   },
   "source": [
    "# Import libraries"
   ]
  },
  {
   "cell_type": "code",
   "execution_count": 1,
   "metadata": {
    "ExecuteTime": {
     "end_time": "2020-10-09T08:51:53.782445Z",
     "start_time": "2020-10-09T08:51:53.100323Z"
    }
   },
   "outputs": [],
   "source": [
    "import os\n",
    "import copy\n",
    "from tqdm.notebook import tqdm\n",
    "import pprint\n",
    "from ipywidgets import interact\n",
    "import ipywidgets as widgets\n",
    "from IPython.display import display\n",
    "import torch\n",
    "from src.constants import DATA_PATH, MASTER_THESIS_DIR, TRAINING_CONFIG_PATH, MODEL_CONFIG_PATH\n",
    "from src.data_loader.data_set import Data_Set\n",
    "from src.experiments.utils import get_experiement_args, process_experiment_args\n",
    "from src.models.baseline_model import BaselineModel\n",
    "from src.utils import get_console_logger, read_json\n",
    "from src.visualization.visualize import plot_hand\n",
    "from torch.utils.data import DataLoader\n",
    "from torchvision import transforms\n",
    "from easydict import EasyDict as edict\n",
    "import matplotlib.pyplot as plt\n",
    "from src.data_loader.utils import convert_2_5D_to_3D, convert_to_2_5D\n",
    "from src.experiments.evaluation_utils import calculate_epe_statistics, evaluate,get_predictions_and_ground_truth, cal_auc_joints, get_pck_curves"
   ]
  },
  {
   "cell_type": "markdown",
   "metadata": {},
   "source": [
    "# Load configuration"
   ]
  },
  {
   "cell_type": "code",
   "execution_count": 23,
   "metadata": {
    "ExecuteTime": {
     "end_time": "2020-10-09T08:56:49.463140Z",
     "start_time": "2020-10-09T08:56:49.456941Z"
    }
   },
   "outputs": [
    {
     "name": "stdout",
     "output_type": "stream",
     "text": [
      "{'alpha': 5, 'gpu': True, 'resnet_trainable': True, 'learning_rate': 0.0001, 'scheduler': {'choice': 'cosine_annealing', 'cosine_annealing': {'T_max': 300}, 'reduce_on_plateau': {'mode': 'min', 'factor': 0.5, 'patience': 4, 'verbose': True}}}\n"
     ]
    }
   ],
   "source": [
    "model_config = edict(read_json(MODEL_CONFIG_PATH))\n",
    "joints_mapping = {v: k for k, v in read_json(\"/local/home/adahiya/Documents/master_thesis/src/data_loader/joint_mapping.json\")[\"ait\"].items()}\n",
    "model_config.gpu =True\n",
    "train_config =  edict(read_json(TRAINING_CONFIG_PATH))\n",
    "train_config.crop =True\n",
    "train_config.rotate=True\n",
    "print(model_config)"
   ]
  },
  {
   "cell_type": "markdown",
   "metadata": {},
   "source": [
    "# Load data"
   ]
  },
  {
   "cell_type": "code",
   "execution_count": 24,
   "metadata": {
    "ExecuteTime": {
     "end_time": "2020-10-09T08:56:53.242249Z",
     "start_time": "2020-10-09T08:56:52.197635Z"
    }
   },
   "outputs": [],
   "source": [
    "train_data = Data_Set(\n",
    "    config=train_config,\n",
    "    transforms=transforms.Compose(\n",
    "        [transforms.ToTensor()]\n",
    "    ),\n",
    "    train_set=True,\n",
    ")\n",
    "val_data = copy.copy(train_data)\n",
    "val_data.is_training(False)"
   ]
  },
  {
   "cell_type": "markdown",
   "metadata": {
    "ExecuteTime": {
     "end_time": "2020-10-07T15:31:35.244190Z",
     "start_time": "2020-10-07T15:31:35.242786Z"
    }
   },
   "source": [
    "# Load model"
   ]
  },
  {
   "cell_type": "code",
   "execution_count": 25,
   "metadata": {
    "ExecuteTime": {
     "end_time": "2020-10-09T08:56:55.491266Z",
     "start_time": "2020-10-09T08:56:55.320738Z"
    }
   },
   "outputs": [
    {
     "name": "stdout",
     "output_type": "stream",
     "text": [
      "\n"
     ]
    }
   ],
   "source": [
    "model = BaselineModel(config=model_config)\n",
    "checkpoint = torch.load(\"/local/home/adahiya/Documents/master_thesis/data/models/master-thesis/8364a50940f44dc3963173d0f7b3c68a/checkpoints/epoch=284.ckpt\"\n",
    ")\n",
    "model.load_state_dict(checkpoint[\"state_dict\"])\n",
    "model.eval()\n",
    "device = torch.device(\"cuda\")\n",
    "model.to(device)\n",
    "print()"
   ]
  },
  {
   "cell_type": "markdown",
   "metadata": {},
   "source": [
    "# calculate Results"
   ]
  },
  {
   "cell_type": "code",
   "execution_count": 26,
   "metadata": {
    "ExecuteTime": {
     "end_time": "2020-10-09T08:57:06.570458Z",
     "start_time": "2020-10-09T08:56:59.562448Z"
    },
    "cell_style": "split"
   },
   "outputs": [
    {
     "name": "stderr",
     "output_type": "stream",
     "text": [
      "407it [00:03, 115.76it/s]\n",
      "100%|██████████| 13024/13024 [00:03<00:00, 4070.23it/s]\n"
     ]
    },
    {
     "name": "stdout",
     "output_type": "stream",
     "text": [
      "{'Mean_EPE_2D': tensor(4.9733),\n",
      " 'Mean_EPE_3D': tensor(0.2035),\n",
      " 'Mean_EPE_3D_R': tensor(0.0974),\n",
      " 'Mean_EPE_3D_R_v_3D': tensor(0.1967),\n",
      " 'Median_EPE_2D': tensor(3.4725),\n",
      " 'Median_EPE_3D': tensor(0.1666),\n",
      " 'Median_EPE_3D_R': tensor(0.0348),\n",
      " 'Median_EPE_3D_R_V_3D': tensor(0.1611)}\n"
     ]
    }
   ],
   "source": [
    "results = evaluate(model, val_data, num_workers=8,batch_size=32)\n",
    "pprint.pprint(results)\n"
   ]
  },
  {
   "cell_type": "code",
   "execution_count": 16,
   "metadata": {
    "ExecuteTime": {
     "end_time": "2020-10-09T08:55:03.705460Z",
     "start_time": "2020-10-09T08:54:56.919410Z"
    },
    "cell_style": "split"
   },
   "outputs": [
    {
     "name": "stderr",
     "output_type": "stream",
     "text": [
      "407it [00:03, 123.92it/s]\n",
      "100%|██████████| 13024/13024 [00:03<00:00, 4070.15it/s]\n"
     ]
    },
    {
     "name": "stdout",
     "output_type": "stream",
     "text": [
      "{'Mean_EPE_2D': tensor(4.9900),\n",
      " 'Mean_EPE_3D': tensor(0.1960),\n",
      " 'Mean_EPE_3D_R': tensor(0.0951),\n",
      " 'Mean_EPE_3D_R_v_3D': tensor(0.1832),\n",
      " 'Median_EPE_2D': tensor(3.4940),\n",
      " 'Median_EPE_3D': tensor(0.1498),\n",
      " 'Median_EPE_3D_R': tensor(0.0349),\n",
      " 'Median_EPE_3D_R_V_3D': tensor(0.1437)}\n"
     ]
    }
   ],
   "source": [
    "results = evaluate(model, val_data, num_workers=8,batch_size=32)\n",
    "pprint.pprint(results)\n",
    "# without rotation"
   ]
  },
  {
   "cell_type": "code",
   "execution_count": 18,
   "metadata": {
    "ExecuteTime": {
     "end_time": "2020-10-09T08:55:21.630070Z",
     "start_time": "2020-10-09T08:55:14.742396Z"
    }
   },
   "outputs": [
    {
     "name": "stderr",
     "output_type": "stream",
     "text": [
      "407it [00:03, 123.89it/s]\n",
      "100%|██████████| 13024/13024 [00:03<00:00, 3947.95it/s]\n"
     ]
    }
   ],
   "source": [
    "pred_dict = get_predictions_and_ground_truth(model.to(device), val_data,num_workers=8,batch_size=32)\n",
    "pred = pred_dict[\"predictions_3d\"]\n",
    "gt = pred_dict[\"ground_truth_3d\"]\n",
    "sts =calculate_epe_statistics(pred, gt, dim=3)\n",
    "eucledian_dist = sts['eucledian_dist']\n",
    "y,x = get_pck_curves(eucledian_dist, per_joint=True)\n",
    "auc = cal_auc_joints(eucledian_dist, per_joint=True)"
   ]
  },
  {
   "cell_type": "markdown",
   "metadata": {},
   "source": [
    "#  Visualize sample predictions"
   ]
  },
  {
   "cell_type": "code",
   "execution_count": 20,
   "metadata": {
    "ExecuteTime": {
     "end_time": "2020-10-09T08:55:55.719079Z",
     "start_time": "2020-10-09T08:55:55.690267Z"
    }
   },
   "outputs": [
    {
     "name": "stdout",
     "output_type": "stream",
     "text": [
      "\n"
     ]
    }
   ],
   "source": [
    "model.to(torch.device('cpu'))\n",
    "print()"
   ]
  },
  {
   "cell_type": "code",
   "execution_count": 21,
   "metadata": {
    "ExecuteTime": {
     "end_time": "2020-10-09T08:56:00.299567Z",
     "start_time": "2020-10-09T08:56:00.113740Z"
    },
    "cell_style": "split",
    "code_folding": [
     0,
     2
    ]
   },
   "outputs": [
    {
     "data": {
      "application/vnd.jupyter.widget-view+json": {
       "model_id": "03b9e4f92b44486d9f4970037fc9542c",
       "version_major": 2,
       "version_minor": 0
      },
      "text/plain": [
       "interactive(children=(IntSlider(value=3, description='idx', min=1, step=5), Checkbox(value=True, description='…"
      ]
     },
     "metadata": {},
     "output_type": "display_data"
    }
   ],
   "source": [
    "@interact(idx=widgets.IntSlider(min=1, max=100, step=5, value=3),plot_gt= widgets.Checkbox(value=True, description='Ground truth'),\n",
    "         plot_pred= widgets.Checkbox(value=True, description='Predicted_labels'))\n",
    "def visualize1(idx, plot_gt, plot_pred):\n",
    "    sample = val_data[idx]\n",
    "    joints = sample[\"joints\"]\n",
    "    img = sample[\"image\"]\n",
    "    img_input = img.view(([1]+list(img.shape)))\n",
    "    prediction = model(img_input).view(21,3).detach().numpy()\n",
    "    fig = plt.figure(figsize=(8, 8))\n",
    "    ax = fig.add_subplot(111)\n",
    "    plt.imshow(transforms.ToPILImage()(img))\n",
    "    if plot_gt:\n",
    "       plot_hand(ax, joints)\n",
    "    if plot_pred:\n",
    "        plot_hand(ax, prediction,linestyle=':' )\n",
    "    plt.show()"
   ]
  },
  {
   "cell_type": "code",
   "execution_count": 19,
   "metadata": {
    "ExecuteTime": {
     "end_time": "2020-10-09T08:55:25.438076Z",
     "start_time": "2020-10-09T08:55:25.327759Z"
    },
    "cell_style": "split",
    "code_folding": [
     2
    ]
   },
   "outputs": [
    {
     "data": {
      "application/vnd.jupyter.widget-view+json": {
       "model_id": "25fd86ac690a46cdb7e4eef585e57a7b",
       "version_major": 2,
       "version_minor": 0
      },
      "text/plain": [
       "interactive(children=(IntSlider(value=3, description='joint_id', max=20), Output()), _dom_classes=('widget-int…"
      ]
     },
     "metadata": {},
     "output_type": "display_data"
    }
   ],
   "source": [
    "@interact(joint_id=widgets.IntSlider(min=0, max=20, step=1, value=3))\n",
    "\n",
    "def visualize2(joint_id):\n",
    "    fig = plt.figure(figsize=(8, 8))\n",
    "    ax = fig.add_subplot(111)\n",
    "    plt.plot(x,y[joint_id])\n",
    "    plt.title(f\"PCK curve, AUC: {auc[joint_id]}\")\n",
    "    plt.plot(x,np.mean(y,axis=0), color='black',linestyle=\":\" ,alpha=0.5)\n",
    "    plt.xlabel(\"error in mm\")\n",
    "    plt.ylabel(\"Ratio of points below the error\")\n",
    "    plt.legend([f\"PCK curve for {joints_mapping[joint_id]}\", \"Average PCK curve\"])\n",
    "    plt.show()"
   ]
  },
  {
   "cell_type": "code",
   "execution_count": null,
   "metadata": {},
   "outputs": [],
   "source": []
  }
 ],
 "metadata": {
  "kernelspec": {
   "display_name": "Python 3",
   "language": "python",
   "name": "python3"
  },
  "language_info": {
   "codemirror_mode": {
    "name": "ipython",
    "version": 3
   },
   "file_extension": ".py",
   "mimetype": "text/x-python",
   "name": "python",
   "nbconvert_exporter": "python",
   "pygments_lexer": "ipython3",
   "version": "3.6.9"
  },
  "toc": {
   "base_numbering": 1,
   "nav_menu": {},
   "number_sections": true,
   "sideBar": true,
   "skip_h1_title": false,
   "title_cell": "Table of Contents",
   "title_sidebar": "Contents",
   "toc_cell": false,
   "toc_position": {},
   "toc_section_display": true,
   "toc_window_display": false
  },
  "varInspector": {
   "cols": {
    "lenName": 16,
    "lenType": 16,
    "lenVar": 40
   },
   "kernels_config": {
    "python": {
     "delete_cmd_postfix": "",
     "delete_cmd_prefix": "del ",
     "library": "var_list.py",
     "varRefreshCmd": "print(var_dic_list())"
    },
    "r": {
     "delete_cmd_postfix": ") ",
     "delete_cmd_prefix": "rm(",
     "library": "var_list.r",
     "varRefreshCmd": "cat(var_dic_list()) "
    }
   },
   "types_to_exclude": [
    "module",
    "function",
    "builtin_function_or_method",
    "instance",
    "_Feature"
   ],
   "window_display": false
  }
 },
 "nbformat": 4,
 "nbformat_minor": 4
}
