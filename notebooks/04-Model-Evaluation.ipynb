{
 "cells": [
  {
   "cell_type": "markdown",
   "metadata": {
    "ExecuteTime": {
     "end_time": "2020-10-07T15:30:06.981311Z",
     "start_time": "2020-10-07T15:30:06.979814Z"
    }
   },
   "source": [
    "# Import libraries"
   ]
  },
  {
   "cell_type": "code",
   "execution_count": 47,
   "metadata": {
    "ExecuteTime": {
     "end_time": "2020-10-07T16:01:09.113320Z",
     "start_time": "2020-10-07T16:01:09.109934Z"
    }
   },
   "outputs": [],
   "source": [
    "import os\n",
    "import copy\n",
    "from tqdm.notebook import tqdm\n",
    "import pprint\n",
    "from ipywidgets import interact\n",
    "import ipywidgets as widgets\n",
    "from IPython.display import display\n",
    "import torch\n",
    "from src.constants import DATA_PATH, MASTER_THESIS_DIR, TRAINING_CONFIG_PATH, MODEL_CONFIG_PATH\n",
    "from src.data_loader.data_set import Data_Set\n",
    "from src.experiments.utils import get_experiement_args, process_experiment_args\n",
    "from src.models.baseline_model import BaselineModel\n",
    "from src.utils import get_console_logger, read_json\n",
    "from src.visualization.visualize import plot_hand\n",
    "from torch.utils.data import DataLoader\n",
    "from torchvision import transforms\n",
    "from easydict import EasyDict as edict\n",
    "import matplotlib.pyplot as plt\n",
    "from src.data_loader.utils import convert_2_5D_to_3D, convert_to_2_5D\n",
    "from src.experiments.evaluation_utils import calculate_epe_statistics, evaluate,get_predictions_and_ground_truth, cal_auc_joints, get_pck_curves"
   ]
  },
  {
   "cell_type": "markdown",
   "metadata": {},
   "source": [
    "# Load configuration"
   ]
  },
  {
   "cell_type": "code",
   "execution_count": 49,
   "metadata": {
    "ExecuteTime": {
     "end_time": "2020-10-07T15:52:31.559231Z",
     "start_time": "2020-10-07T15:52:31.556593Z"
    }
   },
   "outputs": [
    {
     "name": "stdout",
     "output_type": "stream",
     "text": [
      "{'alpha': 5, 'gpu': True, 'resnet_trainable': True, 'learning_rate': 0.0001, 'scheduler': {'choice': 'cosine_annealing', 'cosine_annealing': {'T_max': 20, 'verbose': True}, 'reduce_on_plateau': {'mode': 'min', 'factor': 0.5, 'patience': 4, 'verbose': True}}}\n"
     ]
    }
   ],
   "source": [
    "model_config = edict(read_json(MODEL_CONFIG_PATH))\n",
    "joints_mapping = {v: k for k, v in read_json(\"/local/home/adahiya/Documents/master_thesis/src/data_loader/joint_mapping.json\")[\"ait\"].items()}\n",
    "model_config.gpu =True\n",
    "train_config =  edict(read_json(TRAINING_CONFIG_PATH))\n",
    "train_config.crop =True\n",
    "train_config.rotate=True\n",
    "print(model_config)"
   ]
  },
  {
   "cell_type": "markdown",
   "metadata": {},
   "source": [
    "# Load data"
   ]
  },
  {
   "cell_type": "code",
   "execution_count": 10,
   "metadata": {
    "ExecuteTime": {
     "end_time": "2020-10-07T15:53:30.920498Z",
     "start_time": "2020-10-07T15:53:29.983522Z"
    }
   },
   "outputs": [],
   "source": [
    "train_data = Data_Set(\n",
    "    config=train_config,\n",
    "    transforms=transforms.Compose(\n",
    "        [transforms.ToTensor()]\n",
    "    ),\n",
    "    train_set=True,\n",
    ")\n",
    "val_data = copy.copy(train_data)\n",
    "val_data.is_training(False)"
   ]
  },
  {
   "cell_type": "markdown",
   "metadata": {
    "ExecuteTime": {
     "end_time": "2020-10-07T15:31:35.244190Z",
     "start_time": "2020-10-07T15:31:35.242786Z"
    }
   },
   "source": [
    "# Load model"
   ]
  },
  {
   "cell_type": "code",
   "execution_count": 46,
   "metadata": {
    "ExecuteTime": {
     "end_time": "2020-10-07T15:32:34.335042Z",
     "start_time": "2020-10-07T15:32:34.169475Z"
    }
   },
   "outputs": [
    {
     "name": "stdout",
     "output_type": "stream",
     "text": [
      "\n"
     ]
    }
   ],
   "source": [
    "model = BaselineModel(config=model_config)\n",
    "checkpoint = torch.load(\n",
    "    \"/local/home/adahiya/Documents/master_thesis/models/models/master-thesis/54de390a2c1f455481fc94a0b2063cd8/checkpoints/epoch=260.ckpt\"\n",
    ")\n",
    "model.load_state_dict(checkpoint[\"state_dict\"])\n",
    "model.eval()\n",
    "device = torch.device(\"cuda\")\n",
    "model.to(device)\n",
    "print()"
   ]
  },
  {
   "cell_type": "markdown",
   "metadata": {},
   "source": [
    "# calculate Results"
   ]
  },
  {
   "cell_type": "code",
   "execution_count": 12,
   "metadata": {
    "ExecuteTime": {
     "end_time": "2020-10-07T15:54:08.594142Z",
     "start_time": "2020-10-07T15:54:01.531080Z"
    }
   },
   "outputs": [
    {
     "name": "stderr",
     "output_type": "stream",
     "text": [
      "407it [00:03, 103.60it/s]\n",
      "100%|██████████| 13024/13024 [00:03<00:00, 3943.66it/s]\n"
     ]
    },
    {
     "name": "stdout",
     "output_type": "stream",
     "text": [
      "{'Mean_EPE_2D': tensor(7.3600),\n",
      " 'Mean_EPE_3D': tensor(0.2410),\n",
      " 'Mean_EPE_3D_R': tensor(0.1536),\n",
      " 'Mean_EPE_3D_R_v_3D': tensor(0.1983),\n",
      " 'Median_EPE_2D': tensor(4.9856),\n",
      " 'Median_EPE_3D': tensor(0.1890),\n",
      " 'Median_EPE_3D_R': tensor(0.0567),\n",
      " 'Median_EPE_3D_R_V_3D': tensor(0.1690)}\n"
     ]
    }
   ],
   "source": [
    "results = evaluate(model, val_data, num_workers=8,batch_size=32)\n",
    "pprint.pprint(results)\n"
   ]
  },
  {
   "cell_type": "code",
   "execution_count": 30,
   "metadata": {},
   "outputs": [],
   "source": [
    "pred_dict = get_predictions_and_ground_truth(model.to(device), val_data,num_workers=8,batch_size=32)\n",
    "pred = pred_dict[\"predictions_3d\"]\n",
    "gt = pred_dict[\"ground_truth_3d\"]\n",
    "sts =calculate_epe_statistics(pred, gt, dim=3)\n",
    "eucledian_dist = sts['eucledian_dist']\n",
    "y,x = get_pck_curves(eucledian_dist, per_joint=True)\n",
    "auc = cal_auc_joints(eucledian_dist, per_joint=True)"
   ]
  },
  {
   "cell_type": "markdown",
   "metadata": {},
   "source": [
    "#  Visualize sample predictions"
   ]
  },
  {
   "cell_type": "code",
   "execution_count": 45,
   "metadata": {},
   "outputs": [],
   "source": [
    "model.to(torch.device('cpu'))\n",
    "print()"
   ]
  },
  {
   "cell_type": "code",
   "execution_count": 38,
   "metadata": {
    "ExecuteTime": {
     "end_time": "2020-10-07T15:50:55.744097Z",
     "start_time": "2020-10-07T15:50:55.539911Z"
    },
    "cell_style": "split",
    "code_folding": [
     0,
     2
    ]
   },
   "outputs": [
    {
     "data": {
      "application/vnd.jupyter.widget-view+json": {
       "model_id": "615f14b55af74da79705098c71aa690f",
       "version_major": 2,
       "version_minor": 0
      },
      "text/plain": [
       "interactive(children=(IntSlider(value=3, description='idx', min=1, step=5), Checkbox(value=True, description='…"
      ]
     },
     "metadata": {},
     "output_type": "display_data"
    }
   ],
   "source": [
    "@interact(idx=widgets.IntSlider(min=1, max=100, step=5, value=3),plot_gt= widgets.Checkbox(value=True, description='Ground truth'),\n",
    "         plot_pred= widgets.Checkbox(value=True, description='Predicted_labels'))\n",
    "def visualize1(idx, plot_gt, plot_pred):\n",
    "    sample = val_data[idx]\n",
    "    joints = sample[\"joints\"]\n",
    "    img = sample[\"image\"]\n",
    "    img_input = img.view(([1]+list(img.shape)))\n",
    "    prediction = model(img_input).view(21,3).detach().numpy()\n",
    "    fig = plt.figure(figsize=(8, 8))\n",
    "    ax = fig.add_subplot(111)\n",
    "    plt.imshow(transforms.ToPILImage()(img))\n",
    "    if plot_gt:\n",
    "       plot_hand(ax, joints)\n",
    "    if plot_pred:\n",
    "        plot_hand(ax, prediction,linestyle=':' )\n",
    "    plt.show()"
   ]
  },
  {
   "cell_type": "code",
   "execution_count": 50,
   "metadata": {
    "cell_style": "split",
    "code_folding": [
     2
    ]
   },
   "outputs": [
    {
     "data": {
      "application/vnd.jupyter.widget-view+json": {
       "model_id": "7587c696986f4d149156aa56567ccf8b",
       "version_major": 2,
       "version_minor": 0
      },
      "text/plain": [
       "interactive(children=(IntSlider(value=3, description='joint_id', max=20), Output()), _dom_classes=('widget-int…"
      ]
     },
     "metadata": {},
     "output_type": "display_data"
    }
   ],
   "source": [
    "@interact(joint_id=widgets.IntSlider(min=0, max=20, step=1, value=3))\n",
    "\n",
    "def visualize2(joint_id):\n",
    "    fig = plt.figure(figsize=(8, 8))\n",
    "    ax = fig.add_subplot(111)\n",
    "    plt.plot(x,y[joint_id])\n",
    "    plt.title(f\"PCK curve, AUC: {auc[joint_id]}\")\n",
    "    plt.plot(x,np.mean(y,axis=0), color='black',linestyle=\":\" ,alpha=0.5)\n",
    "    plt.xlabel(\"error in mm\")\n",
    "    plt.ylabel(\"Ratio of points below the error\")\n",
    "    plt.legend([f\"PCK curve for {joints_mapping[joint_id]}\", \"Average PCK curve\"])\n",
    "    plt.show()"
   ]
  }
 ],
 "metadata": {
  "kernelspec": {
   "display_name": "Python 3",
   "language": "python",
   "name": "python3"
  },
  "language_info": {
   "codemirror_mode": {
    "name": "ipython",
    "version": 3
   },
   "file_extension": ".py",
   "mimetype": "text/x-python",
   "name": "python",
   "nbconvert_exporter": "python",
   "pygments_lexer": "ipython3",
   "version": "3.6.9"
  },
  "toc": {
   "base_numbering": 1,
   "nav_menu": {},
   "number_sections": true,
   "sideBar": true,
   "skip_h1_title": false,
   "title_cell": "Table of Contents",
   "title_sidebar": "Contents",
   "toc_cell": false,
   "toc_position": {},
   "toc_section_display": true,
   "toc_window_display": false
  },
  "varInspector": {
   "cols": {
    "lenName": 16,
    "lenType": 16,
    "lenVar": 40
   },
   "kernels_config": {
    "python": {
     "delete_cmd_postfix": "",
     "delete_cmd_prefix": "del ",
     "library": "var_list.py",
     "varRefreshCmd": "print(var_dic_list())"
    },
    "r": {
     "delete_cmd_postfix": ") ",
     "delete_cmd_prefix": "rm(",
     "library": "var_list.r",
     "varRefreshCmd": "cat(var_dic_list()) "
    }
   },
   "types_to_exclude": [
    "module",
    "function",
    "builtin_function_or_method",
    "instance",
    "_Feature"
   ],
   "window_display": false
  }
 },
 "nbformat": 4,
 "nbformat_minor": 4
}
