{
 "cells": [
  {
   "cell_type": "markdown",
   "metadata": {
    "ExecuteTime": {
     "end_time": "2020-10-07T15:30:06.981311Z",
     "start_time": "2020-10-07T15:30:06.979814Z"
    }
   },
   "source": [
    "# Import libraries"
   ]
  },
  {
   "cell_type": "code",
   "execution_count": 1,
   "metadata": {
    "ExecuteTime": {
     "end_time": "2020-10-21T15:32:45.650898Z",
     "start_time": "2020-10-21T15:32:44.858428Z"
    }
   },
   "outputs": [],
   "source": [
    "import os\n",
    "import copy\n",
    "from tqdm.notebook import tqdm\n",
    "import pprint\n",
    "from ipywidgets import interact\n",
    "import ipywidgets as widgets\n",
    "from IPython.display import display\n",
    "import torch\n",
    "from src.constants import DATA_PATH, MASTER_THESIS_DIR, TRAINING_CONFIG_PATH, MODEL_CONFIG_PATH\n",
    "from src.data_loader.data_set import Data_Set\n",
    "from src.experiments.utils import get_experiement_args, process_experiment_args\n",
    "from src.models.baseline_model import BaselineModel\n",
    "from src.utils import get_console_logger, read_json\n",
    "from src.visualization.visualize import plot_hand\n",
    "from torch.utils.data import DataLoader\n",
    "from torchvision import transforms\n",
    "from easydict import EasyDict as edict\n",
    "import matplotlib.pyplot as plt\n",
    "from src.data_loader.utils import convert_2_5D_to_3D, convert_to_2_5D\n",
    "from src.experiments.evaluation_utils import calculate_epe_statistics, evaluate,get_predictions_and_ground_truth, cal_auc_joints, get_pck_curves\n",
    "from src.data_loader.utils import get_train_val_split\n",
    "from src.models.supervised_head_model import SupervisedHead"
   ]
  },
  {
   "cell_type": "markdown",
   "metadata": {},
   "source": [
    "# Load configuration"
   ]
  },
  {
   "cell_type": "code",
   "execution_count": 2,
   "metadata": {
    "ExecuteTime": {
     "end_time": "2020-10-21T15:32:46.231848Z",
     "start_time": "2020-10-21T15:32:46.224689Z"
    },
    "collapsed": true
   },
   "outputs": [
    {
     "name": "stdout",
     "output_type": "stream",
     "text": [
      "{'batch_size': 128, 'lr': 0.0001, 'opt_weight_decay': 0.0001, 'output_dim': 128, 'projection_head_hidden_dim': 2048, 'projection_head_input_dim': 512, 'warmup_epochs': 10, 'gpu': True}\n"
     ]
    },
    {
     "data": {
      "text/plain": [
       "({'batch_size': 128,\n",
       "  'epochs': 150,\n",
       "  'train_ratio': 0.9,\n",
       "  'gpu': True,\n",
       "  'num_workers': 8,\n",
       "  'seed': 5,\n",
       "  'augmentation_flags': {'color_drop': False,\n",
       "   'color_jitter': False,\n",
       "   'crop': True,\n",
       "   'cut_out': False,\n",
       "   'flip': False,\n",
       "   'gaussian_blur': False,\n",
       "   'random_crop': False,\n",
       "   'resize': True,\n",
       "   'rotate': False},\n",
       "  'augmentation_params': {'crop_margin': 1.5,\n",
       "   'crop_margin_range': [0.8, 1.5],\n",
       "   'cut_out_fraction': [0.05, 0.2],\n",
       "   'hue_factor_range': [-0.5, 0.5],\n",
       "   'max_angle': 359,\n",
       "   'min_angle': 0,\n",
       "   'resize_shape': [128, 128],\n",
       "   'sat_factor_range': [-0.5, 0.5],\n",
       "   'value_factor_alpha_range': [0.5, 1],\n",
       "   'value_factor_beta_range': [10, 50]}},\n",
       " {'batch_size': 128,\n",
       "  'lr': 0.0001,\n",
       "  'opt_weight_decay': 0.0001,\n",
       "  'output_dim': 128,\n",
       "  'projection_head_hidden_dim': 2048,\n",
       "  'projection_head_input_dim': 512,\n",
       "  'warmup_epochs': 10,\n",
       "  'gpu': True})"
      ]
     },
     "execution_count": 2,
     "metadata": {},
     "output_type": "execute_result"
    }
   ],
   "source": [
    "model_config = edict(read_json(os.path.join(MASTER_THESIS_DIR, \"src\", \"experiments\", \"simclr_config.json\")))\n",
    "joints_mapping = {v: k for k, v in read_json(\"/local/home/adahiya/Documents/master_thesis/src/data_loader/joint_mapping.json\")[\"ait\"].items()}\n",
    "model_config.gpu =True\n",
    "train_config =  edict(read_json(TRAINING_CONFIG_PATH))\n",
    "train_config.augmentation_flags.crop =True\n",
    "train_config.augmentation_flags.resize =True\n",
    "train_config.augmentation_flags.rotate=False\n",
    "print(model_config)\n",
    "train_config.num_workers=8\n",
    "train_config.epochs = 150\n",
    "model_config.warmup_epochs = 10\n",
    "train_config, model_config"
   ]
  },
  {
   "cell_type": "markdown",
   "metadata": {},
   "source": [
    "# Load data"
   ]
  },
  {
   "cell_type": "code",
   "execution_count": 3,
   "metadata": {
    "ExecuteTime": {
     "end_time": "2020-10-21T15:32:50.236340Z",
     "start_time": "2020-10-21T15:32:49.096890Z"
    }
   },
   "outputs": [],
   "source": [
    "train_data = Data_Set(\n",
    "    config=train_config,\n",
    "    transform=transforms.Compose(\n",
    "        [transforms.ToTensor()]\n",
    "    ),\n",
    "    train_set=True,\n",
    ")\n",
    "val_data = copy.copy(train_data)\n",
    "val_data.is_training(False)"
   ]
  },
  {
   "cell_type": "markdown",
   "metadata": {
    "ExecuteTime": {
     "end_time": "2020-10-07T15:31:35.244190Z",
     "start_time": "2020-10-07T15:31:35.242786Z"
    }
   },
   "source": [
    "# Load model"
   ]
  },
  {
   "cell_type": "code",
   "execution_count": 25,
   "metadata": {
    "ExecuteTime": {
     "end_time": "2020-10-09T08:56:55.491266Z",
     "start_time": "2020-10-09T08:56:55.320738Z"
    },
    "cell_style": "split",
    "collapsed": true
   },
   "outputs": [
    {
     "name": "stdout",
     "output_type": "stream",
     "text": [
      "\n"
     ]
    }
   ],
   "source": [
    "# supervised model\n",
    "model = BaselineModel(config=model_config)\n",
    "checkpoint = torch.load(\"/local/home/adahiya/Documents/master_thesis/data/models/master-thesis/8364a50940f44dc3963173d0f7b3c68a/checkpoints/epoch=284.ckpt\"\n",
    ")\n",
    "model.load_state_dict(checkpoint[\"state_dict\"])\n",
    "model.eval()\n",
    "device = torch.device(\"cuda\")\n",
    "model.to(device)\n",
    "print()"
   ]
  },
  {
   "cell_type": "code",
   "execution_count": 15,
   "metadata": {
    "ExecuteTime": {
     "end_time": "2020-10-21T15:41:05.922604Z",
     "start_time": "2020-10-21T15:41:05.641436Z"
    },
    "cell_style": "split",
    "collapsed": true
   },
   "outputs": [
    {
     "data": {
      "text/plain": [
       "SupervisedHead(\n",
       "  (encoder): ResNet(\n",
       "    (conv1): Conv2d(3, 64, kernel_size=(7, 7), stride=(2, 2), padding=(3, 3), bias=False)\n",
       "    (bn1): BatchNorm2d(64, eps=1e-05, momentum=0.1, affine=True, track_running_stats=True)\n",
       "    (relu): ReLU(inplace=True)\n",
       "    (maxpool): MaxPool2d(kernel_size=3, stride=2, padding=1, dilation=1, ceil_mode=False)\n",
       "    (layer1): Sequential(\n",
       "      (0): BasicBlock(\n",
       "        (conv1): Conv2d(64, 64, kernel_size=(3, 3), stride=(1, 1), padding=(1, 1), bias=False)\n",
       "        (bn1): BatchNorm2d(64, eps=1e-05, momentum=0.1, affine=True, track_running_stats=True)\n",
       "        (relu): ReLU(inplace=True)\n",
       "        (conv2): Conv2d(64, 64, kernel_size=(3, 3), stride=(1, 1), padding=(1, 1), bias=False)\n",
       "        (bn2): BatchNorm2d(64, eps=1e-05, momentum=0.1, affine=True, track_running_stats=True)\n",
       "      )\n",
       "      (1): BasicBlock(\n",
       "        (conv1): Conv2d(64, 64, kernel_size=(3, 3), stride=(1, 1), padding=(1, 1), bias=False)\n",
       "        (bn1): BatchNorm2d(64, eps=1e-05, momentum=0.1, affine=True, track_running_stats=True)\n",
       "        (relu): ReLU(inplace=True)\n",
       "        (conv2): Conv2d(64, 64, kernel_size=(3, 3), stride=(1, 1), padding=(1, 1), bias=False)\n",
       "        (bn2): BatchNorm2d(64, eps=1e-05, momentum=0.1, affine=True, track_running_stats=True)\n",
       "      )\n",
       "    )\n",
       "    (layer2): Sequential(\n",
       "      (0): BasicBlock(\n",
       "        (conv1): Conv2d(64, 128, kernel_size=(3, 3), stride=(2, 2), padding=(1, 1), bias=False)\n",
       "        (bn1): BatchNorm2d(128, eps=1e-05, momentum=0.1, affine=True, track_running_stats=True)\n",
       "        (relu): ReLU(inplace=True)\n",
       "        (conv2): Conv2d(128, 128, kernel_size=(3, 3), stride=(1, 1), padding=(1, 1), bias=False)\n",
       "        (bn2): BatchNorm2d(128, eps=1e-05, momentum=0.1, affine=True, track_running_stats=True)\n",
       "        (downsample): Sequential(\n",
       "          (0): Conv2d(64, 128, kernel_size=(1, 1), stride=(2, 2), bias=False)\n",
       "          (1): BatchNorm2d(128, eps=1e-05, momentum=0.1, affine=True, track_running_stats=True)\n",
       "        )\n",
       "      )\n",
       "      (1): BasicBlock(\n",
       "        (conv1): Conv2d(128, 128, kernel_size=(3, 3), stride=(1, 1), padding=(1, 1), bias=False)\n",
       "        (bn1): BatchNorm2d(128, eps=1e-05, momentum=0.1, affine=True, track_running_stats=True)\n",
       "        (relu): ReLU(inplace=True)\n",
       "        (conv2): Conv2d(128, 128, kernel_size=(3, 3), stride=(1, 1), padding=(1, 1), bias=False)\n",
       "        (bn2): BatchNorm2d(128, eps=1e-05, momentum=0.1, affine=True, track_running_stats=True)\n",
       "      )\n",
       "    )\n",
       "    (layer3): Sequential(\n",
       "      (0): BasicBlock(\n",
       "        (conv1): Conv2d(128, 256, kernel_size=(3, 3), stride=(2, 2), padding=(1, 1), bias=False)\n",
       "        (bn1): BatchNorm2d(256, eps=1e-05, momentum=0.1, affine=True, track_running_stats=True)\n",
       "        (relu): ReLU(inplace=True)\n",
       "        (conv2): Conv2d(256, 256, kernel_size=(3, 3), stride=(1, 1), padding=(1, 1), bias=False)\n",
       "        (bn2): BatchNorm2d(256, eps=1e-05, momentum=0.1, affine=True, track_running_stats=True)\n",
       "        (downsample): Sequential(\n",
       "          (0): Conv2d(128, 256, kernel_size=(1, 1), stride=(2, 2), bias=False)\n",
       "          (1): BatchNorm2d(256, eps=1e-05, momentum=0.1, affine=True, track_running_stats=True)\n",
       "        )\n",
       "      )\n",
       "      (1): BasicBlock(\n",
       "        (conv1): Conv2d(256, 256, kernel_size=(3, 3), stride=(1, 1), padding=(1, 1), bias=False)\n",
       "        (bn1): BatchNorm2d(256, eps=1e-05, momentum=0.1, affine=True, track_running_stats=True)\n",
       "        (relu): ReLU(inplace=True)\n",
       "        (conv2): Conv2d(256, 256, kernel_size=(3, 3), stride=(1, 1), padding=(1, 1), bias=False)\n",
       "        (bn2): BatchNorm2d(256, eps=1e-05, momentum=0.1, affine=True, track_running_stats=True)\n",
       "      )\n",
       "    )\n",
       "    (layer4): Sequential(\n",
       "      (0): BasicBlock(\n",
       "        (conv1): Conv2d(256, 512, kernel_size=(3, 3), stride=(2, 2), padding=(1, 1), bias=False)\n",
       "        (bn1): BatchNorm2d(512, eps=1e-05, momentum=0.1, affine=True, track_running_stats=True)\n",
       "        (relu): ReLU(inplace=True)\n",
       "        (conv2): Conv2d(512, 512, kernel_size=(3, 3), stride=(1, 1), padding=(1, 1), bias=False)\n",
       "        (bn2): BatchNorm2d(512, eps=1e-05, momentum=0.1, affine=True, track_running_stats=True)\n",
       "        (downsample): Sequential(\n",
       "          (0): Conv2d(256, 512, kernel_size=(1, 1), stride=(2, 2), bias=False)\n",
       "          (1): BatchNorm2d(512, eps=1e-05, momentum=0.1, affine=True, track_running_stats=True)\n",
       "        )\n",
       "      )\n",
       "      (1): BasicBlock(\n",
       "        (conv1): Conv2d(512, 512, kernel_size=(3, 3), stride=(1, 1), padding=(1, 1), bias=False)\n",
       "        (bn1): BatchNorm2d(512, eps=1e-05, momentum=0.1, affine=True, track_running_stats=True)\n",
       "        (relu): ReLU(inplace=True)\n",
       "        (conv2): Conv2d(512, 512, kernel_size=(3, 3), stride=(1, 1), padding=(1, 1), bias=False)\n",
       "        (bn2): BatchNorm2d(512, eps=1e-05, momentum=0.1, affine=True, track_running_stats=True)\n",
       "      )\n",
       "    )\n",
       "    (avgpool): AdaptiveAvgPool2d(output_size=(1, 1))\n",
       "    (fc): Sequential()\n",
       "  )\n",
       "  (final_layers): Sequential(\n",
       "    (0): Linear(in_features=512, out_features=128, bias=True)\n",
       "    (1): BatchNorm1d(128, eps=1e-05, momentum=0.1, affine=True, track_running_stats=True)\n",
       "    (2): ReLU()\n",
       "    (3): Linear(in_features=128, out_features=63, bias=True)\n",
       "  )\n",
       ")"
      ]
     },
     "execution_count": 15,
     "metadata": {},
     "output_type": "execute_result"
    }
   ],
   "source": [
    "# semi supervised model\n",
    "model = SupervisedHead(\n",
    "    model_config,\n",
    "    \"/local/home/adahiya/Documents/master_thesis/data/models/master-thesis/14910753afb9499ab9229174d6377efb/checkpoints/epoch=999.ckpt\",\n",
    "    model_config,\n",
    ")\n",
    "checkpoint = torch.load(\n",
    "    \"/local/home/adahiya/Documents/master_thesis/data/models/master-thesis/abf5b702ea4c4ad78703b6f81221acd4/checkpoints/epoch=149.ckpt\"\n",
    ")[\"state_dict\"]\n",
    "model.load_state_dict(checkpoint)\n",
    "model.eval()"
   ]
  },
  {
   "cell_type": "markdown",
   "metadata": {},
   "source": [
    "# calculate Results"
   ]
  },
  {
   "cell_type": "code",
   "execution_count": 16,
   "metadata": {
    "ExecuteTime": {
     "end_time": "2020-10-21T15:41:37.677959Z",
     "start_time": "2020-10-21T15:41:23.580226Z"
    },
    "cell_style": "split"
   },
   "outputs": [
    {
     "name": "stderr",
     "output_type": "stream",
     "text": [
      "407it [00:03, 118.68it/s]\n",
      "100%|██████████| 13024/13024 [00:03<00:00, 3975.73it/s]"
     ]
    },
    {
     "name": "stdout",
     "output_type": "stream",
     "text": [
      "{'Mean_EPE_2D': tensor(13.4872),\n",
      " 'Mean_EPE_3D': tensor(0.3836),\n",
      " 'Mean_EPE_3D_R': tensor(0.3444),\n",
      " 'Mean_EPE_3D_R_v_3D': tensor(0.1832),\n",
      " 'Median_EPE_2D': tensor(10.5245),\n",
      " 'Median_EPE_3D': tensor(0.1891),\n",
      " 'Median_EPE_3D_R': tensor(0.1308),\n",
      " 'Median_EPE_3D_R_V_3D': tensor(0.1437)}\n"
     ]
    },
    {
     "name": "stderr",
     "output_type": "stream",
     "text": [
      "\n",
      "407it [00:03, 118.92it/s]\n",
      "100%|██████████| 13024/13024 [00:03<00:00, 3800.39it/s]\n"
     ]
    },
    {
     "name": "stdout",
     "output_type": "stream",
     "text": [
      "AUC : 0.50091322308425\n"
     ]
    }
   ],
   "source": [
    "# strong augmentations\n",
    "results = evaluate(model, val_data, num_workers=8,batch_size=32)\n",
    "pprint.pprint(results)\n",
    "pred_dict = get_predictions_and_ground_truth(model, val_data,num_workers=8,batch_size=32)\n",
    "pred = pred_dict[\"predictions_3d\"]\n",
    "gt = pred_dict[\"ground_truth_3d\"]\n",
    "sts =calculate_epe_statistics(pred, gt, dim=3)\n",
    "eucledian_dist = sts['eucledian_dist']\n",
    "y,x = get_pck_curves(eucledian_dist, per_joint=True)\n",
    "auc = cal_auc_joints(eucledian_dist, per_joint=True)\n",
    "print(f\"AUC : {np.mean(auc)}\")"
   ]
  },
  {
   "cell_type": "code",
   "execution_count": 14,
   "metadata": {
    "ExecuteTime": {
     "end_time": "2020-10-21T15:39:52.691943Z",
     "start_time": "2020-10-21T15:39:38.868961Z"
    },
    "cell_style": "split"
   },
   "outputs": [
    {
     "name": "stderr",
     "output_type": "stream",
     "text": [
      "407it [00:03, 120.07it/s]\n",
      "100%|██████████| 13024/13024 [00:03<00:00, 4019.47it/s]"
     ]
    },
    {
     "name": "stdout",
     "output_type": "stream",
     "text": [
      "{'Mean_EPE_2D': tensor(27.1314),\n",
      " 'Mean_EPE_3D': tensor(0.9543),\n",
      " 'Mean_EPE_3D_R': tensor(0.9589),\n",
      " 'Mean_EPE_3D_R_v_3D': tensor(0.1832),\n",
      " 'Median_EPE_2D': tensor(24.9557),\n",
      " 'Median_EPE_3D': tensor(0.4825),\n",
      " 'Median_EPE_3D_R': tensor(0.4832),\n",
      " 'Median_EPE_3D_R_V_3D': tensor(0.1437)}\n"
     ]
    },
    {
     "name": "stderr",
     "output_type": "stream",
     "text": [
      "\n",
      "407it [00:03, 120.44it/s]\n",
      "100%|██████████| 13024/13024 [00:03<00:00, 3991.53it/s]\n"
     ]
    },
    {
     "name": "stdout",
     "output_type": "stream",
     "text": [
      "AUC : 0.24114521374102332\n"
     ]
    }
   ],
   "source": [
    "# weak augmentations\n",
    "results = evaluate(model, val_data, num_workers=8,batch_size=32)\n",
    "pprint.pprint(results)\n",
    "pred_dict = get_predictions_and_ground_truth(model, val_data,num_workers=8,batch_size=32)\n",
    "pred = pred_dict[\"predictions_3d\"]\n",
    "gt = pred_dict[\"ground_truth_3d\"]\n",
    "sts =calculate_epe_statistics(pred, gt, dim=3)\n",
    "eucledian_dist = sts['eucledian_dist']\n",
    "y,x = get_pck_curves(eucledian_dist, per_joint=True)\n",
    "auc = cal_auc_joints(eucledian_dist, per_joint=True)\n",
    "print(f\"AUC : {np.mean(auc)}\")"
   ]
  },
  {
   "cell_type": "markdown",
   "metadata": {},
   "source": [
    "#  Visualize sample predictions"
   ]
  },
  {
   "cell_type": "code",
   "execution_count": 18,
   "metadata": {
    "ExecuteTime": {
     "end_time": "2020-10-21T15:44:13.232975Z",
     "start_time": "2020-10-21T15:44:13.214938Z"
    }
   },
   "outputs": [
    {
     "name": "stdout",
     "output_type": "stream",
     "text": [
      "\n"
     ]
    }
   ],
   "source": [
    "model.to(torch.device('cpu'))\n",
    "print()"
   ]
  },
  {
   "cell_type": "code",
   "execution_count": 19,
   "metadata": {
    "ExecuteTime": {
     "end_time": "2020-10-21T15:44:15.742132Z",
     "start_time": "2020-10-21T15:44:15.451405Z"
    },
    "cell_style": "split",
    "code_folding": [
     0
    ]
   },
   "outputs": [
    {
     "data": {
      "application/vnd.jupyter.widget-view+json": {
       "model_id": "041ab9393f034ee18ee6f0db31a5d047",
       "version_major": 2,
       "version_minor": 0
      },
      "text/plain": [
       "interactive(children=(IntSlider(value=3, description='idx', min=1, step=5), Checkbox(value=True, description='…"
      ]
     },
     "metadata": {},
     "output_type": "display_data"
    }
   ],
   "source": [
    "@interact(idx=widgets.IntSlider(min=1, max=100, step=5, value=3),plot_gt= widgets.Checkbox(value=True, description='Ground truth'),\n",
    "         plot_pred= widgets.Checkbox(value=True, description='Predicted_labels'))\n",
    "def visualize1(idx, plot_gt, plot_pred):\n",
    "    sample = val_data[idx]\n",
    "    joints = sample[\"joints\"]\n",
    "    img = sample[\"image\"]\n",
    "    img_input = img.view(([1]+list(img.shape)))\n",
    "    prediction = model(img_input).view(21,3).detach().numpy()\n",
    "    fig = plt.figure(figsize=(8, 8))\n",
    "    ax = fig.add_subplot(111)\n",
    "    plt.imshow(transforms.ToPILImage()(img))\n",
    "    if plot_gt:\n",
    "       plot_hand(ax, joints)\n",
    "    if plot_pred:\n",
    "        plot_hand(ax, prediction,linestyle=':' )\n",
    "    plt.show()"
   ]
  },
  {
   "cell_type": "code",
   "execution_count": 8,
   "metadata": {
    "ExecuteTime": {
     "end_time": "2020-10-21T15:34:36.937697Z",
     "start_time": "2020-10-21T15:34:36.792079Z"
    },
    "cell_style": "split",
    "code_folding": [],
    "collapsed": true
   },
   "outputs": [
    {
     "data": {
      "application/vnd.jupyter.widget-view+json": {
       "model_id": "196c5dc785a94e63b0e3118727304e5a",
       "version_major": 2,
       "version_minor": 0
      },
      "text/plain": [
       "interactive(children=(IntSlider(value=3, description='joint_id', max=20), Output()), _dom_classes=('widget-int…"
      ]
     },
     "metadata": {},
     "output_type": "display_data"
    }
   ],
   "source": [
    "@interact(joint_id=widgets.IntSlider(min=0, max=20, step=1, value=3))\n",
    "\n",
    "def visualize2(joint_id):\n",
    "    fig = plt.figure(figsize=(8, 8))\n",
    "    ax = fig.add_subplot(111)\n",
    "    plt.plot(x,y[joint_id])\n",
    "    plt.title(f\"PCK curve, AUC: {auc[joint_id]}\")\n",
    "    plt.plot(x,np.mean(y,axis=0), color='black',linestyle=\":\" ,alpha=0.5)\n",
    "    plt.xlabel(\"error in mm\")\n",
    "    plt.ylabel(\"Ratio of points below the error\")\n",
    "    plt.legend([f\"PCK curve for {joints_mapping[joint_id]}\", \"Average PCK curve\"])\n",
    "    plt.show()"
   ]
  },
  {
   "cell_type": "code",
   "execution_count": null,
   "metadata": {},
   "outputs": [],
   "source": []
  }
 ],
 "metadata": {
  "kernelspec": {
   "display_name": "Python 3",
   "language": "python",
   "name": "python3"
  },
  "language_info": {
   "codemirror_mode": {
    "name": "ipython",
    "version": 3
   },
   "file_extension": ".py",
   "mimetype": "text/x-python",
   "name": "python",
   "nbconvert_exporter": "python",
   "pygments_lexer": "ipython3",
   "version": "3.6.9"
  },
  "toc": {
   "base_numbering": 1,
   "nav_menu": {},
   "number_sections": true,
   "sideBar": true,
   "skip_h1_title": false,
   "title_cell": "Table of Contents",
   "title_sidebar": "Contents",
   "toc_cell": false,
   "toc_position": {},
   "toc_section_display": true,
   "toc_window_display": false
  },
  "varInspector": {
   "cols": {
    "lenName": 16,
    "lenType": 16,
    "lenVar": 40
   },
   "kernels_config": {
    "python": {
     "delete_cmd_postfix": "",
     "delete_cmd_prefix": "del ",
     "library": "var_list.py",
     "varRefreshCmd": "print(var_dic_list())"
    },
    "r": {
     "delete_cmd_postfix": ") ",
     "delete_cmd_prefix": "rm(",
     "library": "var_list.r",
     "varRefreshCmd": "cat(var_dic_list()) "
    }
   },
   "types_to_exclude": [
    "module",
    "function",
    "builtin_function_or_method",
    "instance",
    "_Feature"
   ],
   "window_display": false
  }
 },
 "nbformat": 4,
 "nbformat_minor": 4
}
