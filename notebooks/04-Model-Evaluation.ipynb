{
 "cells": [
  {
   "cell_type": "markdown",
   "metadata": {
    "ExecuteTime": {
     "end_time": "2020-10-07T15:30:06.981311Z",
     "start_time": "2020-10-07T15:30:06.979814Z"
    }
   },
   "source": [
    "# Import libraries"
   ]
  },
  {
   "cell_type": "code",
   "execution_count": 1,
   "metadata": {
    "ExecuteTime": {
     "end_time": "2020-11-27T21:47:20.147206Z",
     "start_time": "2020-11-27T21:47:19.310520Z"
    }
   },
   "outputs": [],
   "source": [
    "import os\n",
    "import copy\n",
    "from tqdm.notebook import tqdm\n",
    "import pprint\n",
    "from ipywidgets import interact\n",
    "import ipywidgets as widgets\n",
    "from IPython.display import display\n",
    "import torch\n",
    "from src.constants import DATA_PATH, MASTER_THESIS_DIR, TRAINING_CONFIG_PATH, MODEL_CONFIG_PATH\n",
    "from src.data_loader.data_set import Data_Set\n",
    "from src.experiments.utils import get_experiement_args, process_experiment_args\n",
    "from src.models.baseline_model import BaselineModel\n",
    "from src.utils import get_console_logger, read_json\n",
    "from src.visualization.visualize import plot_hand\n",
    "from torch.utils.data import DataLoader\n",
    "from torchvision import transforms\n",
    "from easydict import EasyDict as edict\n",
    "import matplotlib.pyplot as plt\n",
    "from src.data_loader.utils import convert_2_5D_to_3D, convert_to_2_5D\n",
    "from src.experiments.evaluation_utils import calculate_epe_statistics, evaluate,get_predictions_and_ground_truth, cal_auc_joints, get_pck_curves\n",
    "from src.data_loader.utils import get_train_val_split\n",
    "from src.models.supervised_head_model import SupervisedHead"
   ]
  },
  {
   "cell_type": "markdown",
   "metadata": {},
   "source": [
    "# Load configuration"
   ]
  },
  {
   "cell_type": "code",
   "execution_count": 2,
   "metadata": {
    "ExecuteTime": {
     "end_time": "2020-11-27T21:47:20.292616Z",
     "start_time": "2020-11-27T21:47:20.286224Z"
    }
   },
   "outputs": [
    {
     "name": "stdout",
     "output_type": "stream",
     "text": [
      "{'alpha': 5, 'batch_size': 32, 'gpu': True, 'lr': 1e-05, 'opt_weight_decay': 1e-05, 'resnet_trainable': True, 'warmup_epochs': 10}\n"
     ]
    },
    {
     "data": {
      "text/plain": [
       "({'batch_size': 128,\n",
       "  'epochs': 150,\n",
       "  'train_ratio': 0.9,\n",
       "  'gpu': True,\n",
       "  'num_workers': 8,\n",
       "  'seed': 5,\n",
       "  'augmentation_flags': {'color_drop': False,\n",
       "   'color_jitter': False,\n",
       "   'crop': True,\n",
       "   'cut_out': False,\n",
       "   'gaussian_blur': False,\n",
       "   'random_crop': False,\n",
       "   'resize': True,\n",
       "   'rotate': False},\n",
       "  'augmentation_params': {'crop_margin': 1.25,\n",
       "   'crop_margin_range': [0.6, 2.0],\n",
       "   'cut_out_fraction': [0.0, 0.16],\n",
       "   'hue_factor_range': [0.01, 1.0],\n",
       "   'max_angle': 359,\n",
       "   'min_angle': 0,\n",
       "   'resize_shape': [128, 128],\n",
       "   'sat_factor_range': [0.01, 1.0],\n",
       "   'value_factor_alpha_range': [0.5, 1],\n",
       "   'value_factor_beta_range': [5, 20],\n",
       "   'crop_box_jitter': [0.0, 15.0]}},\n",
       " {'alpha': 5,\n",
       "  'batch_size': 32,\n",
       "  'gpu': True,\n",
       "  'lr': 1e-05,\n",
       "  'opt_weight_decay': 1e-05,\n",
       "  'resnet_trainable': True,\n",
       "  'warmup_epochs': 10})"
      ]
     },
     "execution_count": 2,
     "metadata": {},
     "output_type": "execute_result"
    }
   ],
   "source": [
    "model_config = edict(read_json(os.path.join(MASTER_THESIS_DIR, \"src\", \"experiments\",\"config\", \"model_config.json\")))\n",
    "joints_mapping = {v: k for k, v in read_json(\"/local/home/adahiya/Documents/master_thesis/src/data_loader/joint_mapping.json\")[\"ait\"].items()}\n",
    "model_config.gpu =True\n",
    "train_config =  edict(read_json(TRAINING_CONFIG_PATH))\n",
    "train_config.augmentation_flags.crop =True\n",
    "train_config.augmentation_flags.resize =True\n",
    "train_config.augmentation_flags.rotate=False\n",
    "train_config.augmentation_flags.cut_out=False\n",
    "train_config.augmentation_flags.color_jitter=False\n",
    "train_config.augmentation_flags.gaussian_blur=False\n",
    "train_config.augmentation_flags.color_drop=False\n",
    "print(model_config)\n",
    "train_config.num_workers=8\n",
    "train_config.epochs = 150\n",
    "model_config.warmup_epochs = 10\n",
    "train_config, model_config"
   ]
  },
  {
   "cell_type": "markdown",
   "metadata": {},
   "source": [
    "# Load data"
   ]
  },
  {
   "cell_type": "code",
   "execution_count": 3,
   "metadata": {
    "ExecuteTime": {
     "end_time": "2020-11-27T21:47:24.174443Z",
     "start_time": "2020-11-27T21:47:23.171339Z"
    }
   },
   "outputs": [],
   "source": [
    "train_data = Data_Set(\n",
    "    config=train_config,\n",
    "    transform=transforms.Compose(\n",
    "        [transforms.ToTensor()]\n",
    "    ),\n",
    "    train_set=True,\n",
    ")\n",
    "val_data = copy.copy(train_data)\n",
    "val_data.is_training(False)"
   ]
  },
  {
   "cell_type": "markdown",
   "metadata": {
    "heading_collapsed": true
   },
   "source": [
    "##  Sanity check against all zero predictions \n",
    "only 3d"
   ]
  },
  {
   "cell_type": "code",
   "execution_count": null,
   "metadata": {
    "ExecuteTime": {
     "end_time": "2020-11-27T14:31:46.211372Z",
     "start_time": "2020-11-27T14:31:44.194087Z"
    },
    "hidden": true
   },
   "outputs": [],
   "source": [
    "joints3d = []\n",
    "print(\"Reading the data\")\n",
    "for i in tqdm(range(len(val_data))):\n",
    "    joints3d.append(val_data[i][\"joints3D\"])\n",
    "Joints3d = torch.stack(joints3d)\n",
    "Joints3d_zero = torch.zeros_like(Joints3d)\n",
    "stats = calculate_epe_statistics(Joints3d_zero, Joints3d, 3)\n",
    "print(stats)"
   ]
  },
  {
   "cell_type": "markdown",
   "metadata": {
    "ExecuteTime": {
     "end_time": "2020-10-07T15:31:35.244190Z",
     "start_time": "2020-10-07T15:31:35.242786Z"
    }
   },
   "source": [
    "# Load model"
   ]
  },
  {
   "cell_type": "code",
   "execution_count": 6,
   "metadata": {
    "ExecuteTime": {
     "end_time": "2020-11-27T22:11:10.526154Z",
     "start_time": "2020-11-27T22:11:10.401800Z"
    },
    "cell_style": "split"
   },
   "outputs": [
    {
     "ename": "FileNotFoundError",
     "evalue": "[Errno 2] No such file or directory: '/local/home/adahiya/Documents/master_thesis/data/models/master-thesis/e8c477580d114db89a6e45c0884e9bba/checkpoints/epoch=84.ckpt'",
     "output_type": "error",
     "traceback": [
      "\u001b[0;31m---------------------------------------------------------------------------\u001b[0m",
      "\u001b[0;31mFileNotFoundError\u001b[0m                         Traceback (most recent call last)",
      "\u001b[0;32m<ipython-input-6-f8ecd16a405b>\u001b[0m in \u001b[0;36m<module>\u001b[0;34m\u001b[0m\n\u001b[1;32m      1\u001b[0m \u001b[0;31m# supervised model\u001b[0m\u001b[0;34m\u001b[0m\u001b[0;34m\u001b[0m\u001b[0;34m\u001b[0m\u001b[0m\n\u001b[1;32m      2\u001b[0m \u001b[0mmodel\u001b[0m \u001b[0;34m=\u001b[0m \u001b[0mBaselineModel\u001b[0m\u001b[0;34m(\u001b[0m\u001b[0mconfig\u001b[0m\u001b[0;34m=\u001b[0m\u001b[0mmodel_config\u001b[0m\u001b[0;34m)\u001b[0m\u001b[0;34m\u001b[0m\u001b[0;34m\u001b[0m\u001b[0m\n\u001b[0;32m----> 3\u001b[0;31m checkpoint = torch.load(\"/local/home/adahiya/Documents/master_thesis/data/models/master-thesis/e8c477580d114db89a6e45c0884e9bba/checkpoints/epoch=84.ckpt\"\n\u001b[0m\u001b[1;32m      4\u001b[0m )\n\u001b[1;32m      5\u001b[0m \u001b[0mmodel\u001b[0m\u001b[0;34m.\u001b[0m\u001b[0mload_state_dict\u001b[0m\u001b[0;34m(\u001b[0m\u001b[0mcheckpoint\u001b[0m\u001b[0;34m[\u001b[0m\u001b[0;34m\"state_dict\"\u001b[0m\u001b[0;34m]\u001b[0m\u001b[0;34m)\u001b[0m\u001b[0;34m\u001b[0m\u001b[0;34m\u001b[0m\u001b[0m\n",
      "\u001b[0;32m~/Documents/master_thesis/master_thesis_env/lib/python3.6/site-packages/torch/serialization.py\u001b[0m in \u001b[0;36mload\u001b[0;34m(f, map_location, pickle_module, **pickle_load_args)\u001b[0m\n\u001b[1;32m    569\u001b[0m         \u001b[0mpickle_load_args\u001b[0m\u001b[0;34m[\u001b[0m\u001b[0;34m'encoding'\u001b[0m\u001b[0;34m]\u001b[0m \u001b[0;34m=\u001b[0m \u001b[0;34m'utf-8'\u001b[0m\u001b[0;34m\u001b[0m\u001b[0;34m\u001b[0m\u001b[0m\n\u001b[1;32m    570\u001b[0m \u001b[0;34m\u001b[0m\u001b[0m\n\u001b[0;32m--> 571\u001b[0;31m     \u001b[0;32mwith\u001b[0m \u001b[0m_open_file_like\u001b[0m\u001b[0;34m(\u001b[0m\u001b[0mf\u001b[0m\u001b[0;34m,\u001b[0m \u001b[0;34m'rb'\u001b[0m\u001b[0;34m)\u001b[0m \u001b[0;32mas\u001b[0m \u001b[0mopened_file\u001b[0m\u001b[0;34m:\u001b[0m\u001b[0;34m\u001b[0m\u001b[0;34m\u001b[0m\u001b[0m\n\u001b[0m\u001b[1;32m    572\u001b[0m         \u001b[0;32mif\u001b[0m \u001b[0m_is_zipfile\u001b[0m\u001b[0;34m(\u001b[0m\u001b[0mopened_file\u001b[0m\u001b[0;34m)\u001b[0m\u001b[0;34m:\u001b[0m\u001b[0;34m\u001b[0m\u001b[0;34m\u001b[0m\u001b[0m\n\u001b[1;32m    573\u001b[0m             \u001b[0;31m# The zipfile reader is going to advance the current file position.\u001b[0m\u001b[0;34m\u001b[0m\u001b[0;34m\u001b[0m\u001b[0;34m\u001b[0m\u001b[0m\n",
      "\u001b[0;32m~/Documents/master_thesis/master_thesis_env/lib/python3.6/site-packages/torch/serialization.py\u001b[0m in \u001b[0;36m_open_file_like\u001b[0;34m(name_or_buffer, mode)\u001b[0m\n\u001b[1;32m    227\u001b[0m \u001b[0;32mdef\u001b[0m \u001b[0m_open_file_like\u001b[0m\u001b[0;34m(\u001b[0m\u001b[0mname_or_buffer\u001b[0m\u001b[0;34m,\u001b[0m \u001b[0mmode\u001b[0m\u001b[0;34m)\u001b[0m\u001b[0;34m:\u001b[0m\u001b[0;34m\u001b[0m\u001b[0;34m\u001b[0m\u001b[0m\n\u001b[1;32m    228\u001b[0m     \u001b[0;32mif\u001b[0m \u001b[0m_is_path\u001b[0m\u001b[0;34m(\u001b[0m\u001b[0mname_or_buffer\u001b[0m\u001b[0;34m)\u001b[0m\u001b[0;34m:\u001b[0m\u001b[0;34m\u001b[0m\u001b[0;34m\u001b[0m\u001b[0m\n\u001b[0;32m--> 229\u001b[0;31m         \u001b[0;32mreturn\u001b[0m \u001b[0m_open_file\u001b[0m\u001b[0;34m(\u001b[0m\u001b[0mname_or_buffer\u001b[0m\u001b[0;34m,\u001b[0m \u001b[0mmode\u001b[0m\u001b[0;34m)\u001b[0m\u001b[0;34m\u001b[0m\u001b[0;34m\u001b[0m\u001b[0m\n\u001b[0m\u001b[1;32m    230\u001b[0m     \u001b[0;32melse\u001b[0m\u001b[0;34m:\u001b[0m\u001b[0;34m\u001b[0m\u001b[0;34m\u001b[0m\u001b[0m\n\u001b[1;32m    231\u001b[0m         \u001b[0;32mif\u001b[0m \u001b[0;34m'w'\u001b[0m \u001b[0;32min\u001b[0m \u001b[0mmode\u001b[0m\u001b[0;34m:\u001b[0m\u001b[0;34m\u001b[0m\u001b[0;34m\u001b[0m\u001b[0m\n",
      "\u001b[0;32m~/Documents/master_thesis/master_thesis_env/lib/python3.6/site-packages/torch/serialization.py\u001b[0m in \u001b[0;36m__init__\u001b[0;34m(self, name, mode)\u001b[0m\n\u001b[1;32m    208\u001b[0m \u001b[0;32mclass\u001b[0m \u001b[0m_open_file\u001b[0m\u001b[0;34m(\u001b[0m\u001b[0m_opener\u001b[0m\u001b[0;34m)\u001b[0m\u001b[0;34m:\u001b[0m\u001b[0;34m\u001b[0m\u001b[0;34m\u001b[0m\u001b[0m\n\u001b[1;32m    209\u001b[0m     \u001b[0;32mdef\u001b[0m \u001b[0m__init__\u001b[0m\u001b[0;34m(\u001b[0m\u001b[0mself\u001b[0m\u001b[0;34m,\u001b[0m \u001b[0mname\u001b[0m\u001b[0;34m,\u001b[0m \u001b[0mmode\u001b[0m\u001b[0;34m)\u001b[0m\u001b[0;34m:\u001b[0m\u001b[0;34m\u001b[0m\u001b[0;34m\u001b[0m\u001b[0m\n\u001b[0;32m--> 210\u001b[0;31m         \u001b[0msuper\u001b[0m\u001b[0;34m(\u001b[0m\u001b[0m_open_file\u001b[0m\u001b[0;34m,\u001b[0m \u001b[0mself\u001b[0m\u001b[0;34m)\u001b[0m\u001b[0;34m.\u001b[0m\u001b[0m__init__\u001b[0m\u001b[0;34m(\u001b[0m\u001b[0mopen\u001b[0m\u001b[0;34m(\u001b[0m\u001b[0mname\u001b[0m\u001b[0;34m,\u001b[0m \u001b[0mmode\u001b[0m\u001b[0;34m)\u001b[0m\u001b[0;34m)\u001b[0m\u001b[0;34m\u001b[0m\u001b[0;34m\u001b[0m\u001b[0m\n\u001b[0m\u001b[1;32m    211\u001b[0m \u001b[0;34m\u001b[0m\u001b[0m\n\u001b[1;32m    212\u001b[0m     \u001b[0;32mdef\u001b[0m \u001b[0m__exit__\u001b[0m\u001b[0;34m(\u001b[0m\u001b[0mself\u001b[0m\u001b[0;34m,\u001b[0m \u001b[0;34m*\u001b[0m\u001b[0margs\u001b[0m\u001b[0;34m)\u001b[0m\u001b[0;34m:\u001b[0m\u001b[0;34m\u001b[0m\u001b[0;34m\u001b[0m\u001b[0m\n",
      "\u001b[0;31mFileNotFoundError\u001b[0m: [Errno 2] No such file or directory: '/local/home/adahiya/Documents/master_thesis/data/models/master-thesis/e8c477580d114db89a6e45c0884e9bba/checkpoints/epoch=84.ckpt'"
     ]
    }
   ],
   "source": [
    "# supervised model\n",
    "model = BaselineModel(config=model_config)\n",
    "checkpoint = torch.load(\"/local/home/adahiya/Documents/master_thesis/data/models/master-thesis/e8c477580d114db89a6e45c0884e9bba/checkpoints/epoch=84.ckpt\"\n",
    ")\n",
    "model.load_state_dict(checkpoint[\"state_dict\"])\n",
    "model.eval()\n",
    "device = torch.device(\"cuda:1\")\n",
    "model.to(device)\n",
    "print()"
   ]
  },
  {
   "cell_type": "code",
   "execution_count": 5,
   "metadata": {
    "ExecuteTime": {
     "end_time": "2020-11-27T16:00:22.242706Z",
     "start_time": "2020-11-27T16:00:22.153511Z"
    },
    "cell_style": "split"
   },
   "outputs": [
    {
     "ename": "TypeError",
     "evalue": "__init__() takes 2 positional arguments but 4 were given",
     "output_type": "error",
     "traceback": [
      "\u001b[0;31m---------------------------------------------------------------------------\u001b[0m",
      "\u001b[0;31mTypeError\u001b[0m                                 Traceback (most recent call last)",
      "\u001b[0;32m<ipython-input-5-261d2af744bd>\u001b[0m in \u001b[0;36m<module>\u001b[0;34m\u001b[0m\n\u001b[1;32m      3\u001b[0m     \u001b[0mmodel_config\u001b[0m\u001b[0;34m,\u001b[0m\u001b[0;34m\u001b[0m\u001b[0;34m\u001b[0m\u001b[0m\n\u001b[1;32m      4\u001b[0m     \u001b[0;34m\"/local/home/adahiya/Documents/master_thesis/data/models/master-thesis/14910753afb9499ab9229174d6377efb/checkpoints/epoch=999.ckpt\"\u001b[0m\u001b[0;34m,\u001b[0m\u001b[0;34m\u001b[0m\u001b[0;34m\u001b[0m\u001b[0m\n\u001b[0;32m----> 5\u001b[0;31m     \u001b[0mmodel_config\u001b[0m\u001b[0;34m,\u001b[0m\u001b[0;34m\u001b[0m\u001b[0;34m\u001b[0m\u001b[0m\n\u001b[0m\u001b[1;32m      6\u001b[0m )\n\u001b[1;32m      7\u001b[0m checkpoint = torch.load(\n",
      "\u001b[0;31mTypeError\u001b[0m: __init__() takes 2 positional arguments but 4 were given"
     ]
    }
   ],
   "source": [
    "# semi supervised model\n",
    "model = SupervisedHead(\n",
    "    model_config,\n",
    "    \"/local/home/adahiya/Documents/master_thesis/data/models/master-thesis/14910753afb9499ab9229174d6377efb/checkpoints/epoch=999.ckpt\",\n",
    "    model_config,\n",
    ")\n",
    "checkpoint = torch.load(\n",
    "    \"/local/home/adahiya/Documents/master_thesis/data/models/master-thesis/abf5b702ea4c4ad78703b6f81221acd4/checkpoints/epoch=149.ckpt\"\n",
    ")[\"state_dict\"]\n",
    "model.load_state_dict(checkpoint)\n",
    "model.eval()"
   ]
  },
  {
   "cell_type": "markdown",
   "metadata": {},
   "source": [
    "# calculate Results"
   ]
  },
  {
   "cell_type": "code",
   "execution_count": 9,
   "metadata": {
    "ExecuteTime": {
     "end_time": "2020-11-27T16:01:47.177399Z",
     "start_time": "2020-11-27T16:01:33.173518Z"
    },
    "cell_style": "split"
   },
   "outputs": [
    {
     "name": "stderr",
     "output_type": "stream",
     "text": [
      "407it [00:03, 119.72it/s]\n",
      "100%|██████████| 13024/13024 [00:03<00:00, 3825.98it/s]\n"
     ]
    },
    {
     "name": "stdout",
     "output_type": "stream",
     "text": [
      "{'AUC': 0.7696260155126305,\n",
      " 'Mean_EPE_2D': tensor(9.3258),\n",
      " 'Mean_EPE_3D': tensor(0.1563),\n",
      " 'Mean_EPE_3D_R': tensor(0.1737),\n",
      " 'Mean_EPE_3D_R_v_3D': tensor(0.0227),\n",
      " 'Median_EPE_2D': tensor(7.3287),\n",
      " 'Median_EPE_3D': tensor(0.0660),\n",
      " 'Median_EPE_3D_R': tensor(0.0660),\n",
      " 'Median_EPE_3D_R_V_3D': tensor(1.1927e-07)}\n"
     ]
    },
    {
     "name": "stderr",
     "output_type": "stream",
     "text": [
      "407it [00:03, 119.12it/s]\n",
      "100%|██████████| 13024/13024 [00:03<00:00, 3953.84it/s]\n"
     ]
    },
    {
     "name": "stdout",
     "output_type": "stream",
     "text": [
      "AUC : 0.7675767967654051\n"
     ]
    }
   ],
   "source": [
    "# strong augmentations\n",
    "results = evaluate(model, val_data, num_workers=8,batch_size=32)\n",
    "pprint.pprint(results)\n",
    "pred_dict = get_predictions_and_ground_truth(model, val_data,num_workers=8,batch_size=32)\n",
    "pred = pred_dict[\"predictions_3d\"]\n",
    "gt = pred_dict[\"ground_truth_3d\"]\n",
    "sts =calculate_epe_statistics(pred, gt, dim=3)\n",
    "eucledian_dist = sts['eucledian_dist']\n",
    "y,x = get_pck_curves(eucledian_dist, per_joint=True)\n",
    "auc = cal_auc_joints(eucledian_dist, per_joint=True)\n",
    "print(f\"AUC : {np.mean(auc)}\")"
   ]
  },
  {
   "cell_type": "code",
   "execution_count": null,
   "metadata": {
    "ExecuteTime": {
     "end_time": "2020-10-21T15:39:52.691943Z",
     "start_time": "2020-10-21T15:39:38.868961Z"
    },
    "cell_style": "split"
   },
   "outputs": [],
   "source": [
    "# weak augmentations\n",
    "results = evaluate(model, val_data, num_workers=8,batch_size=32)\n",
    "pprint.pprint(results)\n",
    "pred_dict = get_predictions_and_ground_truth(model, val_data,num_workers=8,batch_size=32)\n",
    "pred = pred_dict[\"predictions_3d\"]\n",
    "gt = pred_dict[\"ground_truth_3d\"]\n",
    "sts =calculate_epe_statistics(pred, gt, dim=3)\n",
    "eucledian_dist = sts['eucledian_dist']\n",
    "y,x = get_pck_curves(eucledian_dist, per_joint=True)\n",
    "auc = cal_auc_joints(eucledian_dist, per_joint=True)\n",
    "print(f\"AUC : {np.mean(auc)}\")"
   ]
  },
  {
   "cell_type": "markdown",
   "metadata": {
    "heading_collapsed": true
   },
   "source": [
    "#  Visualize sample predictions"
   ]
  },
  {
   "cell_type": "code",
   "execution_count": null,
   "metadata": {
    "ExecuteTime": {
     "end_time": "2020-11-27T15:37:44.085939Z",
     "start_time": "2020-11-27T15:37:44.069204Z"
    },
    "hidden": true
   },
   "outputs": [],
   "source": [
    "model.to(torch.device('cpu'))\n",
    "print()"
   ]
  },
  {
   "cell_type": "code",
   "execution_count": null,
   "metadata": {
    "ExecuteTime": {
     "end_time": "2020-11-27T15:37:51.388785Z",
     "start_time": "2020-11-27T15:37:51.147580Z"
    },
    "cell_style": "split",
    "code_folding": [
     0
    ],
    "hidden": true
   },
   "outputs": [],
   "source": [
    "@interact(idx=widgets.IntSlider(min=1, max=100, step=5, value=3),plot_gt= widgets.Checkbox(value=True, description='Ground truth'),\n",
    "         plot_pred= widgets.Checkbox(value=True, description='Predicted_labels'))\n",
    "def visualize1(idx, plot_gt, plot_pred):\n",
    "    sample = val_data[idx]\n",
    "    joints = sample[\"joints\"]\n",
    "    img = sample[\"image\"]\n",
    "    img_input = img.view(([1]+list(img.shape)))\n",
    "    prediction = model(img_input).view(21,3).detach().numpy()\n",
    "    fig = plt.figure(figsize=(8, 8))\n",
    "    ax = fig.add_subplot(111)\n",
    "    plt.imshow(transforms.ToPILImage()(img))\n",
    "    if plot_gt:\n",
    "       plot_hand(ax, joints)\n",
    "    if plot_pred:\n",
    "        plot_hand(ax, prediction,linestyle=':' )\n",
    "    plt.show()"
   ]
  },
  {
   "cell_type": "code",
   "execution_count": null,
   "metadata": {
    "ExecuteTime": {
     "end_time": "2020-10-21T15:34:36.937697Z",
     "start_time": "2020-10-21T15:34:36.792079Z"
    },
    "cell_style": "split",
    "code_folding": [],
    "hidden": true
   },
   "outputs": [],
   "source": [
    "@interact(joint_id=widgets.IntSlider(min=0, max=20, step=1, value=3))\n",
    "\n",
    "def visualize2(joint_id):\n",
    "    fig = plt.figure(figsize=(8, 8))\n",
    "    ax = fig.add_subplot(111)\n",
    "    plt.plot(x,y[joint_id])\n",
    "    plt.title(f\"PCK curve, AUC: {auc[joint_id]}\")\n",
    "    plt.plot(x,np.mean(y,axis=0), color='black',linestyle=\":\" ,alpha=0.5)\n",
    "    plt.xlabel(\"error in mm\")\n",
    "    plt.ylabel(\"Ratio of points below the error\")\n",
    "    plt.legend([f\"PCK curve for {joints_mapping[joint_id]}\", \"Average PCK curve\"])\n",
    "    plt.show()"
   ]
  },
  {
   "cell_type": "code",
   "execution_count": null,
   "metadata": {
    "hidden": true
   },
   "outputs": [],
   "source": []
  }
 ],
 "metadata": {
  "kernelspec": {
   "display_name": "Python 3",
   "language": "python",
   "name": "python3"
  },
  "language_info": {
   "codemirror_mode": {
    "name": "ipython",
    "version": 3
   },
   "file_extension": ".py",
   "mimetype": "text/x-python",
   "name": "python",
   "nbconvert_exporter": "python",
   "pygments_lexer": "ipython3",
   "version": "3.6.9"
  },
  "toc": {
   "base_numbering": 1,
   "nav_menu": {},
   "number_sections": true,
   "sideBar": true,
   "skip_h1_title": false,
   "title_cell": "Table of Contents",
   "title_sidebar": "Contents",
   "toc_cell": false,
   "toc_position": {},
   "toc_section_display": true,
   "toc_window_display": false
  },
  "varInspector": {
   "cols": {
    "lenName": 16,
    "lenType": 16,
    "lenVar": 40
   },
   "kernels_config": {
    "python": {
     "delete_cmd_postfix": "",
     "delete_cmd_prefix": "del ",
     "library": "var_list.py",
     "varRefreshCmd": "print(var_dic_list())"
    },
    "r": {
     "delete_cmd_postfix": ") ",
     "delete_cmd_prefix": "rm(",
     "library": "var_list.r",
     "varRefreshCmd": "cat(var_dic_list()) "
    }
   },
   "types_to_exclude": [
    "module",
    "function",
    "builtin_function_or_method",
    "instance",
    "_Feature"
   ],
   "window_display": false
  }
 },
 "nbformat": 4,
 "nbformat_minor": 4
}
