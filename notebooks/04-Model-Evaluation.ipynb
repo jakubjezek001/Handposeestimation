{
 "cells": [
  {
   "cell_type": "markdown",
   "metadata": {
    "ExecuteTime": {
     "end_time": "2020-10-07T15:30:06.981311Z",
     "start_time": "2020-10-07T15:30:06.979814Z"
    }
   },
   "source": [
    "# Import libraries"
   ]
  },
  {
   "cell_type": "code",
   "execution_count": 1,
   "metadata": {
    "ExecuteTime": {
     "end_time": "2020-11-26T18:50:47.212646Z",
     "start_time": "2020-11-26T18:50:46.452445Z"
    }
   },
   "outputs": [],
   "source": [
    "import os\n",
    "import copy\n",
    "from tqdm.notebook import tqdm\n",
    "import pprint\n",
    "from ipywidgets import interact\n",
    "import ipywidgets as widgets\n",
    "from IPython.display import display\n",
    "import torch\n",
    "from src.constants import DATA_PATH, MASTER_THESIS_DIR, TRAINING_CONFIG_PATH, MODEL_CONFIG_PATH\n",
    "from src.data_loader.data_set import Data_Set\n",
    "from src.experiments.utils import get_experiement_args, process_experiment_args\n",
    "from src.models.baseline_model import BaselineModel\n",
    "from src.utils import get_console_logger, read_json\n",
    "from src.visualization.visualize import plot_hand\n",
    "from torch.utils.data import DataLoader\n",
    "from torchvision import transforms\n",
    "from easydict import EasyDict as edict\n",
    "import matplotlib.pyplot as plt\n",
    "from src.data_loader.utils import convert_2_5D_to_3D, convert_to_2_5D\n",
    "from src.experiments.evaluation_utils import calculate_epe_statistics, evaluate,get_predictions_and_ground_truth, cal_auc_joints, get_pck_curves\n",
    "from src.data_loader.utils import get_train_val_split\n",
    "from src.models.supervised_head_model import SupervisedHead"
   ]
  },
  {
   "cell_type": "markdown",
   "metadata": {},
   "source": [
    "# Load configuration"
   ]
  },
  {
   "cell_type": "code",
   "execution_count": 2,
   "metadata": {
    "ExecuteTime": {
     "end_time": "2020-11-26T18:50:47.556966Z",
     "start_time": "2020-11-26T18:50:47.530021Z"
    }
   },
   "outputs": [
    {
     "name": "stdout",
     "output_type": "stream",
     "text": [
      "{'alpha': 5, 'batch_size': 32, 'gpu': True, 'lr': 1e-05, 'opt_weight_decay': 1e-05, 'resnet_trainable': True, 'warmup_epochs': 10}\n"
     ]
    },
    {
     "data": {
      "text/plain": [
       "({'batch_size': 128,\n",
       "  'epochs': 150,\n",
       "  'train_ratio': 0.9,\n",
       "  'gpu': True,\n",
       "  'num_workers': 8,\n",
       "  'seed': 5,\n",
       "  'augmentation_flags': {'color_drop': False,\n",
       "   'color_jitter': False,\n",
       "   'crop': False,\n",
       "   'cut_out': False,\n",
       "   'flip': False,\n",
       "   'gaussian_blur': False,\n",
       "   'random_crop': False,\n",
       "   'resize': False,\n",
       "   'rotate': False},\n",
       "  'augmentation_order': [],\n",
       "  'augmentation_flags0': {'color_drop': True,\n",
       "   'color_jitter': True,\n",
       "   'crop': True,\n",
       "   'cut_out': True,\n",
       "   'flip': False,\n",
       "   'gaussian_blur': True,\n",
       "   'random_crop': False,\n",
       "   'resize': True,\n",
       "   'rotate': True},\n",
       "  'augmentation_params': {'crop_margin': 1.25,\n",
       "   'crop_margin_range': [0.6, 2.0],\n",
       "   'cut_out_fraction': [0.0, 0.16],\n",
       "   'hue_factor_range': [0.01, 1.0],\n",
       "   'max_angle': 359,\n",
       "   'min_angle': 0,\n",
       "   'resize_shape': [128, 128],\n",
       "   'sat_factor_range': [0.01, 1.0],\n",
       "   'value_factor_alpha_range': [0.5, 1],\n",
       "   'value_factor_beta_range': [5, 20],\n",
       "   'crop_box_jitter': [0.0, 1.0]}},\n",
       " {'alpha': 5,\n",
       "  'batch_size': 32,\n",
       "  'gpu': True,\n",
       "  'lr': 1e-05,\n",
       "  'opt_weight_decay': 1e-05,\n",
       "  'resnet_trainable': True,\n",
       "  'warmup_epochs': 10})"
      ]
     },
     "execution_count": 2,
     "metadata": {},
     "output_type": "execute_result"
    }
   ],
   "source": [
    "model_config = edict(read_json(os.path.join(MASTER_THESIS_DIR, \"src\", \"experiments\",\"config\", \"model_config.json\")))\n",
    "joints_mapping = {v: k for k, v in read_json(\"/local/home/adahiya/Documents/master_thesis/src/data_loader/joint_mapping.json\")[\"ait\"].items()}\n",
    "model_config.gpu =True\n",
    "train_config =  edict(read_json(TRAINING_CONFIG_PATH))\n",
    "train_config.augmentation_flags.crop =False\n",
    "train_config.augmentation_flags.resize =False\n",
    "train_config.augmentation_flags.rotate=False\n",
    "train_config.augmentation_flags.cut_out=False\n",
    "train_config.augmentation_flags.color_jitter=False\n",
    "train_config.augmentation_flags.gaussian_blur=False\n",
    "train_config.augmentation_flags.color_drop=False\n",
    "print(model_config)\n",
    "train_config.num_workers=8\n",
    "train_config.epochs = 150\n",
    "model_config.warmup_epochs = 10\n",
    "train_config, model_config"
   ]
  },
  {
   "cell_type": "markdown",
   "metadata": {},
   "source": [
    "# Load data"
   ]
  },
  {
   "cell_type": "code",
   "execution_count": 3,
   "metadata": {
    "ExecuteTime": {
     "end_time": "2020-11-26T18:50:51.402368Z",
     "start_time": "2020-11-26T18:50:50.439066Z"
    }
   },
   "outputs": [],
   "source": [
    "train_data = Data_Set(\n",
    "    config=train_config,\n",
    "    transform=transforms.Compose(\n",
    "        [transforms.ToTensor()]\n",
    "    ),\n",
    "    train_set=True,\n",
    ")\n",
    "val_data = copy.copy(train_data)\n",
    "val_data.is_training(False)"
   ]
  },
  {
   "cell_type": "markdown",
   "metadata": {},
   "source": [
    "##  Sanity check against all zero predictions \n",
    "only 3d"
   ]
  },
  {
   "cell_type": "code",
   "execution_count": 4,
   "metadata": {
    "ExecuteTime": {
     "end_time": "2020-11-26T18:13:14.501043Z",
     "start_time": "2020-11-26T18:13:09.194902Z"
    },
    "collapsed": true
   },
   "outputs": [
    {
     "name": "stdout",
     "output_type": "stream",
     "text": [
      "Reading the data\n"
     ]
    },
    {
     "data": {
      "application/vnd.jupyter.widget-view+json": {
       "model_id": "24e049cd5903485f84e7fe78e52c5ec1",
       "version_major": 2,
       "version_minor": 0
      },
      "text/plain": [
       "HBox(children=(HTML(value=''), FloatProgress(value=0.0, max=13024.0), HTML(value='')))"
      ]
     },
     "metadata": {},
     "output_type": "display_data"
    },
    {
     "name": "stdout",
     "output_type": "stream",
     "text": [
      "\n"
     ]
    },
    {
     "ename": "KeyboardInterrupt",
     "evalue": "",
     "output_type": "error",
     "traceback": [
      "\u001b[0;31m---------------------------------------------------------------------------\u001b[0m",
      "\u001b[0;31mKeyboardInterrupt\u001b[0m                         Traceback (most recent call last)",
      "\u001b[0;32m<ipython-input-4-9645e8aaa618>\u001b[0m in \u001b[0;36m<module>\u001b[0;34m\u001b[0m\n\u001b[1;32m      2\u001b[0m \u001b[0mprint\u001b[0m\u001b[0;34m(\u001b[0m\u001b[0;34m\"Reading the data\"\u001b[0m\u001b[0;34m)\u001b[0m\u001b[0;34m\u001b[0m\u001b[0;34m\u001b[0m\u001b[0m\n\u001b[1;32m      3\u001b[0m \u001b[0;32mfor\u001b[0m \u001b[0mi\u001b[0m \u001b[0;32min\u001b[0m \u001b[0mtqdm\u001b[0m\u001b[0;34m(\u001b[0m\u001b[0mrange\u001b[0m\u001b[0;34m(\u001b[0m\u001b[0mlen\u001b[0m\u001b[0;34m(\u001b[0m\u001b[0mval_data\u001b[0m\u001b[0;34m)\u001b[0m\u001b[0;34m)\u001b[0m\u001b[0;34m)\u001b[0m\u001b[0;34m:\u001b[0m\u001b[0;34m\u001b[0m\u001b[0;34m\u001b[0m\u001b[0m\n\u001b[0;32m----> 4\u001b[0;31m     \u001b[0mjoints3d\u001b[0m\u001b[0;34m.\u001b[0m\u001b[0mappend\u001b[0m\u001b[0;34m(\u001b[0m\u001b[0mval_data\u001b[0m\u001b[0;34m[\u001b[0m\u001b[0mi\u001b[0m\u001b[0;34m]\u001b[0m\u001b[0;34m[\u001b[0m\u001b[0;34m\"joints3D\"\u001b[0m\u001b[0;34m]\u001b[0m\u001b[0;34m)\u001b[0m\u001b[0;34m\u001b[0m\u001b[0;34m\u001b[0m\u001b[0m\n\u001b[0m\u001b[1;32m      5\u001b[0m \u001b[0mJoints3d\u001b[0m \u001b[0;34m=\u001b[0m \u001b[0mtorch\u001b[0m\u001b[0;34m.\u001b[0m\u001b[0mstack\u001b[0m\u001b[0;34m(\u001b[0m\u001b[0mjoints3d\u001b[0m\u001b[0;34m)\u001b[0m\u001b[0;34m\u001b[0m\u001b[0;34m\u001b[0m\u001b[0m\n\u001b[1;32m      6\u001b[0m \u001b[0mJoints3d_zero\u001b[0m \u001b[0;34m=\u001b[0m \u001b[0mtorch\u001b[0m\u001b[0;34m.\u001b[0m\u001b[0mzeros_like\u001b[0m\u001b[0;34m(\u001b[0m\u001b[0mJoints3d\u001b[0m\u001b[0;34m)\u001b[0m\u001b[0;34m\u001b[0m\u001b[0;34m\u001b[0m\u001b[0m\n",
      "\u001b[0;32m~/Documents/master_thesis/src/data_loader/data_set.py\u001b[0m in \u001b[0;36m__getitem__\u001b[0;34m(self, idx)\u001b[0m\n\u001b[1;32m     80\u001b[0m             \u001b[0msample\u001b[0m \u001b[0;34m=\u001b[0m \u001b[0mself\u001b[0m\u001b[0;34m.\u001b[0m\u001b[0mprepare_experiment4_pretraining\u001b[0m\u001b[0;34m(\u001b[0m\u001b[0msample\u001b[0m\u001b[0;34m)\u001b[0m\u001b[0;34m\u001b[0m\u001b[0;34m\u001b[0m\u001b[0m\n\u001b[1;32m     81\u001b[0m         \u001b[0;32melse\u001b[0m\u001b[0;34m:\u001b[0m\u001b[0;34m\u001b[0m\u001b[0;34m\u001b[0m\u001b[0m\n\u001b[0;32m---> 82\u001b[0;31m             \u001b[0msample\u001b[0m \u001b[0;34m=\u001b[0m \u001b[0mself\u001b[0m\u001b[0;34m.\u001b[0m\u001b[0mprepare_supervised_sample\u001b[0m\u001b[0;34m(\u001b[0m\u001b[0msample\u001b[0m\u001b[0;34m)\u001b[0m\u001b[0;34m\u001b[0m\u001b[0;34m\u001b[0m\u001b[0m\n\u001b[0m\u001b[1;32m     83\u001b[0m         \u001b[0;32mreturn\u001b[0m \u001b[0msample\u001b[0m\u001b[0;34m\u001b[0m\u001b[0;34m\u001b[0m\u001b[0m\n\u001b[1;32m     84\u001b[0m \u001b[0;34m\u001b[0m\u001b[0m\n",
      "\u001b[0;32m~/Documents/master_thesis/src/data_loader/data_set.py\u001b[0m in \u001b[0;36mprepare_supervised_sample\u001b[0;34m(self, sample)\u001b[0m\n\u001b[1;32m    238\u001b[0m         \u001b[0mjoints3D_recreated\u001b[0m \u001b[0;34m=\u001b[0m \u001b[0mconvert_2_5D_to_3D\u001b[0m\u001b[0;34m(\u001b[0m\u001b[0mjoints25D\u001b[0m\u001b[0;34m,\u001b[0m \u001b[0mscale\u001b[0m\u001b[0;34m,\u001b[0m \u001b[0msample\u001b[0m\u001b[0;34m[\u001b[0m\u001b[0;34m\"K\"\u001b[0m\u001b[0;34m]\u001b[0m\u001b[0;34m)\u001b[0m\u001b[0;34m\u001b[0m\u001b[0;34m\u001b[0m\u001b[0m\n\u001b[1;32m    239\u001b[0m         \u001b[0;32mif\u001b[0m \u001b[0mself\u001b[0m\u001b[0;34m.\u001b[0m\u001b[0mtransform\u001b[0m\u001b[0;34m:\u001b[0m\u001b[0;34m\u001b[0m\u001b[0;34m\u001b[0m\u001b[0m\n\u001b[0;32m--> 240\u001b[0;31m             \u001b[0mimage\u001b[0m \u001b[0;34m=\u001b[0m \u001b[0mself\u001b[0m\u001b[0;34m.\u001b[0m\u001b[0mtransform\u001b[0m\u001b[0;34m(\u001b[0m\u001b[0mimage\u001b[0m\u001b[0;34m)\u001b[0m\u001b[0;34m\u001b[0m\u001b[0;34m\u001b[0m\u001b[0m\n\u001b[0m\u001b[1;32m    241\u001b[0m         return {\n\u001b[1;32m    242\u001b[0m             \u001b[0;34m\"image\"\u001b[0m\u001b[0;34m:\u001b[0m \u001b[0mimage\u001b[0m\u001b[0;34m,\u001b[0m\u001b[0;34m\u001b[0m\u001b[0;34m\u001b[0m\u001b[0m\n",
      "\u001b[0;32m~/Documents/master_thesis/master_thesis_env/lib/python3.6/site-packages/torchvision/transforms/transforms.py\u001b[0m in \u001b[0;36m__call__\u001b[0;34m(self, img)\u001b[0m\n\u001b[1;32m     59\u001b[0m     \u001b[0;32mdef\u001b[0m \u001b[0m__call__\u001b[0m\u001b[0;34m(\u001b[0m\u001b[0mself\u001b[0m\u001b[0;34m,\u001b[0m \u001b[0mimg\u001b[0m\u001b[0;34m)\u001b[0m\u001b[0;34m:\u001b[0m\u001b[0;34m\u001b[0m\u001b[0;34m\u001b[0m\u001b[0m\n\u001b[1;32m     60\u001b[0m         \u001b[0;32mfor\u001b[0m \u001b[0mt\u001b[0m \u001b[0;32min\u001b[0m \u001b[0mself\u001b[0m\u001b[0;34m.\u001b[0m\u001b[0mtransforms\u001b[0m\u001b[0;34m:\u001b[0m\u001b[0;34m\u001b[0m\u001b[0;34m\u001b[0m\u001b[0m\n\u001b[0;32m---> 61\u001b[0;31m             \u001b[0mimg\u001b[0m \u001b[0;34m=\u001b[0m \u001b[0mt\u001b[0m\u001b[0;34m(\u001b[0m\u001b[0mimg\u001b[0m\u001b[0;34m)\u001b[0m\u001b[0;34m\u001b[0m\u001b[0;34m\u001b[0m\u001b[0m\n\u001b[0m\u001b[1;32m     62\u001b[0m         \u001b[0;32mreturn\u001b[0m \u001b[0mimg\u001b[0m\u001b[0;34m\u001b[0m\u001b[0;34m\u001b[0m\u001b[0m\n\u001b[1;32m     63\u001b[0m \u001b[0;34m\u001b[0m\u001b[0m\n",
      "\u001b[0;32m~/Documents/master_thesis/master_thesis_env/lib/python3.6/site-packages/torchvision/transforms/transforms.py\u001b[0m in \u001b[0;36m__call__\u001b[0;34m(self, pic)\u001b[0m\n\u001b[1;32m     90\u001b[0m             \u001b[0mTensor\u001b[0m\u001b[0;34m:\u001b[0m \u001b[0mConverted\u001b[0m \u001b[0mimage\u001b[0m\u001b[0;34m.\u001b[0m\u001b[0;34m\u001b[0m\u001b[0;34m\u001b[0m\u001b[0m\n\u001b[1;32m     91\u001b[0m         \"\"\"\n\u001b[0;32m---> 92\u001b[0;31m         \u001b[0;32mreturn\u001b[0m \u001b[0mF\u001b[0m\u001b[0;34m.\u001b[0m\u001b[0mto_tensor\u001b[0m\u001b[0;34m(\u001b[0m\u001b[0mpic\u001b[0m\u001b[0;34m)\u001b[0m\u001b[0;34m\u001b[0m\u001b[0;34m\u001b[0m\u001b[0m\n\u001b[0m\u001b[1;32m     93\u001b[0m \u001b[0;34m\u001b[0m\u001b[0m\n\u001b[1;32m     94\u001b[0m     \u001b[0;32mdef\u001b[0m \u001b[0m__repr__\u001b[0m\u001b[0;34m(\u001b[0m\u001b[0mself\u001b[0m\u001b[0;34m)\u001b[0m\u001b[0;34m:\u001b[0m\u001b[0;34m\u001b[0m\u001b[0;34m\u001b[0m\u001b[0m\n",
      "\u001b[0;32m~/Documents/master_thesis/master_thesis_env/lib/python3.6/site-packages/torchvision/transforms/functional.py\u001b[0m in \u001b[0;36mto_tensor\u001b[0;34m(pic)\u001b[0m\n\u001b[1;32m     57\u001b[0m         \u001b[0;31m# backward compatibility\u001b[0m\u001b[0;34m\u001b[0m\u001b[0;34m\u001b[0m\u001b[0;34m\u001b[0m\u001b[0m\n\u001b[1;32m     58\u001b[0m         \u001b[0;32mif\u001b[0m \u001b[0misinstance\u001b[0m\u001b[0;34m(\u001b[0m\u001b[0mimg\u001b[0m\u001b[0;34m,\u001b[0m \u001b[0mtorch\u001b[0m\u001b[0;34m.\u001b[0m\u001b[0mByteTensor\u001b[0m\u001b[0;34m)\u001b[0m\u001b[0;34m:\u001b[0m\u001b[0;34m\u001b[0m\u001b[0;34m\u001b[0m\u001b[0m\n\u001b[0;32m---> 59\u001b[0;31m             \u001b[0;32mreturn\u001b[0m \u001b[0mimg\u001b[0m\u001b[0;34m.\u001b[0m\u001b[0mfloat\u001b[0m\u001b[0;34m(\u001b[0m\u001b[0;34m)\u001b[0m\u001b[0;34m.\u001b[0m\u001b[0mdiv\u001b[0m\u001b[0;34m(\u001b[0m\u001b[0;36m255\u001b[0m\u001b[0;34m)\u001b[0m\u001b[0;34m\u001b[0m\u001b[0;34m\u001b[0m\u001b[0m\n\u001b[0m\u001b[1;32m     60\u001b[0m         \u001b[0;32melse\u001b[0m\u001b[0;34m:\u001b[0m\u001b[0;34m\u001b[0m\u001b[0;34m\u001b[0m\u001b[0m\n\u001b[1;32m     61\u001b[0m             \u001b[0;32mreturn\u001b[0m \u001b[0mimg\u001b[0m\u001b[0;34m\u001b[0m\u001b[0;34m\u001b[0m\u001b[0m\n",
      "\u001b[0;31mKeyboardInterrupt\u001b[0m: "
     ]
    }
   ],
   "source": [
    "joints3d = []\n",
    "print(\"Reading the data\")\n",
    "for i in tqdm(range(len(val_data))):\n",
    "    joints3d.append(val_data[i][\"joints3D\"])\n",
    "Joints3d = torch.stack(joints3d)\n",
    "Joints3d_zero = torch.zeros_like(Joints3d)\n",
    "stats = calculate_epe_statistics(Joints3d_zero, Joints3d, 3)\n",
    "print(stats)"
   ]
  },
  {
   "cell_type": "markdown",
   "metadata": {
    "ExecuteTime": {
     "end_time": "2020-10-07T15:31:35.244190Z",
     "start_time": "2020-10-07T15:31:35.242786Z"
    }
   },
   "source": [
    "# Load model"
   ]
  },
  {
   "cell_type": "code",
   "execution_count": 4,
   "metadata": {
    "ExecuteTime": {
     "end_time": "2020-11-26T18:50:54.542286Z",
     "start_time": "2020-11-26T18:50:52.747961Z"
    },
    "cell_style": "split"
   },
   "outputs": [
    {
     "name": "stdout",
     "output_type": "stream",
     "text": [
      "\n"
     ]
    }
   ],
   "source": [
    "# supervised model\n",
    "model = BaselineModel(config=model_config)\n",
    "checkpoint = torch.load(\"/local/home/adahiya/Documents/master_thesis/data/models/master-thesis/a33039073f0346cd9a5b0f42068a07de/checkpoints/epoch=49.ckpt\"\n",
    ")\n",
    "model.load_state_dict(checkpoint[\"state_dict\"])\n",
    "model.eval()\n",
    "device = torch.device(\"cuda\")\n",
    "model.to(device)\n",
    "print()"
   ]
  },
  {
   "cell_type": "code",
   "execution_count": 6,
   "metadata": {
    "ExecuteTime": {
     "end_time": "2020-11-26T18:51:34.904887Z",
     "start_time": "2020-11-26T18:51:11.706299Z"
    }
   },
   "outputs": [
    {
     "name": "stderr",
     "output_type": "stream",
     "text": [
      "407it [00:08, 50.53it/s]\n",
      "100%|██████████| 13024/13024 [00:03<00:00, 3964.09it/s]\n"
     ]
    },
    {
     "name": "stdout",
     "output_type": "stream",
     "text": [
      "{'AUC': 0.03732211339774861,\n",
      " 'Mean_EPE_2D': tensor(88.4632),\n",
      " 'Mean_EPE_3D': tensor(2.0805),\n",
      " 'Mean_EPE_3D_R': tensor(2.0928),\n",
      " 'Mean_EPE_3D_R_v_3D': tensor(0.0328),\n",
      " 'Median_EPE_2D': tensor(89.4856),\n",
      " 'Median_EPE_3D': tensor(1.2581),\n",
      " 'Median_EPE_3D_R': tensor(1.2601),\n",
      " 'Median_EPE_3D_R_V_3D': tensor(0.0055)}\n"
     ]
    },
    {
     "name": "stderr",
     "output_type": "stream",
     "text": [
      "407it [00:07, 51.02it/s]\n",
      "100%|██████████| 13024/13024 [00:03<00:00, 3824.87it/s]\n"
     ]
    },
    {
     "name": "stdout",
     "output_type": "stream",
     "text": [
      "AUC : 0.03732211339774861\n"
     ]
    }
   ],
   "source": [
    "results = evaluate(model, val_data, num_workers=8,batch_size=32)\n",
    "pprint.pprint(results)\n",
    "pred_dict = get_predictions_and_ground_truth(model, val_data,num_workers=8,batch_size=32)\n",
    "pred = pred_dict[\"predictions_3d\"]\n",
    "gt = pred_dict[\"ground_truth_3d\"]\n",
    "sts =calculate_epe_statistics(pred, gt, dim=3)\n",
    "eucledian_dist = sts['eucledian_dist']\n",
    "y,x = get_pck_curves(eucledian_dist, per_joint=True)\n",
    "auc = cal_auc_joints(eucledian_dist, per_joint=True)\n",
    "print(f\"AUC : {np.mean(auc)}\")"
   ]
  },
  {
   "cell_type": "code",
   "execution_count": 23,
   "metadata": {
    "ExecuteTime": {
     "end_time": "2020-11-26T18:49:24.767111Z",
     "start_time": "2020-11-26T18:49:01.838361Z"
    }
   },
   "outputs": [
    {
     "name": "stderr",
     "output_type": "stream",
     "text": [
      "407it [00:07, 51.88it/s]\n",
      "100%|██████████| 13024/13024 [00:03<00:00, 3885.01it/s]"
     ]
    },
    {
     "name": "stdout",
     "output_type": "stream",
     "text": [
      "{'AUC': 0.0408362531583015,\n",
      " 'Mean_EPE_2D': tensor(88.4632),\n",
      " 'Mean_EPE_3D': tensor(2.0741),\n",
      " 'Mean_EPE_3D_R': tensor(2.0842),\n",
      " 'Mean_EPE_3D_R_v_3D': tensor(0.0227),\n",
      " 'Median_EPE_2D': tensor(89.4856),\n",
      " 'Median_EPE_3D': tensor(1.2526),\n",
      " 'Median_EPE_3D_R': tensor(1.2525),\n",
      " 'Median_EPE_3D_R_V_3D': tensor(1.1927e-07)}\n"
     ]
    },
    {
     "name": "stderr",
     "output_type": "stream",
     "text": [
      "\n",
      "407it [00:07, 51.71it/s]\n",
      "100%|██████████| 13024/13024 [00:03<00:00, 3895.91it/s]"
     ]
    },
    {
     "name": "stdout",
     "output_type": "stream",
     "text": [
      "AUC : 0.0408362531583015\n"
     ]
    },
    {
     "name": "stderr",
     "output_type": "stream",
     "text": [
      "\n"
     ]
    }
   ],
   "source": [
    "results = evaluate(model, val_data, num_workers=8,batch_size=32)\n",
    "pprint.pprint(results)\n",
    "pred_dict = get_predictions_and_ground_truth(model, val_data,num_workers=8,batch_size=32)\n",
    "pred = pred_dict[\"predictions_3d\"]\n",
    "gt = pred_dict[\"ground_truth_3d\"]\n",
    "sts =calculate_epe_statistics(pred, gt, dim=3)\n",
    "eucledian_dist = sts['eucledian_dist']\n",
    "y,x = get_pck_curves(eucledian_dist, per_joint=True)\n",
    "auc = cal_auc_joints(eucledian_dist, per_joint=True)\n",
    "print(f\"AUC : {np.mean(auc)}\")"
   ]
  },
  {
   "cell_type": "code",
   "execution_count": null,
   "metadata": {
    "ExecuteTime": {
     "end_time": "2020-10-21T15:41:05.922604Z",
     "start_time": "2020-10-21T15:41:05.641436Z"
    },
    "cell_style": "split"
   },
   "outputs": [],
   "source": [
    "# semi supervised model\n",
    "model = SupervisedHead(\n",
    "    model_config,\n",
    "    \"/local/home/adahiya/Documents/master_thesis/data/models/master-thesis/14910753afb9499ab9229174d6377efb/checkpoints/epoch=999.ckpt\",\n",
    "    model_config,\n",
    ")\n",
    "checkpoint = torch.load(\n",
    "    \"/local/home/adahiya/Documents/master_thesis/data/models/master-thesis/abf5b702ea4c4ad78703b6f81221acd4/checkpoints/epoch=149.ckpt\"\n",
    ")[\"state_dict\"]\n",
    "model.load_state_dict(checkpoint)\n",
    "model.eval()"
   ]
  },
  {
   "cell_type": "markdown",
   "metadata": {},
   "source": [
    "# calculate Results"
   ]
  },
  {
   "cell_type": "code",
   "execution_count": 20,
   "metadata": {
    "ExecuteTime": {
     "end_time": "2020-11-26T18:35:55.872422Z",
     "start_time": "2020-11-26T18:35:41.949480Z"
    },
    "cell_style": "split"
   },
   "outputs": [
    {
     "name": "stderr",
     "output_type": "stream",
     "text": [
      "407it [00:03, 119.32it/s]\n",
      "100%|██████████| 13024/13024 [00:03<00:00, 4030.42it/s]"
     ]
    },
    {
     "name": "stdout",
     "output_type": "stream",
     "text": [
      "{'AUC': 0.585265172025574,\n",
      " 'Mean_EPE_2D': tensor(5.9256),\n",
      " 'Mean_EPE_3D': tensor(0.2445),\n",
      " 'Mean_EPE_3D_R': tensor(0.1633),\n",
      " 'Mean_EPE_3D_R_v_3D': tensor(0.2039),\n",
      " 'Median_EPE_2D': tensor(4.2474),\n",
      " 'Median_EPE_3D': tensor(0.1705),\n",
      " 'Median_EPE_3D_R': tensor(0.0591),\n",
      " 'Median_EPE_3D_R_V_3D': tensor(0.1502)}\n"
     ]
    },
    {
     "name": "stderr",
     "output_type": "stream",
     "text": [
      "\n",
      "407it [00:03, 120.02it/s]\n",
      "100%|██████████| 13024/13024 [00:03<00:00, 3886.08it/s]"
     ]
    },
    {
     "name": "stdout",
     "output_type": "stream",
     "text": [
      "AUC : 0.5865171068008422\n"
     ]
    },
    {
     "name": "stderr",
     "output_type": "stream",
     "text": [
      "\n"
     ]
    }
   ],
   "source": [
    "# strong augmentations\n",
    "results = evaluate(model, val_data, num_workers=8,batch_size=32)\n",
    "pprint.pprint(results)\n",
    "pred_dict = get_predictions_and_ground_truth(model, val_data,num_workers=8,batch_size=32)\n",
    "pred = pred_dict[\"predictions_3d\"]\n",
    "gt = pred_dict[\"ground_truth_3d\"]\n",
    "sts =calculate_epe_statistics(pred, gt, dim=3)\n",
    "eucledian_dist = sts['eucledian_dist']\n",
    "y,x = get_pck_curves(eucledian_dist, per_joint=True)\n",
    "auc = cal_auc_joints(eucledian_dist, per_joint=True)\n",
    "print(f\"AUC : {np.mean(auc)}\")"
   ]
  },
  {
   "cell_type": "code",
   "execution_count": null,
   "metadata": {
    "ExecuteTime": {
     "end_time": "2020-10-21T15:39:52.691943Z",
     "start_time": "2020-10-21T15:39:38.868961Z"
    },
    "cell_style": "split"
   },
   "outputs": [],
   "source": [
    "# weak augmentations\n",
    "results = evaluate(model, val_data, num_workers=8,batch_size=32)\n",
    "pprint.pprint(results)\n",
    "pred_dict = get_predictions_and_ground_truth(model, val_data,num_workers=8,batch_size=32)\n",
    "pred = pred_dict[\"predictions_3d\"]\n",
    "gt = pred_dict[\"ground_truth_3d\"]\n",
    "sts =calculate_epe_statistics(pred, gt, dim=3)\n",
    "eucledian_dist = sts['eucledian_dist']\n",
    "y,x = get_pck_curves(eucledian_dist, per_joint=True)\n",
    "auc = cal_auc_joints(eucledian_dist, per_joint=True)\n",
    "print(f\"AUC : {np.mean(auc)}\")"
   ]
  },
  {
   "cell_type": "markdown",
   "metadata": {
    "heading_collapsed": true
   },
   "source": [
    "#  Visualize sample predictions"
   ]
  },
  {
   "cell_type": "code",
   "execution_count": null,
   "metadata": {
    "ExecuteTime": {
     "end_time": "2020-10-21T15:44:13.232975Z",
     "start_time": "2020-10-21T15:44:13.214938Z"
    },
    "hidden": true
   },
   "outputs": [],
   "source": [
    "model.to(torch.device('cpu'))\n",
    "print()"
   ]
  },
  {
   "cell_type": "code",
   "execution_count": null,
   "metadata": {
    "ExecuteTime": {
     "end_time": "2020-10-21T15:44:15.742132Z",
     "start_time": "2020-10-21T15:44:15.451405Z"
    },
    "cell_style": "split",
    "code_folding": [
     0
    ],
    "hidden": true
   },
   "outputs": [],
   "source": [
    "@interact(idx=widgets.IntSlider(min=1, max=100, step=5, value=3),plot_gt= widgets.Checkbox(value=True, description='Ground truth'),\n",
    "         plot_pred= widgets.Checkbox(value=True, description='Predicted_labels'))\n",
    "def visualize1(idx, plot_gt, plot_pred):\n",
    "    sample = val_data[idx]\n",
    "    joints = sample[\"joints\"]\n",
    "    img = sample[\"image\"]\n",
    "    img_input = img.view(([1]+list(img.shape)))\n",
    "    prediction = model(img_input).view(21,3).detach().numpy()\n",
    "    fig = plt.figure(figsize=(8, 8))\n",
    "    ax = fig.add_subplot(111)\n",
    "    plt.imshow(transforms.ToPILImage()(img))\n",
    "    if plot_gt:\n",
    "       plot_hand(ax, joints)\n",
    "    if plot_pred:\n",
    "        plot_hand(ax, prediction,linestyle=':' )\n",
    "    plt.show()"
   ]
  },
  {
   "cell_type": "code",
   "execution_count": null,
   "metadata": {
    "ExecuteTime": {
     "end_time": "2020-10-21T15:34:36.937697Z",
     "start_time": "2020-10-21T15:34:36.792079Z"
    },
    "cell_style": "split",
    "code_folding": [],
    "hidden": true
   },
   "outputs": [],
   "source": [
    "@interact(joint_id=widgets.IntSlider(min=0, max=20, step=1, value=3))\n",
    "\n",
    "def visualize2(joint_id):\n",
    "    fig = plt.figure(figsize=(8, 8))\n",
    "    ax = fig.add_subplot(111)\n",
    "    plt.plot(x,y[joint_id])\n",
    "    plt.title(f\"PCK curve, AUC: {auc[joint_id]}\")\n",
    "    plt.plot(x,np.mean(y,axis=0), color='black',linestyle=\":\" ,alpha=0.5)\n",
    "    plt.xlabel(\"error in mm\")\n",
    "    plt.ylabel(\"Ratio of points below the error\")\n",
    "    plt.legend([f\"PCK curve for {joints_mapping[joint_id]}\", \"Average PCK curve\"])\n",
    "    plt.show()"
   ]
  },
  {
   "cell_type": "code",
   "execution_count": null,
   "metadata": {
    "hidden": true
   },
   "outputs": [],
   "source": []
  }
 ],
 "metadata": {
  "kernelspec": {
   "display_name": "Python 3",
   "language": "python",
   "name": "python3"
  },
  "language_info": {
   "codemirror_mode": {
    "name": "ipython",
    "version": 3
   },
   "file_extension": ".py",
   "mimetype": "text/x-python",
   "name": "python",
   "nbconvert_exporter": "python",
   "pygments_lexer": "ipython3",
   "version": "3.6.9"
  },
  "toc": {
   "base_numbering": 1,
   "nav_menu": {},
   "number_sections": true,
   "sideBar": true,
   "skip_h1_title": false,
   "title_cell": "Table of Contents",
   "title_sidebar": "Contents",
   "toc_cell": false,
   "toc_position": {},
   "toc_section_display": true,
   "toc_window_display": false
  },
  "varInspector": {
   "cols": {
    "lenName": 16,
    "lenType": 16,
    "lenVar": 40
   },
   "kernels_config": {
    "python": {
     "delete_cmd_postfix": "",
     "delete_cmd_prefix": "del ",
     "library": "var_list.py",
     "varRefreshCmd": "print(var_dic_list())"
    },
    "r": {
     "delete_cmd_postfix": ") ",
     "delete_cmd_prefix": "rm(",
     "library": "var_list.r",
     "varRefreshCmd": "cat(var_dic_list()) "
    }
   },
   "types_to_exclude": [
    "module",
    "function",
    "builtin_function_or_method",
    "instance",
    "_Feature"
   ],
   "window_display": false
  }
 },
 "nbformat": 4,
 "nbformat_minor": 4
}
