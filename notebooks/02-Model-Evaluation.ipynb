{
 "cells": [
  {
   "cell_type": "markdown",
   "metadata": {
    "ExecuteTime": {
     "end_time": "2020-10-07T15:30:06.981311Z",
     "start_time": "2020-10-07T15:30:06.979814Z"
    }
   },
   "source": [
    " <center><font size=\"8\">Model Evaluation</font></center>"
   ]
  },
  {
   "cell_type": "code",
   "execution_count": 2,
   "metadata": {
    "ExecuteTime": {
     "end_time": "2021-01-08T13:11:35.663800Z",
     "start_time": "2021-01-08T13:11:34.730234Z"
    }
   },
   "outputs": [],
   "source": [
    "# Import libraries\n",
    "import os\n",
    "import copy\n",
    "from tqdm.notebook import tqdm\n",
    "import pprint\n",
    "from ipywidgets import interact, GridspecLayout, interactive, interact_manual,Layout\n",
    "import ipywidgets as widgets\n",
    "from IPython.display import display\n",
    "import torch\n",
    "from src.constants import DATA_PATH, MASTER_THESIS_DIR, TRAINING_CONFIG_PATH, SAVED_MODELS_BASE_PATH,SUPERVISED_CONFIG_PATH\n",
    "import pandas as pd\n",
    "from src.data_loader.data_set import Data_Set\n",
    "# from src.experiments.utils import get_experiement_args, process_experiment_args\n",
    "from src.models.baseline_model import BaselineModel\n",
    "from src.utils import get_console_logger, read_json\n",
    "from src.visualization.visualize import plot_hand\n",
    "from torch.utils.data import DataLoader\n",
    "from torchvision import transforms\n",
    "from easydict import EasyDict as edict\n",
    "import matplotlib.pyplot as plt\n",
    "from src.data_loader.utils import convert_2_5D_to_3D, convert_to_2_5D\n",
    "from src.experiments.evaluation_utils import calculate_epe_statistics, evaluate,get_predictions_and_ground_truth, cal_auc_joints, get_pck_curves\n",
    "from src.data_loader.utils import get_train_val_split\n",
    "from src.models.supervised_head_model import SupervisedHead\n",
    "from IPython.display import clear_output\n",
    "from src.experiments.utils import restore_model\n",
    "import numpy as np\n",
    "from src.models.denoised_baseline import DenoisedBaselineModel"
   ]
  },
  {
   "cell_type": "code",
   "execution_count": 3,
   "metadata": {
    "ExecuteTime": {
     "end_time": "2021-01-08T13:11:35.685426Z",
     "start_time": "2021-01-08T13:11:35.683489Z"
    }
   },
   "outputs": [],
   "source": [
    "# global variables:\n",
    "results = None\n",
    "model = None\n",
    "x=y=None\n",
    "params = {\"ytick.color\" : \"w\",\n",
    "          \"xtick.color\" : \"w\",\n",
    "          \"axes.labelcolor\" : \"w\",\n",
    "          \"axes.edgecolor\" : \"w\",\n",
    "         \"text.color\":\"w\"}\n",
    "plt.rcParams.update(params)"
   ]
  },
  {
   "cell_type": "code",
   "execution_count": 4,
   "metadata": {
    "ExecuteTime": {
     "end_time": "2021-01-08T13:11:36.818281Z",
     "start_time": "2021-01-08T13:11:35.704736Z"
    }
   },
   "outputs": [
    {
     "data": {
      "application/vnd.jupyter.widget-view+json": {
       "model_id": "11ca1d927fb94d16bdf308e9f6781866",
       "version_major": 2,
       "version_minor": 0
      },
      "text/plain": [
       "interactive(children=(Dropdown(description='source', index=1, options=('interhand', 'freihand'), value='freiha…"
      ]
     },
     "metadata": {},
     "output_type": "display_data"
    }
   ],
   "source": [
    "# Load configuration\n",
    "model_config = edict(read_json(SUPERVISED_CONFIG_PATH))\n",
    "joints_mapping = {\n",
    "    v: k\n",
    "    for k, v in read_json(f\"{MASTER_THESIS_DIR}/src/data_loader/joint_mapping.json\")[\n",
    "        \"ait\"\n",
    "    ].items()\n",
    "}\n",
    "train_param = edict(\n",
    "    read_json(f\"{MASTER_THESIS_DIR}/src/experiments/config/training_config.json\")\n",
    ")\n",
    "train_data = None\n",
    "\n",
    "\n",
    "@interact(\n",
    "    source=widgets.Dropdown(\n",
    "        options=[\"interhand\", \"freihand\"],\n",
    "        value=\"freihand\",\n",
    "        description=\"source\",\n",
    "        disabled=False,\n",
    "    )\n",
    ")\n",
    "def select_data(source):\n",
    "    global train_data\n",
    "    train_data = Data_Set(\n",
    "        config=train_param,\n",
    "        transform=transforms.ToTensor(),\n",
    "        train_set=False,\n",
    "        experiment_type=\"supervised\",\n",
    "        source=source,\n",
    "    )"
   ]
  },
  {
   "cell_type": "code",
   "execution_count": 5,
   "metadata": {
    "ExecuteTime": {
     "end_time": "2021-01-08T13:11:36.889788Z",
     "start_time": "2021-01-08T13:11:36.839262Z"
    }
   },
   "outputs": [],
   "source": [
    "def select_augmentations(idx,random_crop,crop,color_jitter,cut_out, resize, color_drop,gaussian_blur,rotate,sobel_filter,gaussian_noise, training):\n",
    "    global train_data\n",
    "    train_param.augmentation_flags.random_crop = random_crop\n",
    "    train_param.augmentation_flags.crop = crop\n",
    "    train_param.augmentation_flags.color_jitter = color_jitter\n",
    "    train_param.augmentation_flags.cut_out = cut_out\n",
    "    train_param.augmentation_flags.resize = resize\n",
    "    train_param.augmentation_flags.color_drop = color_drop\n",
    "    train_param.augmentation_flags.gaussian_blur = gaussian_blur\n",
    "    train_param.augmentation_flags.rotate = rotate\n",
    "    train_param.augmentation_flags.sobel_filter = sobel_filter\n",
    "    train_param.augmentation_flags.gaussian_noise = gaussian_noise\n",
    "    train_data.augmenter = train_data.get_sample_augmenter(\n",
    "        train_param.augmentation_params, train_param.augmentation_flags\n",
    "    )\n",
    "    train_data.is_training(training)\n",
    "    sample = train_data[idx]\n",
    "    joints = sample[\"joints\"]\n",
    "    img = torch.flip(sample[\"image\"],(0,))\n",
    "    fig = plt.figure(figsize=(5, 5))\n",
    "    ax = fig.add_subplot(111)\n",
    "    plt.imshow(transforms.ToPILImage()(img))\n",
    "    plt.xticks([])\n",
    "    plt.yticks([])\n",
    "    plt.title(\"Augmentated sample\",fontsize=20)\n",
    "    plot_hand(ax, joints)\n",
    "    return ax\n",
    "\n",
    "font_size =4\n",
    "augmentation_updated_interact = interactive(select_augmentations,\n",
    "    idx = widgets.IntSlider(min=1, max=3000, step=5, value=3),\n",
    "    random_crop=widgets.Checkbox(value=False, description=f\"<font size='{font_size}'>Random crop</font>\"),\n",
    "    crop=widgets.Checkbox(value=True, description=f\"<font size='{font_size}'>Crop</font>\"),\n",
    "    color_jitter=widgets.Checkbox(value=False, description=f\"<font size='{font_size}'>Color jitter</font>\"),\n",
    "    cut_out=widgets.Checkbox(value=False, description=f\"<font size='{font_size}'>Cut out</font>\"),\n",
    "    resize=widgets.Checkbox(value=True, description=f\"<font size='{font_size}'>Resize</font>\"),\n",
    "    color_drop=widgets.Checkbox(value=False, description=f\"<font size='{font_size}'>Color drop</font>\"),\n",
    "    rotate=widgets.Checkbox(value=False, description=f\"<font size='{font_size}'>Rotate</font>\"),\n",
    "    gaussian_blur=widgets.Checkbox(value=False, description=f\"<font size='{font_size}'>Blur(gaussian)</font>\"),\n",
    "    gaussian_noise=widgets.Checkbox(value=False, description=f\"<font size='{font_size}'>Noise(gaussian)</font>\"),\n",
    "    sobel_filter=widgets.Checkbox(value=False, description=f\"<font size='{font_size}'>sobel_filter</font>\"),\n",
    "    training = widgets.Checkbox(value=False, description=f\"<font size='{font_size}'>Train set</font>\"),)\n",
    "augmentation_checkboxes = augmentation_updated_interact.children[:-1]\n",
    "augmentation_grid = GridspecLayout(6,4, height='400px')\n",
    "for i in range(5):\n",
    "    for j in range(2):\n",
    "        augmentation_grid[i,j] = augmentation_checkboxes[i*2+j+1]\n",
    "augmentation_grid[5,2:] = augmentation_updated_interact.children[0]\n",
    "augmentation_grid[2,3] = augmentation_updated_interact.children[-2]\n",
    "augmentation_grid[:5,2:3] = augmentation_updated_interact.children[-1]\n",
    "# augmentation_grid[:5,3:].layout.height = 'auto'\n",
    "augmentation_updated_interact.children[0].description = f\"<font size='{font_size}'>Index</font>\""
   ]
  },
  {
   "cell_type": "markdown",
   "metadata": {},
   "source": [
    "<font size=\"6\">Select augmentations</font>"
   ]
  },
  {
   "cell_type": "code",
   "execution_count": 7,
   "metadata": {
    "ExecuteTime": {
     "end_time": "2020-12-10T16:32:17.543496Z",
     "start_time": "2020-12-10T16:32:17.525172Z"
    },
    "cell_style": "center"
   },
   "outputs": [
    {
     "data": {
      "application/vnd.jupyter.widget-view+json": {
       "model_id": "56e07482d57b41f39a8c74fac596c1dd",
       "version_major": 2,
       "version_minor": 0
      },
      "text/plain": [
       "GridspecLayout(children=(Checkbox(value=False, description=\"<font size='4'>Random crop</font>\", layout=Layout(…"
      ]
     },
     "metadata": {},
     "output_type": "display_data"
    }
   ],
   "source": [
    "display(augmentation_grid)"
   ]
  },
  {
   "cell_type": "markdown",
   "metadata": {},
   "source": [
    "<font size=\"6\">Load Model</font>"
   ]
  },
  {
   "cell_type": "code",
   "execution_count": 1,
   "metadata": {
    "ExecuteTime": {
     "end_time": "2021-01-08T13:15:44.941631Z",
     "start_time": "2021-01-08T13:15:44.925807Z"
    },
    "code_folding": [
     79
    ]
   },
   "outputs": [
    {
     "ename": "NameError",
     "evalue": "name 'GridspecLayout' is not defined",
     "output_type": "error",
     "traceback": [
      "\u001b[0;31m---------------------------------------------------------------------------\u001b[0m",
      "\u001b[0;31mNameError\u001b[0m                                 Traceback (most recent call last)",
      "\u001b[0;32m<ipython-input-1-4a7073bee2b9>\u001b[0m in \u001b[0;36m<module>\u001b[0;34m\u001b[0m\n\u001b[1;32m    109\u001b[0m \u001b[0;34m\u001b[0m\u001b[0m\n\u001b[1;32m    110\u001b[0m \u001b[0;34m\u001b[0m\u001b[0m\n\u001b[0;32m--> 111\u001b[0;31m \u001b[0mload_calculate_button_grid\u001b[0m \u001b[0;34m=\u001b[0m \u001b[0mGridspecLayout\u001b[0m\u001b[0;34m(\u001b[0m\u001b[0;36m3\u001b[0m\u001b[0;34m,\u001b[0m \u001b[0;36m4\u001b[0m\u001b[0;34m,\u001b[0m \u001b[0mheight\u001b[0m\u001b[0;34m=\u001b[0m\u001b[0;34m\"100px\"\u001b[0m\u001b[0;34m)\u001b[0m\u001b[0;34m\u001b[0m\u001b[0;34m\u001b[0m\u001b[0m\n\u001b[0m\u001b[1;32m    112\u001b[0m \u001b[0mload_calculate_display_grid\u001b[0m \u001b[0;34m=\u001b[0m \u001b[0mGridspecLayout\u001b[0m\u001b[0;34m(\u001b[0m\u001b[0;36m5\u001b[0m\u001b[0;34m,\u001b[0m \u001b[0;36m4\u001b[0m\u001b[0;34m,\u001b[0m \u001b[0mheight\u001b[0m\u001b[0;34m=\u001b[0m\u001b[0;34m\"300px\"\u001b[0m\u001b[0;34m)\u001b[0m\u001b[0;34m\u001b[0m\u001b[0;34m\u001b[0m\u001b[0m\n\u001b[1;32m    113\u001b[0m \u001b[0mdisplay\u001b[0m\u001b[0;34m(\u001b[0m\u001b[0mload_calculate_button_grid\u001b[0m\u001b[0;34m)\u001b[0m\u001b[0;34m\u001b[0m\u001b[0;34m\u001b[0m\u001b[0m\n",
      "\u001b[0;31mNameError\u001b[0m: name 'GridspecLayout' is not defined"
     ]
    }
   ],
   "source": [
    "def load_model(key, denoiser):\n",
    "    global model\n",
    "    print(f\"Loading latest checkpoint of {key}\")\n",
    "    try:\n",
    "        model_config.saved_model_name = key\n",
    "        model_config.checkpoint = \"\"\n",
    "        # semi supervised model\n",
    "        if denoiser:\n",
    "            model = DenoisedBaselineModel(model_config)\n",
    "        else:\n",
    "            model = SupervisedHead(\n",
    "                model_config,\n",
    "            )\n",
    "        model = restore_model(model, key, \"\")\n",
    "        model.eval()\n",
    "        print(\"Model loaded successfully!\")\n",
    "    except Exception as e:\n",
    "        print(e)\n",
    "        model = None\n",
    "        print(f\"Experiment {key} not found !\")\n",
    "\n",
    "\n",
    "def calc_results():\n",
    "    global x, y\n",
    "    global results\n",
    "    global model\n",
    "    global train_data\n",
    "    val_data = train_data\n",
    "    if model is not None:\n",
    "        clear_output(wait=True)\n",
    "        print(\n",
    "            f\"Calculating results on validation set formed with seed {train_param.seed}\"\n",
    "        )\n",
    "        prediction_dict = get_predictions_and_ground_truth(\n",
    "            model, val_data, num_workers=8, batch_size=128\n",
    "        )\n",
    "        epe_2D = calculate_epe_statistics(\n",
    "            prediction_dict[\"predictions\"], prediction_dict[\"ground_truth\"], dim=2\n",
    "        )\n",
    "        epe_3D = calculate_epe_statistics(\n",
    "            prediction_dict[\"predictions_3d\"], prediction_dict[\"ground_truth_3d\"], dim=3\n",
    "        )\n",
    "        epe_3D_recreated = calculate_epe_statistics(\n",
    "            prediction_dict[\"predictions_3d\"],\n",
    "            prediction_dict[\"ground_truth_recreated_3d\"],\n",
    "            dim=3,\n",
    "        )\n",
    "        epe_3D__gt_vs_3D_recreated = calculate_epe_statistics(\n",
    "            prediction_dict[\"ground_truth_3d\"],\n",
    "            prediction_dict[\"ground_truth_recreated_3d\"],\n",
    "            dim=3,\n",
    "        )\n",
    "        if hasattr(model, \"denoiser\"):\n",
    "            epe_3D_gt_vs_denoised = calculate_epe_statistics(\n",
    "                prediction_dict[\"ground_truth_3d\"],\n",
    "                prediction_dict[\"predictions_3d_denoised\"],\n",
    "                dim=3,\n",
    "            )\n",
    "            auc_denoised = np.mean(cal_auc_joints(epe_3D_gt_vs_denoised[\"eucledian_dist\"]))\n",
    "            denoised_results = {\n",
    "            \"Mean_EPE_3D_denoised\": epe_3D_gt_vs_denoised[\"mean\"].cpu(),\n",
    "            \"Median_EPE_3D_denoised\": epe_3D_gt_vs_denoised[\"median\"].cpu(),\n",
    "            \"auc_denoised\": auc_denoised,\n",
    "        }\n",
    "        else:\n",
    "            denoised_results ={}\n",
    "        eucledian_dist = epe_3D[\"eucledian_dist\"]\n",
    "        y, x = get_pck_curves(eucledian_dist, per_joint=True)\n",
    "        auc = cal_auc_joints(eucledian_dist, per_joint=True)\n",
    "        results = {**{\n",
    "            \"Mean_EPE_2D\": epe_2D[\"mean\"].cpu().numpy(),\n",
    "            \"Median_EPE_2D\": epe_2D[\"median\"].cpu().numpy(),\n",
    "            \"Mean_EPE_3D\": epe_3D[\"mean\"].cpu().numpy(),\n",
    "            \"Median_EPE_3D\": epe_3D[\"median\"].cpu().numpy(),\n",
    "            \"Mean_EPE_3D_R\": epe_3D_recreated[\"mean\"].cpu().numpy(),\n",
    "            \"Median_EPE_3D_R\": epe_3D_recreated[\"median\"].cpu().numpy(),\n",
    "            \"Mean_EPE_3D_R_v_3D\": epe_3D__gt_vs_3D_recreated[\"mean\"].cpu().numpy(),\n",
    "            \"Median_EPE_3D_R_V_3D\": epe_3D__gt_vs_3D_recreated[\"median\"].cpu().numpy(),\n",
    "            \"AUC\": np.mean(auc),\n",
    "        },**denoised_results}\n",
    "        clear_output(wait=True)\n",
    "        results_df = pd.DataFrame.from_dict(\n",
    "            {k: [\"{:.3f}\".format(float(v))] for k, v in results.items()}\n",
    "        ).T\n",
    "        results_df = results_df.rename(columns={0: \"value\"})\n",
    "        results_df.index.name = \"Metric\"\n",
    "        results_df = results_df.reset_index()\n",
    "        del prediction_dict\n",
    "        return display(results_df)\n",
    "    else:\n",
    "        return \"No model selected!\", \"Nothing to plot in AUC\"\n",
    "\n",
    "\n",
    "def plot_results():\n",
    "    global x, y\n",
    "    global results\n",
    "    if results is not None:\n",
    "        fig = plt.figure(figsize=(5, 5))\n",
    "        ax = fig.add_subplot(111)\n",
    "        ax.set_facecolor(\"black\")\n",
    "        plt.plot(x, np.mean(y, axis=0), color=\"green\", linewidth=\"1\", alpha=1)\n",
    "        plt.xlabel(\"error in mm\", fontsize=12)\n",
    "        plt.ylabel(\"Ratio of points below the error\", fontsize=12)\n",
    "        plt.legend([\"Average PCK curve\"], facecolor=\"black\")\n",
    "        plt.title(f\"AUC: {results['AUC']}\")\n",
    "        return ax\n",
    "    else:\n",
    "        print(\"Calculate Results first!\")\n",
    "\n",
    "\n",
    "load_calculate_button_grid = GridspecLayout(3, 4, height=\"100px\")\n",
    "load_calculate_display_grid = GridspecLayout(5, 4, height=\"300px\")\n",
    "display(load_calculate_button_grid)\n",
    "display(load_calculate_display_grid)\n",
    "\n",
    "load_model_interact = interactive(\n",
    "    load_model,\n",
    "    {\"manual\": True},\n",
    "    key=widgets.Text(\n",
    "        value=\"1c4fda5d61ef4d5b93ced45e4e86d795\",\n",
    "        description=f\"<font size='{font_size}'>Experiment</font>\",\n",
    "    ),\n",
    "    denoiser=widgets.Checkbox(\n",
    "        value=False, description=f\"<font size='{font_size}'>Denoiser</font>\"\n",
    "    ),\n",
    ")\n",
    "plot_pck_interact = interactive(plot_results, {\"manual\": True})\n",
    "calculate_result_interact = interactive(calc_results, {\"manual\": True})\n",
    "experiment_key_textbox = load_model_interact.children[0]\n",
    "load_model_button = load_model_interact.children[2]\n",
    "load_model_checkbox = load_model_interact.children[1]\n",
    "load_model_button.description = \"Load model\"\n",
    "plot_result_button = plot_pck_interact.children[0]\n",
    "plot_result_button.description = \"Plot pck curve\"\n",
    "calculate_result_interact.children[0].description = \"Results\"\n",
    "\n",
    "load_calculate_button_grid[0, 0] = experiment_key_textbox\n",
    "load_calculate_button_grid[1,0] = load_model_checkbox\n",
    "load_calculate_button_grid[0, 1] = load_model_button\n",
    "load_calculate_display_grid[0:, 0] = load_model_interact.children[-1]\n",
    "load_calculate_button_grid[0, 2] = calculate_result_interact.children[0]\n",
    "load_calculate_button_grid[0, 3] = plot_result_button\n",
    "load_calculate_display_grid[0:, 2:3] = calculate_result_interact.children[-1]\n",
    "load_calculate_display_grid[0:, 3:] = plot_pck_interact.children[-1]\n",
    "# load_calculate_result_grid[1:,0] = load_model_interact.children[-1]\n",
    "# load_calculate_result_grid[1:,1:] = calculate_result_interact.widget.children[-1]["
   ]
  },
  {
   "cell_type": "markdown",
   "metadata": {
    "ExecuteTime": {
     "end_time": "2020-12-02T22:21:37.745050Z",
     "start_time": "2020-12-02T22:21:37.742308Z"
    }
   },
   "source": [
    "<font size=\"6\">Visualize results</font>"
   ]
  },
  {
   "cell_type": "code",
   "execution_count": 95,
   "metadata": {
    "ExecuteTime": {
     "end_time": "2020-12-03T00:19:16.816885Z",
     "start_time": "2020-12-03T00:19:16.790732Z"
    },
    "cell_style": "center",
    "code_folding": []
   },
   "outputs": [
    {
     "data": {
      "application/vnd.jupyter.widget-view+json": {
       "model_id": "3a0cbd34cb794f4fbc5e0f48673cf9e1",
       "version_major": 2,
       "version_minor": 0
      },
      "text/plain": [
       "GridspecLayout(children=(Checkbox(value=True, description=\"<font size='4'>Prediction</font>\", layout=Layout(gr…"
      ]
     },
     "metadata": {},
     "output_type": "display_data"
    }
   ],
   "source": [
    "def visualize1(idx, plot_gt, plot_pred):\n",
    "    global model, train_data\n",
    "    if model is not None:\n",
    "        model.to(torch.device('cpu'))\n",
    "        model.eval()\n",
    "        sample = train_data[idx]\n",
    "        joints = sample[\"joints\"]\n",
    "        img = sample[\"image\"]\n",
    "        img_input = img.view(([1]+list(img.shape)))\n",
    "        prediction = model(img_input).view(21,3).detach().numpy()\n",
    "        fig = plt.figure(figsize=(5, 5))\n",
    "        ax = fig.add_subplot(111)\n",
    "        plt.imshow(transforms.ToPILImage()(img))\n",
    "        ax.set_facecolor('black')\n",
    "        if plot_gt:\n",
    "           plot_hand(ax, joints)\n",
    "        if plot_pred:\n",
    "            plot_hand(ax, prediction,linestyle=':' )\n",
    "        plt.xticks([])\n",
    "        plt.yticks([])\n",
    "        return ax\n",
    "    else:\n",
    "        print(\"Model is not defined!\")\n",
    "\n",
    "visualize_predictions = interactive(visualize1, idx = widgets.IntSlider(min=1, max=3000, step=5, value=3),plot_gt= widgets.Checkbox(value=True, description=f\"<font size='{font_size}'>Ground truth</font>\"),\n",
    "         plot_pred= widgets.Checkbox(value=True, description=f\"<font size='{font_size}'>Prediction</font>\")\n",
    "           )\n",
    "visualize_grid = GridspecLayout(4,3, height=\"400px\")\n",
    "visualize_grid[1,0] = visualize_predictions.children[2]\n",
    "visualize_grid[2,0] = visualize_predictions.children[1]\n",
    "visualize_grid[:3,1:] = visualize_predictions.children[-1]\n",
    "visualize_grid[3,1] = visualize_predictions.children[0]\n",
    "visualize_predictions.children[0].description = f\"<font size='{font_size}'>Index</font>\"\n",
    "display(visualize_grid)"
   ]
  },
  {
   "cell_type": "code",
   "execution_count": null,
   "metadata": {},
   "outputs": [],
   "source": []
  }
 ],
 "metadata": {
  "kernelspec": {
   "display_name": "Python 3",
   "language": "python",
   "name": "python3"
  },
  "language_info": {
   "codemirror_mode": {
    "name": "ipython",
    "version": 3
   },
   "file_extension": ".py",
   "mimetype": "text/x-python",
   "name": "python",
   "nbconvert_exporter": "python",
   "pygments_lexer": "ipython3",
   "version": "3.8.5"
  },
  "toc": {
   "base_numbering": 1,
   "nav_menu": {},
   "number_sections": true,
   "sideBar": true,
   "skip_h1_title": false,
   "title_cell": "Table of Contents",
   "title_sidebar": "Contents",
   "toc_cell": false,
   "toc_position": {},
   "toc_section_display": true,
   "toc_window_display": false
  },
  "varInspector": {
   "cols": {
    "lenName": 16,
    "lenType": 16,
    "lenVar": 40
   },
   "kernels_config": {
    "python": {
     "delete_cmd_postfix": "",
     "delete_cmd_prefix": "del ",
     "library": "var_list.py",
     "varRefreshCmd": "print(var_dic_list())"
    },
    "r": {
     "delete_cmd_postfix": ") ",
     "delete_cmd_prefix": "rm(",
     "library": "var_list.r",
     "varRefreshCmd": "cat(var_dic_list()) "
    }
   },
   "types_to_exclude": [
    "module",
    "function",
    "builtin_function_or_method",
    "instance",
    "_Feature"
   ],
   "window_display": false
  }
 },
 "nbformat": 4,
 "nbformat_minor": 4
}
