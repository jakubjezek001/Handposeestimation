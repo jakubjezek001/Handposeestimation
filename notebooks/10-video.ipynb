{
 "cells": [
  {
   "cell_type": "code",
   "execution_count": null,
   "metadata": {},
   "outputs": [],
   "source": []
  },
  {
   "cell_type": "code",
   "execution_count": 81,
   "metadata": {
    "ExecuteTime": {
     "end_time": "2020-11-09T15:32:18.926948Z",
     "start_time": "2020-11-09T15:32:18.923889Z"
    }
   },
   "outputs": [],
   "source": [
    "import os\n",
    "import torch\n",
    "from torchvision import transforms\n",
    "from torch.utils.data import DataLoader\n",
    "from src.data_loader.data_set import Data_Set\n",
    "from src.data_loader.utils import get_train_val_split\n",
    "from src.constants import MASTER_THESIS_DIR, FREIHAND_DATA\n",
    "from src.utils import read_json\n",
    "import matplotlib.pyplot as plt\n",
    "from ipywidgets import interact\n",
    "import ipywidgets as widgets\n",
    "from IPython.display import display\n",
    "import copy\n",
    "from easydict import EasyDict as edict\n",
    "from src.utils import read_json\n",
    "from src.visualization.visualize import plot_hand\n",
    "import cv2\n",
    "from src.data_loader.utils import convert_2_5D_to_3D, convert_to_2_5D"
   ]
  },
  {
   "cell_type": "code",
   "execution_count": 111,
   "metadata": {
    "ExecuteTime": {
     "end_time": "2020-11-09T15:46:03.791027Z",
     "start_time": "2020-11-09T15:46:02.759789Z"
    }
   },
   "outputs": [],
   "source": [
    "train_param = edict(\n",
    "    read_json(f\"{MASTER_THESIS_DIR}/src/experiments/config/training_config.json\")\n",
    ")\n",
    "train_param = edict(\n",
    "    read_json(f\"{MASTER_THESIS_DIR}/src/experiments/config/training_config.json\")\n",
    ")\n",
    "train_param.augmentation_order = []  # ['rotate','crop', 'gaussian_blur','resize']\n",
    "train_param.augmentation_params.crop_margin= 1.5\n",
    "# train_param.augmentation_params.hue_factor_range=[0.1,1]\n",
    "# train_param.augmentation_params.sat_factor_range=[0.1,1]\n",
    "# train_param.augmentation_params.value_factor_beta_range= [0,0]\n",
    "# train_param.augmentation_params.value_factor_alpha_range= [0.1 ,.1]\n",
    "train_param.augmentation_flags = {\n",
    "    \"color_drop\": False,\n",
    "    \"color_jitter\": False,\n",
    "    \"crop\": False,\n",
    "    \"cut_out\": False,\n",
    "    \"flip\": False,\n",
    "    \"gaussian_blur\": False,\n",
    "    \"random_crop\": False,\n",
    "    \"resize\": False,\n",
    "    \"rotate\": False,\n",
    "}\n",
    "\n",
    "train_data = Data_Set(\n",
    "    config=train_param,\n",
    "    transform=None,\n",
    "    train_set=True,\n",
    "    experiment_type=\"supervised\",\n",
    ")\n",
    "val_data = copy.copy(train_data)\n",
    "val_data.is_training(False)\n",
    "\n",
    "train_data_loader, val_data_loader = get_train_val_split(\n",
    "    train_data,\n",
    "    batch_size=train_param.batch_size,\n",
    "    num_workers=train_param.num_workers,\n",
    ")"
   ]
  },
  {
   "cell_type": "code",
   "execution_count": 112,
   "metadata": {
    "ExecuteTime": {
     "end_time": "2020-11-09T15:46:04.987517Z",
     "start_time": "2020-11-09T15:46:04.848089Z"
    }
   },
   "outputs": [
    {
     "data": {
      "application/vnd.jupyter.widget-view+json": {
       "model_id": "0e03663f7c1449cfb65c4320dc1258a1",
       "version_major": 2,
       "version_minor": 0
      },
      "text/plain": [
       "interactive(children=(IntSlider(value=3, description='idx', max=3000, min=1, step=5), Output()), _dom_classes=…"
      ]
     },
     "metadata": {},
     "output_type": "display_data"
    }
   ],
   "source": [
    "@interact(\n",
    "    idx=widgets.IntSlider(min=1, max=3000, step=5, value=3))\n",
    "def visualize(idx):\n",
    "    train_data.experiment_type = \"supervised\"\n",
    "    sample = train_data[idx]\n",
    "    joints = sample[\"joints\"]\n",
    "    img = sample[\"image\"]\n",
    "#     print(img.numpy())\n",
    "    fig = plt.figure(figsize=(10,10))\n",
    "    ax = fig.add_subplot(111)\n",
    "    plt.imshow(transforms.ToPILImage()(cv2.cvtColor(img, cv2.COLOR_BGR2RGB)))\n",
    "    plt.xticks([])\n",
    "    plt.yticks([])\n",
    "#     plt.ylim([120 ,0])\n",
    "#     plt.xlim([-10, 110])\n",
    "#     plot_hand(ax, joints,linewidth='8',)\n",
    "#     plt.grid(True)\n",
    "#     plt.savefig(\"hand2.png\",bbox_inches='tight')"
   ]
  },
  {
   "cell_type": "code",
   "execution_count": 80,
   "metadata": {
    "ExecuteTime": {
     "end_time": "2020-11-09T13:02:49.432603Z",
     "start_time": "2020-11-09T13:02:49.195936Z"
    }
   },
   "outputs": [
    {
     "data": {
      "application/vnd.jupyter.widget-view+json": {
       "model_id": "4d9e2f14daa94a0a85341b98d8547b80",
       "version_major": 2,
       "version_minor": 0
      },
      "text/plain": [
       "interactive(children=(IntSlider(value=476, description='idx', max=3000, min=1, step=5), Output()), _dom_classe…"
      ]
     },
     "metadata": {},
     "output_type": "display_data"
    }
   ],
   "source": [
    "@interact(\n",
    "    idx=widgets.IntSlider(min=1, max=3000, step=5, value=476))\n",
    "def visualize(idx):\n",
    "    train_data.experiment_type = \"supervised\"\n",
    "    train_data.augmenter.rotate=True\n",
    "    train_data.augmenter.color_jitter=True\n",
    "    sample = train_data[idx]\n",
    "    joints = sample[\"joints\"]\n",
    "    img = sample[\"image\"]\n",
    "#     print(img.numpy())\n",
    "    fig = plt.figure(figsize=(10,10))\n",
    "    ax = fig.add_subplot(111)\n",
    "    plt.imshow(transforms.ToPILImage()(cv2.cvtColor(img, cv2.COLOR_BGR2RGB)))\n",
    "    plt.xticks([])\n",
    "    plt.yticks([])\n",
    "#     plt.ylim([120 ,0])\n",
    "#     plt.xlim([-10, 110])\n",
    "#     plot_hand(ax, joints,linewidth='8',)\n",
    "#     plt.grid(True)\n",
    "    plt.savefig(\"hand_augmented.png\",bbox_inches='tight')"
   ]
  },
  {
   "cell_type": "code",
   "execution_count": 103,
   "metadata": {
    "ExecuteTime": {
     "end_time": "2020-11-09T15:43:07.422025Z",
     "start_time": "2020-11-09T15:43:07.418154Z"
    }
   },
   "outputs": [],
   "source": [
    "import numpy as np\n",
    "import math as m\n",
    "  \n",
    "def Rx(theta):\n",
    "  return np.matrix([[ 1, 0           , 0           ],\n",
    "                   [ 0, m.cos(theta),-m.sin(theta)],\n",
    "                   [ 0, m.sin(theta), m.cos(theta)]])\n",
    "def Ry(theta):\n",
    "  return np.matrix([[ m.cos(theta), 0, m.sin(theta)],\n",
    "                   [ 0           , 1, 0           ],\n",
    "                   [-m.sin(theta), 0, m.cos(theta)]])\n",
    "def Rz(theta):\n",
    "  return np.matrix([[ m.cos(theta), -m.sin(theta), 0 ],\n",
    "                   [ m.sin(theta), m.cos(theta) , 0 ],\n",
    "                   [ 0           , 0            , 1 ]])"
   ]
  },
  {
   "cell_type": "code",
   "execution_count": 84,
   "metadata": {
    "ExecuteTime": {
     "end_time": "2020-11-09T15:34:15.442534Z",
     "start_time": "2020-11-09T15:34:15.439500Z"
    }
   },
   "outputs": [
    {
     "data": {
      "text/plain": [
       "matrix([[ 1.        ,  0.        ,  0.        ],\n",
       "        [ 0.        ,  0.15425145,  0.98803162],\n",
       "        [ 0.        , -0.98803162,  0.15425145]])"
      ]
     },
     "execution_count": 84,
     "metadata": {},
     "output_type": "execute_result"
    }
   ],
   "source": []
  },
  {
   "cell_type": "code",
   "execution_count": 113,
   "metadata": {
    "ExecuteTime": {
     "end_time": "2020-11-09T15:47:08.863595Z",
     "start_time": "2020-11-09T15:47:08.858109Z"
    }
   },
   "outputs": [],
   "source": [
    "idx = 2121\n",
    "train_data.experiment_type = \"supervised\"\n",
    "train_data.augmenter.rotate=False\n",
    "train_data.augmenter.color_jitter=False\n",
    "train_data.augmenter.resize=True\n",
    "sample = train_data[idx]"
   ]
  },
  {
   "cell_type": "code",
   "execution_count": 115,
   "metadata": {
    "ExecuteTime": {
     "end_time": "2020-11-09T15:47:19.608057Z",
     "start_time": "2020-11-09T15:47:19.527346Z"
    }
   },
   "outputs": [
    {
     "data": {
      "application/vnd.jupyter.widget-view+json": {
       "model_id": "18f2b7ade32042c494fd67caa832bd76",
       "version_major": 2,
       "version_minor": 0
      },
      "text/plain": [
       "interactive(children=(IntSlider(value=1, description='angle', max=360, min=1, step=5), Output()), _dom_classes…"
      ]
     },
     "metadata": {},
     "output_type": "display_data"
    }
   ],
   "source": [
    "@interact(\n",
    "#     idx=widgets.IntSlider(min=1, max=3000, step=5, value=1),\n",
    "angle=widgets.IntSlider(min=1, max=360, step=5, value=1))\n",
    "def visualize(angle):\n",
    "    joints , scale= convert_to_2_5D(sample[\"K\"],sample[\"joints3D\"] @ torch.Tensor(Rz(angle)) )\n",
    "#     print(joints)\n",
    "    img = sample[\"image\"]\n",
    "#     print(img.numpy())\n",
    "    fig = plt.figure(figsize=(10,10))\n",
    "    ax = fig.add_subplot(111)\n",
    "#     plt.imshow(transforms.ToPILImage()(cv2.cvtColor(img, cv2.COLOR_BGR2RGB)))\n",
    "    plt.xticks([])\n",
    "    plt.yticks([])\n",
    "#     plt.ylim([120 ,0])\n",
    "#     plt.xlim([-10, 110])\n",
    "    plot_hand(ax, joints,linewidth='8',)\n",
    "#     plt.grid(True)"
   ]
  },
  {
   "cell_type": "code",
   "execution_count": null,
   "metadata": {},
   "outputs": [],
   "source": []
  }
 ],
 "metadata": {
  "kernelspec": {
   "display_name": "Python 3",
   "language": "python",
   "name": "python3"
  },
  "language_info": {
   "codemirror_mode": {
    "name": "ipython",
    "version": 3
   },
   "file_extension": ".py",
   "mimetype": "text/x-python",
   "name": "python",
   "nbconvert_exporter": "python",
   "pygments_lexer": "ipython3",
   "version": "3.6.9"
  },
  "toc": {
   "base_numbering": 1,
   "nav_menu": {},
   "number_sections": true,
   "sideBar": true,
   "skip_h1_title": false,
   "title_cell": "Table of Contents",
   "title_sidebar": "Contents",
   "toc_cell": false,
   "toc_position": {},
   "toc_section_display": true,
   "toc_window_display": false
  },
  "varInspector": {
   "cols": {
    "lenName": 16,
    "lenType": 16,
    "lenVar": 40
   },
   "kernels_config": {
    "python": {
     "delete_cmd_postfix": "",
     "delete_cmd_prefix": "del ",
     "library": "var_list.py",
     "varRefreshCmd": "print(var_dic_list())"
    },
    "r": {
     "delete_cmd_postfix": ") ",
     "delete_cmd_prefix": "rm(",
     "library": "var_list.r",
     "varRefreshCmd": "cat(var_dic_list()) "
    }
   },
   "types_to_exclude": [
    "module",
    "function",
    "builtin_function_or_method",
    "instance",
    "_Feature"
   ],
   "window_display": false
  }
 },
 "nbformat": 4,
 "nbformat_minor": 4
}
